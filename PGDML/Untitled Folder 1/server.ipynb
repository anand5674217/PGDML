{
 "cells": [
  {
   "cell_type": "code",
   "execution_count": 1,
   "metadata": {},
   "outputs": [],
   "source": [
    "import socket\n",
    "from _thread import *\n",
    "import sys"
   ]
  },
  {
   "cell_type": "code",
   "execution_count": null,
   "metadata": {},
   "outputs": [
    {
     "name": "stdout",
     "output_type": "stream",
     "text": [
      "Waiting for connection. Server Started\n",
      "Connected to : ('192.168.29.87', 62559)\n"
     ]
    }
   ],
   "source": [
    "server= \"192.168.29.87\"\n",
    "port=5555\n",
    "\n",
    "s=socket.socket(socket.AF_INET,socket.SOCK_STREAM)\n",
    "try:\n",
    "    s.bind((server,port))\n",
    "except socket.error as e:\n",
    "    str(e)\n",
    "\n",
    "s.listen(2)\n",
    "print(\"Waiting for connection. Server Started\")\n",
    "\n",
    "def threaded_client(conn):\n",
    "    conn.send(str.encode(\"Connected\"))\n",
    "    reply=\"\"\n",
    "    while True:\n",
    "        try:\n",
    "            data=conn.recv(2048)\n",
    "            reply= data.decode(\"utf-8\")\n",
    "            \n",
    "            if not data:\n",
    "                print(\"Disconnected\")\n",
    "                break\n",
    "            else:\n",
    "                print(\"Recieved: \", reply)\n",
    "                print(\"Sending: \",reply)\n",
    "                \n",
    "            conn.sendall(str.encode(reply))\n",
    "        except :\n",
    "            break\n",
    "            \n",
    "    print(\"Lost connection\")\n",
    "    conn.close()\n",
    "\n",
    "while True:\n",
    "    conn,addr = s.accept()\n",
    "    print(\"Connected to :\",addr)\n",
    "    \n",
    "    start_new_thread(threaded_client,(conn,))"
   ]
  },
  {
   "cell_type": "code",
   "execution_count": null,
   "metadata": {},
   "outputs": [],
   "source": []
  }
 ],
 "metadata": {
  "kernelspec": {
   "display_name": "Python 3",
   "language": "python",
   "name": "python3"
  },
  "language_info": {
   "codemirror_mode": {
    "name": "ipython",
    "version": 3
   },
   "file_extension": ".py",
   "mimetype": "text/x-python",
   "name": "python",
   "nbconvert_exporter": "python",
   "pygments_lexer": "ipython3",
   "version": "3.8.5"
  }
 },
 "nbformat": 4,
 "nbformat_minor": 4
}
