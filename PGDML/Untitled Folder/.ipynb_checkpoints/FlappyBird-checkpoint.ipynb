{
 "cells": [
  {
   "cell_type": "code",
   "execution_count": 1,
   "metadata": {},
   "outputs": [],
   "source": [
    "#pip install pygame"
   ]
  },
  {
   "cell_type": "code",
   "execution_count": 14,
   "metadata": {},
   "outputs": [],
   "source": [
    "import pygame as py\n",
    "import sys"
   ]
  },
  {
   "cell_type": "code",
   "execution_count": 30,
   "metadata": {},
   "outputs": [
    {
     "ename": "SystemExit",
     "evalue": "",
     "output_type": "error",
     "traceback": [
      "An exception has occurred, use %tb to see the full traceback.\n",
      "\u001b[1;31mSystemExit\u001b[0m\n"
     ]
    },
    {
     "name": "stderr",
     "output_type": "stream",
     "text": [
      "C:\\Users\\anand\\anaconda3\\lib\\site-packages\\IPython\\core\\interactiveshell.py:3426: UserWarning: To exit: use 'exit', 'quit', or Ctrl-D.\n",
      "  warn(\"To exit: use 'exit', 'quit', or Ctrl-D.\", stacklevel=1)\n"
     ]
    }
   ],
   "source": [
    "def drawfloor():\n",
    "    screen.blit(floor_surface,(floor_x_pos,900))\n",
    "    screen.blit(floor_surface,(floor_x_pos+576,900))\n",
    "\n",
    "py.init()\n",
    "screen= py.display.set_mode((576,1024))\n",
    "clock=py.time.Clock()\n",
    "\n",
    "#Game variables\n",
    "gravity = 0.25\n",
    "bird_movement = 0\n",
    "\n",
    "bg_surface=py.image.load(\"assets/background-day.png\").convert()\n",
    "bg_surface=py.transform.scale2x(bg_surface)\n",
    "\n",
    "floor_surface=py.image.load('assets/base.png').convert()\n",
    "floor_surface=py.transform.scale2x(floor_surface)\n",
    "floor_x_pos=0\n",
    "\n",
    "    \n",
    "bird_surface= py.image.load('assets/bluebird-midflap.png').convert()\n",
    "bird_surface=py.transform.scale2x(bird_surface)\n",
    "bird_rect=bird_surface.get_rect(center = (100,512))\n",
    "\n",
    "while True:\n",
    "    #image of player1\n",
    "    #background image\n",
    "    \n",
    "    for event in py.event.get():\n",
    "        if event.type== py.QUIT :\n",
    "            py.quit()\n",
    "            sys.exit()\n",
    "            \n",
    "\n",
    "        \n",
    "    screen.blit(bg_surface,(0,0))\n",
    "    \n",
    "    bird_movement+= gravity\n",
    "    bird_rect.center+= bird_movement\n",
    "    screen.blit(bird_surface,bird_rect)\n",
    "    \n",
    "    floor_x_pos-= 1\n",
    "    drawfloor()\n",
    "    if(floor_x_pos <= -576):\n",
    "        floor_x_pos=0  \n",
    "        \n",
    "    screen.blit(floor_surface,(floor_x_pos,900))\n",
    "    py.display.update()\n",
    "    clock.tick(120)"
   ]
  },
  {
   "cell_type": "code",
   "execution_count": null,
   "metadata": {},
   "outputs": [],
   "source": []
  }
 ],
 "metadata": {
  "kernelspec": {
   "display_name": "Python 3",
   "language": "python",
   "name": "python3"
  },
  "language_info": {
   "codemirror_mode": {
    "name": "ipython",
    "version": 3
   },
   "file_extension": ".py",
   "mimetype": "text/x-python",
   "name": "python",
   "nbconvert_exporter": "python",
   "pygments_lexer": "ipython3",
   "version": "3.8.5"
  }
 },
 "nbformat": 4,
 "nbformat_minor": 4
}
