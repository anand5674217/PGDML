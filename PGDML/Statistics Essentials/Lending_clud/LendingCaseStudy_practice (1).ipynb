{
 "cells": [
  {
   "cell_type": "markdown",
   "metadata": {},
   "source": [
    "Import all necessary library."
   ]
  },
  {
   "cell_type": "code",
   "execution_count": 1,
   "metadata": {},
   "outputs": [],
   "source": [
    "import pandas as pd\n",
    "import numpy as np\n",
    "import matplotlib.pyplot as plt\n",
    "import seaborn as sns\n",
    "import re\n",
    "import numpy as np; np.random.seed(0)\n",
    "import warnings; warnings.simplefilter('ignore')\n",
    "import math"
   ]
  },
  {
   "cell_type": "code",
   "execution_count": 2,
   "metadata": {},
   "outputs": [],
   "source": [
    "%matplotlib inline"
   ]
  },
  {
   "cell_type": "code",
   "execution_count": 3,
   "metadata": {},
   "outputs": [],
   "source": [
    "pd.set_option('display.max_rows', 500)\n",
    "pd.set_option('display.max_columns', None)"
   ]
  },
  {
   "cell_type": "code",
   "execution_count": 4,
   "metadata": {},
   "outputs": [],
   "source": [
    "loan_prime = pd.read_csv(\"loan/loan.csv\")"
   ]
  },
  {
   "cell_type": "code",
   "execution_count": 5,
   "metadata": {},
   "outputs": [],
   "source": [
    "loan = loan_prime.copy()"
   ]
  },
  {
   "cell_type": "code",
   "execution_count": 6,
   "metadata": {
    "scrolled": true
   },
   "outputs": [
    {
     "data": {
      "text/html": [
       "<div>\n",
       "<style scoped>\n",
       "    .dataframe tbody tr th:only-of-type {\n",
       "        vertical-align: middle;\n",
       "    }\n",
       "\n",
       "    .dataframe tbody tr th {\n",
       "        vertical-align: top;\n",
       "    }\n",
       "\n",
       "    .dataframe thead th {\n",
       "        text-align: right;\n",
       "    }\n",
       "</style>\n",
       "<table border=\"1\" class=\"dataframe\">\n",
       "  <thead>\n",
       "    <tr style=\"text-align: right;\">\n",
       "      <th></th>\n",
       "      <th>id</th>\n",
       "      <th>member_id</th>\n",
       "      <th>loan_amnt</th>\n",
       "      <th>funded_amnt</th>\n",
       "      <th>funded_amnt_inv</th>\n",
       "      <th>term</th>\n",
       "      <th>int_rate</th>\n",
       "      <th>installment</th>\n",
       "      <th>grade</th>\n",
       "      <th>sub_grade</th>\n",
       "      <th>emp_title</th>\n",
       "      <th>emp_length</th>\n",
       "      <th>home_ownership</th>\n",
       "      <th>annual_inc</th>\n",
       "      <th>verification_status</th>\n",
       "      <th>issue_d</th>\n",
       "      <th>loan_status</th>\n",
       "      <th>pymnt_plan</th>\n",
       "      <th>url</th>\n",
       "      <th>desc</th>\n",
       "      <th>purpose</th>\n",
       "      <th>title</th>\n",
       "      <th>zip_code</th>\n",
       "      <th>addr_state</th>\n",
       "      <th>dti</th>\n",
       "      <th>delinq_2yrs</th>\n",
       "      <th>earliest_cr_line</th>\n",
       "      <th>inq_last_6mths</th>\n",
       "      <th>mths_since_last_delinq</th>\n",
       "      <th>mths_since_last_record</th>\n",
       "      <th>open_acc</th>\n",
       "      <th>pub_rec</th>\n",
       "      <th>revol_bal</th>\n",
       "      <th>revol_util</th>\n",
       "      <th>total_acc</th>\n",
       "      <th>initial_list_status</th>\n",
       "      <th>out_prncp</th>\n",
       "      <th>out_prncp_inv</th>\n",
       "      <th>total_pymnt</th>\n",
       "      <th>total_pymnt_inv</th>\n",
       "      <th>total_rec_prncp</th>\n",
       "      <th>total_rec_int</th>\n",
       "      <th>total_rec_late_fee</th>\n",
       "      <th>recoveries</th>\n",
       "      <th>collection_recovery_fee</th>\n",
       "      <th>last_pymnt_d</th>\n",
       "      <th>last_pymnt_amnt</th>\n",
       "      <th>next_pymnt_d</th>\n",
       "      <th>last_credit_pull_d</th>\n",
       "      <th>collections_12_mths_ex_med</th>\n",
       "      <th>mths_since_last_major_derog</th>\n",
       "      <th>policy_code</th>\n",
       "      <th>application_type</th>\n",
       "      <th>annual_inc_joint</th>\n",
       "      <th>dti_joint</th>\n",
       "      <th>verification_status_joint</th>\n",
       "      <th>acc_now_delinq</th>\n",
       "      <th>tot_coll_amt</th>\n",
       "      <th>tot_cur_bal</th>\n",
       "      <th>open_acc_6m</th>\n",
       "      <th>open_il_6m</th>\n",
       "      <th>open_il_12m</th>\n",
       "      <th>open_il_24m</th>\n",
       "      <th>mths_since_rcnt_il</th>\n",
       "      <th>total_bal_il</th>\n",
       "      <th>il_util</th>\n",
       "      <th>open_rv_12m</th>\n",
       "      <th>open_rv_24m</th>\n",
       "      <th>max_bal_bc</th>\n",
       "      <th>all_util</th>\n",
       "      <th>total_rev_hi_lim</th>\n",
       "      <th>inq_fi</th>\n",
       "      <th>total_cu_tl</th>\n",
       "      <th>inq_last_12m</th>\n",
       "      <th>acc_open_past_24mths</th>\n",
       "      <th>avg_cur_bal</th>\n",
       "      <th>bc_open_to_buy</th>\n",
       "      <th>bc_util</th>\n",
       "      <th>chargeoff_within_12_mths</th>\n",
       "      <th>delinq_amnt</th>\n",
       "      <th>mo_sin_old_il_acct</th>\n",
       "      <th>mo_sin_old_rev_tl_op</th>\n",
       "      <th>mo_sin_rcnt_rev_tl_op</th>\n",
       "      <th>mo_sin_rcnt_tl</th>\n",
       "      <th>mort_acc</th>\n",
       "      <th>mths_since_recent_bc</th>\n",
       "      <th>mths_since_recent_bc_dlq</th>\n",
       "      <th>mths_since_recent_inq</th>\n",
       "      <th>mths_since_recent_revol_delinq</th>\n",
       "      <th>num_accts_ever_120_pd</th>\n",
       "      <th>num_actv_bc_tl</th>\n",
       "      <th>num_actv_rev_tl</th>\n",
       "      <th>num_bc_sats</th>\n",
       "      <th>num_bc_tl</th>\n",
       "      <th>num_il_tl</th>\n",
       "      <th>num_op_rev_tl</th>\n",
       "      <th>num_rev_accts</th>\n",
       "      <th>num_rev_tl_bal_gt_0</th>\n",
       "      <th>num_sats</th>\n",
       "      <th>num_tl_120dpd_2m</th>\n",
       "      <th>num_tl_30dpd</th>\n",
       "      <th>num_tl_90g_dpd_24m</th>\n",
       "      <th>num_tl_op_past_12m</th>\n",
       "      <th>pct_tl_nvr_dlq</th>\n",
       "      <th>percent_bc_gt_75</th>\n",
       "      <th>pub_rec_bankruptcies</th>\n",
       "      <th>tax_liens</th>\n",
       "      <th>tot_hi_cred_lim</th>\n",
       "      <th>total_bal_ex_mort</th>\n",
       "      <th>total_bc_limit</th>\n",
       "      <th>total_il_high_credit_limit</th>\n",
       "    </tr>\n",
       "  </thead>\n",
       "  <tbody>\n",
       "    <tr>\n",
       "      <th>count</th>\n",
       "      <td>3.971700e+04</td>\n",
       "      <td>3.971700e+04</td>\n",
       "      <td>39717.000000</td>\n",
       "      <td>39717.000000</td>\n",
       "      <td>39717.000000</td>\n",
       "      <td>39717</td>\n",
       "      <td>39717</td>\n",
       "      <td>39717.000000</td>\n",
       "      <td>39717</td>\n",
       "      <td>39717</td>\n",
       "      <td>37258</td>\n",
       "      <td>38642</td>\n",
       "      <td>39717</td>\n",
       "      <td>3.971700e+04</td>\n",
       "      <td>39717</td>\n",
       "      <td>39717</td>\n",
       "      <td>39717</td>\n",
       "      <td>39717</td>\n",
       "      <td>39717</td>\n",
       "      <td>26777</td>\n",
       "      <td>39717</td>\n",
       "      <td>39706</td>\n",
       "      <td>39717</td>\n",
       "      <td>39717</td>\n",
       "      <td>39717.000000</td>\n",
       "      <td>39717.000000</td>\n",
       "      <td>39717</td>\n",
       "      <td>39717.000000</td>\n",
       "      <td>14035.000000</td>\n",
       "      <td>2786.000000</td>\n",
       "      <td>39717.000000</td>\n",
       "      <td>39717.000000</td>\n",
       "      <td>39717.000000</td>\n",
       "      <td>39667</td>\n",
       "      <td>39717.000000</td>\n",
       "      <td>39717</td>\n",
       "      <td>39717.000000</td>\n",
       "      <td>39717.000000</td>\n",
       "      <td>39717.000000</td>\n",
       "      <td>39717.000000</td>\n",
       "      <td>39717.000000</td>\n",
       "      <td>39717.000000</td>\n",
       "      <td>39717.000000</td>\n",
       "      <td>39717.000000</td>\n",
       "      <td>39717.000000</td>\n",
       "      <td>39646</td>\n",
       "      <td>39717.000000</td>\n",
       "      <td>1140</td>\n",
       "      <td>39715</td>\n",
       "      <td>39661.0</td>\n",
       "      <td>0.0</td>\n",
       "      <td>39717.0</td>\n",
       "      <td>39717</td>\n",
       "      <td>0.0</td>\n",
       "      <td>0.0</td>\n",
       "      <td>0.0</td>\n",
       "      <td>39717.0</td>\n",
       "      <td>0.0</td>\n",
       "      <td>0.0</td>\n",
       "      <td>0.0</td>\n",
       "      <td>0.0</td>\n",
       "      <td>0.0</td>\n",
       "      <td>0.0</td>\n",
       "      <td>0.0</td>\n",
       "      <td>0.0</td>\n",
       "      <td>0.0</td>\n",
       "      <td>0.0</td>\n",
       "      <td>0.0</td>\n",
       "      <td>0.0</td>\n",
       "      <td>0.0</td>\n",
       "      <td>0.0</td>\n",
       "      <td>0.0</td>\n",
       "      <td>0.0</td>\n",
       "      <td>0.0</td>\n",
       "      <td>0.0</td>\n",
       "      <td>0.0</td>\n",
       "      <td>0.0</td>\n",
       "      <td>0.0</td>\n",
       "      <td>39661.0</td>\n",
       "      <td>39717.0</td>\n",
       "      <td>0.0</td>\n",
       "      <td>0.0</td>\n",
       "      <td>0.0</td>\n",
       "      <td>0.0</td>\n",
       "      <td>0.0</td>\n",
       "      <td>0.0</td>\n",
       "      <td>0.0</td>\n",
       "      <td>0.0</td>\n",
       "      <td>0.0</td>\n",
       "      <td>0.0</td>\n",
       "      <td>0.0</td>\n",
       "      <td>0.0</td>\n",
       "      <td>0.0</td>\n",
       "      <td>0.0</td>\n",
       "      <td>0.0</td>\n",
       "      <td>0.0</td>\n",
       "      <td>0.0</td>\n",
       "      <td>0.0</td>\n",
       "      <td>0.0</td>\n",
       "      <td>0.0</td>\n",
       "      <td>0.0</td>\n",
       "      <td>0.0</td>\n",
       "      <td>0.0</td>\n",
       "      <td>0.0</td>\n",
       "      <td>0.0</td>\n",
       "      <td>39020.000000</td>\n",
       "      <td>39678.0</td>\n",
       "      <td>0.0</td>\n",
       "      <td>0.0</td>\n",
       "      <td>0.0</td>\n",
       "      <td>0.0</td>\n",
       "    </tr>\n",
       "    <tr>\n",
       "      <th>unique</th>\n",
       "      <td>NaN</td>\n",
       "      <td>NaN</td>\n",
       "      <td>NaN</td>\n",
       "      <td>NaN</td>\n",
       "      <td>NaN</td>\n",
       "      <td>2</td>\n",
       "      <td>371</td>\n",
       "      <td>NaN</td>\n",
       "      <td>7</td>\n",
       "      <td>35</td>\n",
       "      <td>28820</td>\n",
       "      <td>11</td>\n",
       "      <td>5</td>\n",
       "      <td>NaN</td>\n",
       "      <td>3</td>\n",
       "      <td>55</td>\n",
       "      <td>3</td>\n",
       "      <td>1</td>\n",
       "      <td>39717</td>\n",
       "      <td>26527</td>\n",
       "      <td>14</td>\n",
       "      <td>19615</td>\n",
       "      <td>823</td>\n",
       "      <td>50</td>\n",
       "      <td>NaN</td>\n",
       "      <td>NaN</td>\n",
       "      <td>526</td>\n",
       "      <td>NaN</td>\n",
       "      <td>NaN</td>\n",
       "      <td>NaN</td>\n",
       "      <td>NaN</td>\n",
       "      <td>NaN</td>\n",
       "      <td>NaN</td>\n",
       "      <td>1089</td>\n",
       "      <td>NaN</td>\n",
       "      <td>1</td>\n",
       "      <td>NaN</td>\n",
       "      <td>NaN</td>\n",
       "      <td>NaN</td>\n",
       "      <td>NaN</td>\n",
       "      <td>NaN</td>\n",
       "      <td>NaN</td>\n",
       "      <td>NaN</td>\n",
       "      <td>NaN</td>\n",
       "      <td>NaN</td>\n",
       "      <td>101</td>\n",
       "      <td>NaN</td>\n",
       "      <td>2</td>\n",
       "      <td>106</td>\n",
       "      <td>NaN</td>\n",
       "      <td>NaN</td>\n",
       "      <td>NaN</td>\n",
       "      <td>1</td>\n",
       "      <td>NaN</td>\n",
       "      <td>NaN</td>\n",
       "      <td>NaN</td>\n",
       "      <td>NaN</td>\n",
       "      <td>NaN</td>\n",
       "      <td>NaN</td>\n",
       "      <td>NaN</td>\n",
       "      <td>NaN</td>\n",
       "      <td>NaN</td>\n",
       "      <td>NaN</td>\n",
       "      <td>NaN</td>\n",
       "      <td>NaN</td>\n",
       "      <td>NaN</td>\n",
       "      <td>NaN</td>\n",
       "      <td>NaN</td>\n",
       "      <td>NaN</td>\n",
       "      <td>NaN</td>\n",
       "      <td>NaN</td>\n",
       "      <td>NaN</td>\n",
       "      <td>NaN</td>\n",
       "      <td>NaN</td>\n",
       "      <td>NaN</td>\n",
       "      <td>NaN</td>\n",
       "      <td>NaN</td>\n",
       "      <td>NaN</td>\n",
       "      <td>NaN</td>\n",
       "      <td>NaN</td>\n",
       "      <td>NaN</td>\n",
       "      <td>NaN</td>\n",
       "      <td>NaN</td>\n",
       "      <td>NaN</td>\n",
       "      <td>NaN</td>\n",
       "      <td>NaN</td>\n",
       "      <td>NaN</td>\n",
       "      <td>NaN</td>\n",
       "      <td>NaN</td>\n",
       "      <td>NaN</td>\n",
       "      <td>NaN</td>\n",
       "      <td>NaN</td>\n",
       "      <td>NaN</td>\n",
       "      <td>NaN</td>\n",
       "      <td>NaN</td>\n",
       "      <td>NaN</td>\n",
       "      <td>NaN</td>\n",
       "      <td>NaN</td>\n",
       "      <td>NaN</td>\n",
       "      <td>NaN</td>\n",
       "      <td>NaN</td>\n",
       "      <td>NaN</td>\n",
       "      <td>NaN</td>\n",
       "      <td>NaN</td>\n",
       "      <td>NaN</td>\n",
       "      <td>NaN</td>\n",
       "      <td>NaN</td>\n",
       "      <td>NaN</td>\n",
       "      <td>NaN</td>\n",
       "      <td>NaN</td>\n",
       "      <td>NaN</td>\n",
       "    </tr>\n",
       "    <tr>\n",
       "      <th>top</th>\n",
       "      <td>NaN</td>\n",
       "      <td>NaN</td>\n",
       "      <td>NaN</td>\n",
       "      <td>NaN</td>\n",
       "      <td>NaN</td>\n",
       "      <td>36 months</td>\n",
       "      <td>10.99%</td>\n",
       "      <td>NaN</td>\n",
       "      <td>B</td>\n",
       "      <td>B3</td>\n",
       "      <td>US Army</td>\n",
       "      <td>10+ years</td>\n",
       "      <td>RENT</td>\n",
       "      <td>NaN</td>\n",
       "      <td>Not Verified</td>\n",
       "      <td>Dec-11</td>\n",
       "      <td>Fully Paid</td>\n",
       "      <td>n</td>\n",
       "      <td>https://lendingclub.com/browse/loanDetail.acti...</td>\n",
       "      <td></td>\n",
       "      <td>debt_consolidation</td>\n",
       "      <td>Debt Consolidation</td>\n",
       "      <td>100xx</td>\n",
       "      <td>CA</td>\n",
       "      <td>NaN</td>\n",
       "      <td>NaN</td>\n",
       "      <td>Nov-98</td>\n",
       "      <td>NaN</td>\n",
       "      <td>NaN</td>\n",
       "      <td>NaN</td>\n",
       "      <td>NaN</td>\n",
       "      <td>NaN</td>\n",
       "      <td>NaN</td>\n",
       "      <td>0%</td>\n",
       "      <td>NaN</td>\n",
       "      <td>f</td>\n",
       "      <td>NaN</td>\n",
       "      <td>NaN</td>\n",
       "      <td>NaN</td>\n",
       "      <td>NaN</td>\n",
       "      <td>NaN</td>\n",
       "      <td>NaN</td>\n",
       "      <td>NaN</td>\n",
       "      <td>NaN</td>\n",
       "      <td>NaN</td>\n",
       "      <td>May-16</td>\n",
       "      <td>NaN</td>\n",
       "      <td>Jun-16</td>\n",
       "      <td>May-16</td>\n",
       "      <td>NaN</td>\n",
       "      <td>NaN</td>\n",
       "      <td>NaN</td>\n",
       "      <td>INDIVIDUAL</td>\n",
       "      <td>NaN</td>\n",
       "      <td>NaN</td>\n",
       "      <td>NaN</td>\n",
       "      <td>NaN</td>\n",
       "      <td>NaN</td>\n",
       "      <td>NaN</td>\n",
       "      <td>NaN</td>\n",
       "      <td>NaN</td>\n",
       "      <td>NaN</td>\n",
       "      <td>NaN</td>\n",
       "      <td>NaN</td>\n",
       "      <td>NaN</td>\n",
       "      <td>NaN</td>\n",
       "      <td>NaN</td>\n",
       "      <td>NaN</td>\n",
       "      <td>NaN</td>\n",
       "      <td>NaN</td>\n",
       "      <td>NaN</td>\n",
       "      <td>NaN</td>\n",
       "      <td>NaN</td>\n",
       "      <td>NaN</td>\n",
       "      <td>NaN</td>\n",
       "      <td>NaN</td>\n",
       "      <td>NaN</td>\n",
       "      <td>NaN</td>\n",
       "      <td>NaN</td>\n",
       "      <td>NaN</td>\n",
       "      <td>NaN</td>\n",
       "      <td>NaN</td>\n",
       "      <td>NaN</td>\n",
       "      <td>NaN</td>\n",
       "      <td>NaN</td>\n",
       "      <td>NaN</td>\n",
       "      <td>NaN</td>\n",
       "      <td>NaN</td>\n",
       "      <td>NaN</td>\n",
       "      <td>NaN</td>\n",
       "      <td>NaN</td>\n",
       "      <td>NaN</td>\n",
       "      <td>NaN</td>\n",
       "      <td>NaN</td>\n",
       "      <td>NaN</td>\n",
       "      <td>NaN</td>\n",
       "      <td>NaN</td>\n",
       "      <td>NaN</td>\n",
       "      <td>NaN</td>\n",
       "      <td>NaN</td>\n",
       "      <td>NaN</td>\n",
       "      <td>NaN</td>\n",
       "      <td>NaN</td>\n",
       "      <td>NaN</td>\n",
       "      <td>NaN</td>\n",
       "      <td>NaN</td>\n",
       "      <td>NaN</td>\n",
       "      <td>NaN</td>\n",
       "      <td>NaN</td>\n",
       "      <td>NaN</td>\n",
       "      <td>NaN</td>\n",
       "    </tr>\n",
       "    <tr>\n",
       "      <th>freq</th>\n",
       "      <td>NaN</td>\n",
       "      <td>NaN</td>\n",
       "      <td>NaN</td>\n",
       "      <td>NaN</td>\n",
       "      <td>NaN</td>\n",
       "      <td>29096</td>\n",
       "      <td>956</td>\n",
       "      <td>NaN</td>\n",
       "      <td>12020</td>\n",
       "      <td>2917</td>\n",
       "      <td>134</td>\n",
       "      <td>8879</td>\n",
       "      <td>18899</td>\n",
       "      <td>NaN</td>\n",
       "      <td>16921</td>\n",
       "      <td>2260</td>\n",
       "      <td>32950</td>\n",
       "      <td>39717</td>\n",
       "      <td>1</td>\n",
       "      <td>210</td>\n",
       "      <td>18641</td>\n",
       "      <td>2184</td>\n",
       "      <td>597</td>\n",
       "      <td>7099</td>\n",
       "      <td>NaN</td>\n",
       "      <td>NaN</td>\n",
       "      <td>370</td>\n",
       "      <td>NaN</td>\n",
       "      <td>NaN</td>\n",
       "      <td>NaN</td>\n",
       "      <td>NaN</td>\n",
       "      <td>NaN</td>\n",
       "      <td>NaN</td>\n",
       "      <td>977</td>\n",
       "      <td>NaN</td>\n",
       "      <td>39717</td>\n",
       "      <td>NaN</td>\n",
       "      <td>NaN</td>\n",
       "      <td>NaN</td>\n",
       "      <td>NaN</td>\n",
       "      <td>NaN</td>\n",
       "      <td>NaN</td>\n",
       "      <td>NaN</td>\n",
       "      <td>NaN</td>\n",
       "      <td>NaN</td>\n",
       "      <td>1256</td>\n",
       "      <td>NaN</td>\n",
       "      <td>1125</td>\n",
       "      <td>10308</td>\n",
       "      <td>NaN</td>\n",
       "      <td>NaN</td>\n",
       "      <td>NaN</td>\n",
       "      <td>39717</td>\n",
       "      <td>NaN</td>\n",
       "      <td>NaN</td>\n",
       "      <td>NaN</td>\n",
       "      <td>NaN</td>\n",
       "      <td>NaN</td>\n",
       "      <td>NaN</td>\n",
       "      <td>NaN</td>\n",
       "      <td>NaN</td>\n",
       "      <td>NaN</td>\n",
       "      <td>NaN</td>\n",
       "      <td>NaN</td>\n",
       "      <td>NaN</td>\n",
       "      <td>NaN</td>\n",
       "      <td>NaN</td>\n",
       "      <td>NaN</td>\n",
       "      <td>NaN</td>\n",
       "      <td>NaN</td>\n",
       "      <td>NaN</td>\n",
       "      <td>NaN</td>\n",
       "      <td>NaN</td>\n",
       "      <td>NaN</td>\n",
       "      <td>NaN</td>\n",
       "      <td>NaN</td>\n",
       "      <td>NaN</td>\n",
       "      <td>NaN</td>\n",
       "      <td>NaN</td>\n",
       "      <td>NaN</td>\n",
       "      <td>NaN</td>\n",
       "      <td>NaN</td>\n",
       "      <td>NaN</td>\n",
       "      <td>NaN</td>\n",
       "      <td>NaN</td>\n",
       "      <td>NaN</td>\n",
       "      <td>NaN</td>\n",
       "      <td>NaN</td>\n",
       "      <td>NaN</td>\n",
       "      <td>NaN</td>\n",
       "      <td>NaN</td>\n",
       "      <td>NaN</td>\n",
       "      <td>NaN</td>\n",
       "      <td>NaN</td>\n",
       "      <td>NaN</td>\n",
       "      <td>NaN</td>\n",
       "      <td>NaN</td>\n",
       "      <td>NaN</td>\n",
       "      <td>NaN</td>\n",
       "      <td>NaN</td>\n",
       "      <td>NaN</td>\n",
       "      <td>NaN</td>\n",
       "      <td>NaN</td>\n",
       "      <td>NaN</td>\n",
       "      <td>NaN</td>\n",
       "      <td>NaN</td>\n",
       "      <td>NaN</td>\n",
       "      <td>NaN</td>\n",
       "      <td>NaN</td>\n",
       "      <td>NaN</td>\n",
       "      <td>NaN</td>\n",
       "    </tr>\n",
       "    <tr>\n",
       "      <th>mean</th>\n",
       "      <td>6.831319e+05</td>\n",
       "      <td>8.504636e+05</td>\n",
       "      <td>11219.443815</td>\n",
       "      <td>10947.713196</td>\n",
       "      <td>10397.448868</td>\n",
       "      <td>NaN</td>\n",
       "      <td>NaN</td>\n",
       "      <td>324.561922</td>\n",
       "      <td>NaN</td>\n",
       "      <td>NaN</td>\n",
       "      <td>NaN</td>\n",
       "      <td>NaN</td>\n",
       "      <td>NaN</td>\n",
       "      <td>6.896893e+04</td>\n",
       "      <td>NaN</td>\n",
       "      <td>NaN</td>\n",
       "      <td>NaN</td>\n",
       "      <td>NaN</td>\n",
       "      <td>NaN</td>\n",
       "      <td>NaN</td>\n",
       "      <td>NaN</td>\n",
       "      <td>NaN</td>\n",
       "      <td>NaN</td>\n",
       "      <td>NaN</td>\n",
       "      <td>13.315130</td>\n",
       "      <td>0.146512</td>\n",
       "      <td>NaN</td>\n",
       "      <td>0.869200</td>\n",
       "      <td>35.900962</td>\n",
       "      <td>69.698134</td>\n",
       "      <td>9.294408</td>\n",
       "      <td>0.055065</td>\n",
       "      <td>13382.528086</td>\n",
       "      <td>NaN</td>\n",
       "      <td>22.088828</td>\n",
       "      <td>NaN</td>\n",
       "      <td>51.227887</td>\n",
       "      <td>50.989768</td>\n",
       "      <td>12153.596544</td>\n",
       "      <td>11567.149118</td>\n",
       "      <td>9793.348813</td>\n",
       "      <td>2263.663172</td>\n",
       "      <td>1.363015</td>\n",
       "      <td>95.221624</td>\n",
       "      <td>12.406112</td>\n",
       "      <td>NaN</td>\n",
       "      <td>2678.826162</td>\n",
       "      <td>NaN</td>\n",
       "      <td>NaN</td>\n",
       "      <td>0.0</td>\n",
       "      <td>NaN</td>\n",
       "      <td>1.0</td>\n",
       "      <td>NaN</td>\n",
       "      <td>NaN</td>\n",
       "      <td>NaN</td>\n",
       "      <td>NaN</td>\n",
       "      <td>0.0</td>\n",
       "      <td>NaN</td>\n",
       "      <td>NaN</td>\n",
       "      <td>NaN</td>\n",
       "      <td>NaN</td>\n",
       "      <td>NaN</td>\n",
       "      <td>NaN</td>\n",
       "      <td>NaN</td>\n",
       "      <td>NaN</td>\n",
       "      <td>NaN</td>\n",
       "      <td>NaN</td>\n",
       "      <td>NaN</td>\n",
       "      <td>NaN</td>\n",
       "      <td>NaN</td>\n",
       "      <td>NaN</td>\n",
       "      <td>NaN</td>\n",
       "      <td>NaN</td>\n",
       "      <td>NaN</td>\n",
       "      <td>NaN</td>\n",
       "      <td>NaN</td>\n",
       "      <td>NaN</td>\n",
       "      <td>NaN</td>\n",
       "      <td>0.0</td>\n",
       "      <td>0.0</td>\n",
       "      <td>NaN</td>\n",
       "      <td>NaN</td>\n",
       "      <td>NaN</td>\n",
       "      <td>NaN</td>\n",
       "      <td>NaN</td>\n",
       "      <td>NaN</td>\n",
       "      <td>NaN</td>\n",
       "      <td>NaN</td>\n",
       "      <td>NaN</td>\n",
       "      <td>NaN</td>\n",
       "      <td>NaN</td>\n",
       "      <td>NaN</td>\n",
       "      <td>NaN</td>\n",
       "      <td>NaN</td>\n",
       "      <td>NaN</td>\n",
       "      <td>NaN</td>\n",
       "      <td>NaN</td>\n",
       "      <td>NaN</td>\n",
       "      <td>NaN</td>\n",
       "      <td>NaN</td>\n",
       "      <td>NaN</td>\n",
       "      <td>NaN</td>\n",
       "      <td>NaN</td>\n",
       "      <td>NaN</td>\n",
       "      <td>NaN</td>\n",
       "      <td>0.043260</td>\n",
       "      <td>0.0</td>\n",
       "      <td>NaN</td>\n",
       "      <td>NaN</td>\n",
       "      <td>NaN</td>\n",
       "      <td>NaN</td>\n",
       "    </tr>\n",
       "    <tr>\n",
       "      <th>std</th>\n",
       "      <td>2.106941e+05</td>\n",
       "      <td>2.656783e+05</td>\n",
       "      <td>7456.670694</td>\n",
       "      <td>7187.238670</td>\n",
       "      <td>7128.450439</td>\n",
       "      <td>NaN</td>\n",
       "      <td>NaN</td>\n",
       "      <td>208.874874</td>\n",
       "      <td>NaN</td>\n",
       "      <td>NaN</td>\n",
       "      <td>NaN</td>\n",
       "      <td>NaN</td>\n",
       "      <td>NaN</td>\n",
       "      <td>6.379377e+04</td>\n",
       "      <td>NaN</td>\n",
       "      <td>NaN</td>\n",
       "      <td>NaN</td>\n",
       "      <td>NaN</td>\n",
       "      <td>NaN</td>\n",
       "      <td>NaN</td>\n",
       "      <td>NaN</td>\n",
       "      <td>NaN</td>\n",
       "      <td>NaN</td>\n",
       "      <td>NaN</td>\n",
       "      <td>6.678594</td>\n",
       "      <td>0.491812</td>\n",
       "      <td>NaN</td>\n",
       "      <td>1.070219</td>\n",
       "      <td>22.020060</td>\n",
       "      <td>43.822529</td>\n",
       "      <td>4.400282</td>\n",
       "      <td>0.237200</td>\n",
       "      <td>15885.016641</td>\n",
       "      <td>NaN</td>\n",
       "      <td>11.401709</td>\n",
       "      <td>NaN</td>\n",
       "      <td>375.172839</td>\n",
       "      <td>373.824457</td>\n",
       "      <td>9042.040766</td>\n",
       "      <td>8942.672613</td>\n",
       "      <td>7065.522127</td>\n",
       "      <td>2608.111964</td>\n",
       "      <td>7.289979</td>\n",
       "      <td>688.744771</td>\n",
       "      <td>148.671593</td>\n",
       "      <td>NaN</td>\n",
       "      <td>4447.136012</td>\n",
       "      <td>NaN</td>\n",
       "      <td>NaN</td>\n",
       "      <td>0.0</td>\n",
       "      <td>NaN</td>\n",
       "      <td>0.0</td>\n",
       "      <td>NaN</td>\n",
       "      <td>NaN</td>\n",
       "      <td>NaN</td>\n",
       "      <td>NaN</td>\n",
       "      <td>0.0</td>\n",
       "      <td>NaN</td>\n",
       "      <td>NaN</td>\n",
       "      <td>NaN</td>\n",
       "      <td>NaN</td>\n",
       "      <td>NaN</td>\n",
       "      <td>NaN</td>\n",
       "      <td>NaN</td>\n",
       "      <td>NaN</td>\n",
       "      <td>NaN</td>\n",
       "      <td>NaN</td>\n",
       "      <td>NaN</td>\n",
       "      <td>NaN</td>\n",
       "      <td>NaN</td>\n",
       "      <td>NaN</td>\n",
       "      <td>NaN</td>\n",
       "      <td>NaN</td>\n",
       "      <td>NaN</td>\n",
       "      <td>NaN</td>\n",
       "      <td>NaN</td>\n",
       "      <td>NaN</td>\n",
       "      <td>NaN</td>\n",
       "      <td>0.0</td>\n",
       "      <td>0.0</td>\n",
       "      <td>NaN</td>\n",
       "      <td>NaN</td>\n",
       "      <td>NaN</td>\n",
       "      <td>NaN</td>\n",
       "      <td>NaN</td>\n",
       "      <td>NaN</td>\n",
       "      <td>NaN</td>\n",
       "      <td>NaN</td>\n",
       "      <td>NaN</td>\n",
       "      <td>NaN</td>\n",
       "      <td>NaN</td>\n",
       "      <td>NaN</td>\n",
       "      <td>NaN</td>\n",
       "      <td>NaN</td>\n",
       "      <td>NaN</td>\n",
       "      <td>NaN</td>\n",
       "      <td>NaN</td>\n",
       "      <td>NaN</td>\n",
       "      <td>NaN</td>\n",
       "      <td>NaN</td>\n",
       "      <td>NaN</td>\n",
       "      <td>NaN</td>\n",
       "      <td>NaN</td>\n",
       "      <td>NaN</td>\n",
       "      <td>NaN</td>\n",
       "      <td>0.204324</td>\n",
       "      <td>0.0</td>\n",
       "      <td>NaN</td>\n",
       "      <td>NaN</td>\n",
       "      <td>NaN</td>\n",
       "      <td>NaN</td>\n",
       "    </tr>\n",
       "    <tr>\n",
       "      <th>min</th>\n",
       "      <td>5.473400e+04</td>\n",
       "      <td>7.069900e+04</td>\n",
       "      <td>500.000000</td>\n",
       "      <td>500.000000</td>\n",
       "      <td>0.000000</td>\n",
       "      <td>NaN</td>\n",
       "      <td>NaN</td>\n",
       "      <td>15.690000</td>\n",
       "      <td>NaN</td>\n",
       "      <td>NaN</td>\n",
       "      <td>NaN</td>\n",
       "      <td>NaN</td>\n",
       "      <td>NaN</td>\n",
       "      <td>4.000000e+03</td>\n",
       "      <td>NaN</td>\n",
       "      <td>NaN</td>\n",
       "      <td>NaN</td>\n",
       "      <td>NaN</td>\n",
       "      <td>NaN</td>\n",
       "      <td>NaN</td>\n",
       "      <td>NaN</td>\n",
       "      <td>NaN</td>\n",
       "      <td>NaN</td>\n",
       "      <td>NaN</td>\n",
       "      <td>0.000000</td>\n",
       "      <td>0.000000</td>\n",
       "      <td>NaN</td>\n",
       "      <td>0.000000</td>\n",
       "      <td>0.000000</td>\n",
       "      <td>0.000000</td>\n",
       "      <td>2.000000</td>\n",
       "      <td>0.000000</td>\n",
       "      <td>0.000000</td>\n",
       "      <td>NaN</td>\n",
       "      <td>2.000000</td>\n",
       "      <td>NaN</td>\n",
       "      <td>0.000000</td>\n",
       "      <td>0.000000</td>\n",
       "      <td>0.000000</td>\n",
       "      <td>0.000000</td>\n",
       "      <td>0.000000</td>\n",
       "      <td>0.000000</td>\n",
       "      <td>0.000000</td>\n",
       "      <td>0.000000</td>\n",
       "      <td>0.000000</td>\n",
       "      <td>NaN</td>\n",
       "      <td>0.000000</td>\n",
       "      <td>NaN</td>\n",
       "      <td>NaN</td>\n",
       "      <td>0.0</td>\n",
       "      <td>NaN</td>\n",
       "      <td>1.0</td>\n",
       "      <td>NaN</td>\n",
       "      <td>NaN</td>\n",
       "      <td>NaN</td>\n",
       "      <td>NaN</td>\n",
       "      <td>0.0</td>\n",
       "      <td>NaN</td>\n",
       "      <td>NaN</td>\n",
       "      <td>NaN</td>\n",
       "      <td>NaN</td>\n",
       "      <td>NaN</td>\n",
       "      <td>NaN</td>\n",
       "      <td>NaN</td>\n",
       "      <td>NaN</td>\n",
       "      <td>NaN</td>\n",
       "      <td>NaN</td>\n",
       "      <td>NaN</td>\n",
       "      <td>NaN</td>\n",
       "      <td>NaN</td>\n",
       "      <td>NaN</td>\n",
       "      <td>NaN</td>\n",
       "      <td>NaN</td>\n",
       "      <td>NaN</td>\n",
       "      <td>NaN</td>\n",
       "      <td>NaN</td>\n",
       "      <td>NaN</td>\n",
       "      <td>NaN</td>\n",
       "      <td>0.0</td>\n",
       "      <td>0.0</td>\n",
       "      <td>NaN</td>\n",
       "      <td>NaN</td>\n",
       "      <td>NaN</td>\n",
       "      <td>NaN</td>\n",
       "      <td>NaN</td>\n",
       "      <td>NaN</td>\n",
       "      <td>NaN</td>\n",
       "      <td>NaN</td>\n",
       "      <td>NaN</td>\n",
       "      <td>NaN</td>\n",
       "      <td>NaN</td>\n",
       "      <td>NaN</td>\n",
       "      <td>NaN</td>\n",
       "      <td>NaN</td>\n",
       "      <td>NaN</td>\n",
       "      <td>NaN</td>\n",
       "      <td>NaN</td>\n",
       "      <td>NaN</td>\n",
       "      <td>NaN</td>\n",
       "      <td>NaN</td>\n",
       "      <td>NaN</td>\n",
       "      <td>NaN</td>\n",
       "      <td>NaN</td>\n",
       "      <td>NaN</td>\n",
       "      <td>NaN</td>\n",
       "      <td>0.000000</td>\n",
       "      <td>0.0</td>\n",
       "      <td>NaN</td>\n",
       "      <td>NaN</td>\n",
       "      <td>NaN</td>\n",
       "      <td>NaN</td>\n",
       "    </tr>\n",
       "    <tr>\n",
       "      <th>25%</th>\n",
       "      <td>5.162210e+05</td>\n",
       "      <td>6.667800e+05</td>\n",
       "      <td>5500.000000</td>\n",
       "      <td>5400.000000</td>\n",
       "      <td>5000.000000</td>\n",
       "      <td>NaN</td>\n",
       "      <td>NaN</td>\n",
       "      <td>167.020000</td>\n",
       "      <td>NaN</td>\n",
       "      <td>NaN</td>\n",
       "      <td>NaN</td>\n",
       "      <td>NaN</td>\n",
       "      <td>NaN</td>\n",
       "      <td>4.040400e+04</td>\n",
       "      <td>NaN</td>\n",
       "      <td>NaN</td>\n",
       "      <td>NaN</td>\n",
       "      <td>NaN</td>\n",
       "      <td>NaN</td>\n",
       "      <td>NaN</td>\n",
       "      <td>NaN</td>\n",
       "      <td>NaN</td>\n",
       "      <td>NaN</td>\n",
       "      <td>NaN</td>\n",
       "      <td>8.170000</td>\n",
       "      <td>0.000000</td>\n",
       "      <td>NaN</td>\n",
       "      <td>0.000000</td>\n",
       "      <td>18.000000</td>\n",
       "      <td>22.000000</td>\n",
       "      <td>6.000000</td>\n",
       "      <td>0.000000</td>\n",
       "      <td>3703.000000</td>\n",
       "      <td>NaN</td>\n",
       "      <td>13.000000</td>\n",
       "      <td>NaN</td>\n",
       "      <td>0.000000</td>\n",
       "      <td>0.000000</td>\n",
       "      <td>5576.930000</td>\n",
       "      <td>5112.310000</td>\n",
       "      <td>4600.000000</td>\n",
       "      <td>662.180000</td>\n",
       "      <td>0.000000</td>\n",
       "      <td>0.000000</td>\n",
       "      <td>0.000000</td>\n",
       "      <td>NaN</td>\n",
       "      <td>218.680000</td>\n",
       "      <td>NaN</td>\n",
       "      <td>NaN</td>\n",
       "      <td>0.0</td>\n",
       "      <td>NaN</td>\n",
       "      <td>1.0</td>\n",
       "      <td>NaN</td>\n",
       "      <td>NaN</td>\n",
       "      <td>NaN</td>\n",
       "      <td>NaN</td>\n",
       "      <td>0.0</td>\n",
       "      <td>NaN</td>\n",
       "      <td>NaN</td>\n",
       "      <td>NaN</td>\n",
       "      <td>NaN</td>\n",
       "      <td>NaN</td>\n",
       "      <td>NaN</td>\n",
       "      <td>NaN</td>\n",
       "      <td>NaN</td>\n",
       "      <td>NaN</td>\n",
       "      <td>NaN</td>\n",
       "      <td>NaN</td>\n",
       "      <td>NaN</td>\n",
       "      <td>NaN</td>\n",
       "      <td>NaN</td>\n",
       "      <td>NaN</td>\n",
       "      <td>NaN</td>\n",
       "      <td>NaN</td>\n",
       "      <td>NaN</td>\n",
       "      <td>NaN</td>\n",
       "      <td>NaN</td>\n",
       "      <td>NaN</td>\n",
       "      <td>0.0</td>\n",
       "      <td>0.0</td>\n",
       "      <td>NaN</td>\n",
       "      <td>NaN</td>\n",
       "      <td>NaN</td>\n",
       "      <td>NaN</td>\n",
       "      <td>NaN</td>\n",
       "      <td>NaN</td>\n",
       "      <td>NaN</td>\n",
       "      <td>NaN</td>\n",
       "      <td>NaN</td>\n",
       "      <td>NaN</td>\n",
       "      <td>NaN</td>\n",
       "      <td>NaN</td>\n",
       "      <td>NaN</td>\n",
       "      <td>NaN</td>\n",
       "      <td>NaN</td>\n",
       "      <td>NaN</td>\n",
       "      <td>NaN</td>\n",
       "      <td>NaN</td>\n",
       "      <td>NaN</td>\n",
       "      <td>NaN</td>\n",
       "      <td>NaN</td>\n",
       "      <td>NaN</td>\n",
       "      <td>NaN</td>\n",
       "      <td>NaN</td>\n",
       "      <td>NaN</td>\n",
       "      <td>0.000000</td>\n",
       "      <td>0.0</td>\n",
       "      <td>NaN</td>\n",
       "      <td>NaN</td>\n",
       "      <td>NaN</td>\n",
       "      <td>NaN</td>\n",
       "    </tr>\n",
       "    <tr>\n",
       "      <th>50%</th>\n",
       "      <td>6.656650e+05</td>\n",
       "      <td>8.508120e+05</td>\n",
       "      <td>10000.000000</td>\n",
       "      <td>9600.000000</td>\n",
       "      <td>8975.000000</td>\n",
       "      <td>NaN</td>\n",
       "      <td>NaN</td>\n",
       "      <td>280.220000</td>\n",
       "      <td>NaN</td>\n",
       "      <td>NaN</td>\n",
       "      <td>NaN</td>\n",
       "      <td>NaN</td>\n",
       "      <td>NaN</td>\n",
       "      <td>5.900000e+04</td>\n",
       "      <td>NaN</td>\n",
       "      <td>NaN</td>\n",
       "      <td>NaN</td>\n",
       "      <td>NaN</td>\n",
       "      <td>NaN</td>\n",
       "      <td>NaN</td>\n",
       "      <td>NaN</td>\n",
       "      <td>NaN</td>\n",
       "      <td>NaN</td>\n",
       "      <td>NaN</td>\n",
       "      <td>13.400000</td>\n",
       "      <td>0.000000</td>\n",
       "      <td>NaN</td>\n",
       "      <td>1.000000</td>\n",
       "      <td>34.000000</td>\n",
       "      <td>90.000000</td>\n",
       "      <td>9.000000</td>\n",
       "      <td>0.000000</td>\n",
       "      <td>8850.000000</td>\n",
       "      <td>NaN</td>\n",
       "      <td>20.000000</td>\n",
       "      <td>NaN</td>\n",
       "      <td>0.000000</td>\n",
       "      <td>0.000000</td>\n",
       "      <td>9899.640319</td>\n",
       "      <td>9287.150000</td>\n",
       "      <td>8000.000000</td>\n",
       "      <td>1348.910000</td>\n",
       "      <td>0.000000</td>\n",
       "      <td>0.000000</td>\n",
       "      <td>0.000000</td>\n",
       "      <td>NaN</td>\n",
       "      <td>546.140000</td>\n",
       "      <td>NaN</td>\n",
       "      <td>NaN</td>\n",
       "      <td>0.0</td>\n",
       "      <td>NaN</td>\n",
       "      <td>1.0</td>\n",
       "      <td>NaN</td>\n",
       "      <td>NaN</td>\n",
       "      <td>NaN</td>\n",
       "      <td>NaN</td>\n",
       "      <td>0.0</td>\n",
       "      <td>NaN</td>\n",
       "      <td>NaN</td>\n",
       "      <td>NaN</td>\n",
       "      <td>NaN</td>\n",
       "      <td>NaN</td>\n",
       "      <td>NaN</td>\n",
       "      <td>NaN</td>\n",
       "      <td>NaN</td>\n",
       "      <td>NaN</td>\n",
       "      <td>NaN</td>\n",
       "      <td>NaN</td>\n",
       "      <td>NaN</td>\n",
       "      <td>NaN</td>\n",
       "      <td>NaN</td>\n",
       "      <td>NaN</td>\n",
       "      <td>NaN</td>\n",
       "      <td>NaN</td>\n",
       "      <td>NaN</td>\n",
       "      <td>NaN</td>\n",
       "      <td>NaN</td>\n",
       "      <td>NaN</td>\n",
       "      <td>0.0</td>\n",
       "      <td>0.0</td>\n",
       "      <td>NaN</td>\n",
       "      <td>NaN</td>\n",
       "      <td>NaN</td>\n",
       "      <td>NaN</td>\n",
       "      <td>NaN</td>\n",
       "      <td>NaN</td>\n",
       "      <td>NaN</td>\n",
       "      <td>NaN</td>\n",
       "      <td>NaN</td>\n",
       "      <td>NaN</td>\n",
       "      <td>NaN</td>\n",
       "      <td>NaN</td>\n",
       "      <td>NaN</td>\n",
       "      <td>NaN</td>\n",
       "      <td>NaN</td>\n",
       "      <td>NaN</td>\n",
       "      <td>NaN</td>\n",
       "      <td>NaN</td>\n",
       "      <td>NaN</td>\n",
       "      <td>NaN</td>\n",
       "      <td>NaN</td>\n",
       "      <td>NaN</td>\n",
       "      <td>NaN</td>\n",
       "      <td>NaN</td>\n",
       "      <td>NaN</td>\n",
       "      <td>0.000000</td>\n",
       "      <td>0.0</td>\n",
       "      <td>NaN</td>\n",
       "      <td>NaN</td>\n",
       "      <td>NaN</td>\n",
       "      <td>NaN</td>\n",
       "    </tr>\n",
       "    <tr>\n",
       "      <th>75%</th>\n",
       "      <td>8.377550e+05</td>\n",
       "      <td>1.047339e+06</td>\n",
       "      <td>15000.000000</td>\n",
       "      <td>15000.000000</td>\n",
       "      <td>14400.000000</td>\n",
       "      <td>NaN</td>\n",
       "      <td>NaN</td>\n",
       "      <td>430.780000</td>\n",
       "      <td>NaN</td>\n",
       "      <td>NaN</td>\n",
       "      <td>NaN</td>\n",
       "      <td>NaN</td>\n",
       "      <td>NaN</td>\n",
       "      <td>8.230000e+04</td>\n",
       "      <td>NaN</td>\n",
       "      <td>NaN</td>\n",
       "      <td>NaN</td>\n",
       "      <td>NaN</td>\n",
       "      <td>NaN</td>\n",
       "      <td>NaN</td>\n",
       "      <td>NaN</td>\n",
       "      <td>NaN</td>\n",
       "      <td>NaN</td>\n",
       "      <td>NaN</td>\n",
       "      <td>18.600000</td>\n",
       "      <td>0.000000</td>\n",
       "      <td>NaN</td>\n",
       "      <td>1.000000</td>\n",
       "      <td>52.000000</td>\n",
       "      <td>104.000000</td>\n",
       "      <td>12.000000</td>\n",
       "      <td>0.000000</td>\n",
       "      <td>17058.000000</td>\n",
       "      <td>NaN</td>\n",
       "      <td>29.000000</td>\n",
       "      <td>NaN</td>\n",
       "      <td>0.000000</td>\n",
       "      <td>0.000000</td>\n",
       "      <td>16534.433040</td>\n",
       "      <td>15798.810000</td>\n",
       "      <td>13653.260000</td>\n",
       "      <td>2833.400000</td>\n",
       "      <td>0.000000</td>\n",
       "      <td>0.000000</td>\n",
       "      <td>0.000000</td>\n",
       "      <td>NaN</td>\n",
       "      <td>3293.160000</td>\n",
       "      <td>NaN</td>\n",
       "      <td>NaN</td>\n",
       "      <td>0.0</td>\n",
       "      <td>NaN</td>\n",
       "      <td>1.0</td>\n",
       "      <td>NaN</td>\n",
       "      <td>NaN</td>\n",
       "      <td>NaN</td>\n",
       "      <td>NaN</td>\n",
       "      <td>0.0</td>\n",
       "      <td>NaN</td>\n",
       "      <td>NaN</td>\n",
       "      <td>NaN</td>\n",
       "      <td>NaN</td>\n",
       "      <td>NaN</td>\n",
       "      <td>NaN</td>\n",
       "      <td>NaN</td>\n",
       "      <td>NaN</td>\n",
       "      <td>NaN</td>\n",
       "      <td>NaN</td>\n",
       "      <td>NaN</td>\n",
       "      <td>NaN</td>\n",
       "      <td>NaN</td>\n",
       "      <td>NaN</td>\n",
       "      <td>NaN</td>\n",
       "      <td>NaN</td>\n",
       "      <td>NaN</td>\n",
       "      <td>NaN</td>\n",
       "      <td>NaN</td>\n",
       "      <td>NaN</td>\n",
       "      <td>NaN</td>\n",
       "      <td>0.0</td>\n",
       "      <td>0.0</td>\n",
       "      <td>NaN</td>\n",
       "      <td>NaN</td>\n",
       "      <td>NaN</td>\n",
       "      <td>NaN</td>\n",
       "      <td>NaN</td>\n",
       "      <td>NaN</td>\n",
       "      <td>NaN</td>\n",
       "      <td>NaN</td>\n",
       "      <td>NaN</td>\n",
       "      <td>NaN</td>\n",
       "      <td>NaN</td>\n",
       "      <td>NaN</td>\n",
       "      <td>NaN</td>\n",
       "      <td>NaN</td>\n",
       "      <td>NaN</td>\n",
       "      <td>NaN</td>\n",
       "      <td>NaN</td>\n",
       "      <td>NaN</td>\n",
       "      <td>NaN</td>\n",
       "      <td>NaN</td>\n",
       "      <td>NaN</td>\n",
       "      <td>NaN</td>\n",
       "      <td>NaN</td>\n",
       "      <td>NaN</td>\n",
       "      <td>NaN</td>\n",
       "      <td>0.000000</td>\n",
       "      <td>0.0</td>\n",
       "      <td>NaN</td>\n",
       "      <td>NaN</td>\n",
       "      <td>NaN</td>\n",
       "      <td>NaN</td>\n",
       "    </tr>\n",
       "    <tr>\n",
       "      <th>max</th>\n",
       "      <td>1.077501e+06</td>\n",
       "      <td>1.314167e+06</td>\n",
       "      <td>35000.000000</td>\n",
       "      <td>35000.000000</td>\n",
       "      <td>35000.000000</td>\n",
       "      <td>NaN</td>\n",
       "      <td>NaN</td>\n",
       "      <td>1305.190000</td>\n",
       "      <td>NaN</td>\n",
       "      <td>NaN</td>\n",
       "      <td>NaN</td>\n",
       "      <td>NaN</td>\n",
       "      <td>NaN</td>\n",
       "      <td>6.000000e+06</td>\n",
       "      <td>NaN</td>\n",
       "      <td>NaN</td>\n",
       "      <td>NaN</td>\n",
       "      <td>NaN</td>\n",
       "      <td>NaN</td>\n",
       "      <td>NaN</td>\n",
       "      <td>NaN</td>\n",
       "      <td>NaN</td>\n",
       "      <td>NaN</td>\n",
       "      <td>NaN</td>\n",
       "      <td>29.990000</td>\n",
       "      <td>11.000000</td>\n",
       "      <td>NaN</td>\n",
       "      <td>8.000000</td>\n",
       "      <td>120.000000</td>\n",
       "      <td>129.000000</td>\n",
       "      <td>44.000000</td>\n",
       "      <td>4.000000</td>\n",
       "      <td>149588.000000</td>\n",
       "      <td>NaN</td>\n",
       "      <td>90.000000</td>\n",
       "      <td>NaN</td>\n",
       "      <td>6311.470000</td>\n",
       "      <td>6307.370000</td>\n",
       "      <td>58563.679930</td>\n",
       "      <td>58563.680000</td>\n",
       "      <td>35000.020000</td>\n",
       "      <td>23563.680000</td>\n",
       "      <td>180.200000</td>\n",
       "      <td>29623.350000</td>\n",
       "      <td>7002.190000</td>\n",
       "      <td>NaN</td>\n",
       "      <td>36115.200000</td>\n",
       "      <td>NaN</td>\n",
       "      <td>NaN</td>\n",
       "      <td>0.0</td>\n",
       "      <td>NaN</td>\n",
       "      <td>1.0</td>\n",
       "      <td>NaN</td>\n",
       "      <td>NaN</td>\n",
       "      <td>NaN</td>\n",
       "      <td>NaN</td>\n",
       "      <td>0.0</td>\n",
       "      <td>NaN</td>\n",
       "      <td>NaN</td>\n",
       "      <td>NaN</td>\n",
       "      <td>NaN</td>\n",
       "      <td>NaN</td>\n",
       "      <td>NaN</td>\n",
       "      <td>NaN</td>\n",
       "      <td>NaN</td>\n",
       "      <td>NaN</td>\n",
       "      <td>NaN</td>\n",
       "      <td>NaN</td>\n",
       "      <td>NaN</td>\n",
       "      <td>NaN</td>\n",
       "      <td>NaN</td>\n",
       "      <td>NaN</td>\n",
       "      <td>NaN</td>\n",
       "      <td>NaN</td>\n",
       "      <td>NaN</td>\n",
       "      <td>NaN</td>\n",
       "      <td>NaN</td>\n",
       "      <td>NaN</td>\n",
       "      <td>0.0</td>\n",
       "      <td>0.0</td>\n",
       "      <td>NaN</td>\n",
       "      <td>NaN</td>\n",
       "      <td>NaN</td>\n",
       "      <td>NaN</td>\n",
       "      <td>NaN</td>\n",
       "      <td>NaN</td>\n",
       "      <td>NaN</td>\n",
       "      <td>NaN</td>\n",
       "      <td>NaN</td>\n",
       "      <td>NaN</td>\n",
       "      <td>NaN</td>\n",
       "      <td>NaN</td>\n",
       "      <td>NaN</td>\n",
       "      <td>NaN</td>\n",
       "      <td>NaN</td>\n",
       "      <td>NaN</td>\n",
       "      <td>NaN</td>\n",
       "      <td>NaN</td>\n",
       "      <td>NaN</td>\n",
       "      <td>NaN</td>\n",
       "      <td>NaN</td>\n",
       "      <td>NaN</td>\n",
       "      <td>NaN</td>\n",
       "      <td>NaN</td>\n",
       "      <td>NaN</td>\n",
       "      <td>2.000000</td>\n",
       "      <td>0.0</td>\n",
       "      <td>NaN</td>\n",
       "      <td>NaN</td>\n",
       "      <td>NaN</td>\n",
       "      <td>NaN</td>\n",
       "    </tr>\n",
       "  </tbody>\n",
       "</table>\n",
       "</div>"
      ],
      "text/plain": [
       "                  id     member_id     loan_amnt   funded_amnt  \\\n",
       "count   3.971700e+04  3.971700e+04  39717.000000  39717.000000   \n",
       "unique           NaN           NaN           NaN           NaN   \n",
       "top              NaN           NaN           NaN           NaN   \n",
       "freq             NaN           NaN           NaN           NaN   \n",
       "mean    6.831319e+05  8.504636e+05  11219.443815  10947.713196   \n",
       "std     2.106941e+05  2.656783e+05   7456.670694   7187.238670   \n",
       "min     5.473400e+04  7.069900e+04    500.000000    500.000000   \n",
       "25%     5.162210e+05  6.667800e+05   5500.000000   5400.000000   \n",
       "50%     6.656650e+05  8.508120e+05  10000.000000   9600.000000   \n",
       "75%     8.377550e+05  1.047339e+06  15000.000000  15000.000000   \n",
       "max     1.077501e+06  1.314167e+06  35000.000000  35000.000000   \n",
       "\n",
       "        funded_amnt_inv        term int_rate   installment  grade sub_grade  \\\n",
       "count      39717.000000       39717    39717  39717.000000  39717     39717   \n",
       "unique              NaN           2      371           NaN      7        35   \n",
       "top                 NaN   36 months   10.99%           NaN      B        B3   \n",
       "freq                NaN       29096      956           NaN  12020      2917   \n",
       "mean       10397.448868         NaN      NaN    324.561922    NaN       NaN   \n",
       "std         7128.450439         NaN      NaN    208.874874    NaN       NaN   \n",
       "min            0.000000         NaN      NaN     15.690000    NaN       NaN   \n",
       "25%         5000.000000         NaN      NaN    167.020000    NaN       NaN   \n",
       "50%         8975.000000         NaN      NaN    280.220000    NaN       NaN   \n",
       "75%        14400.000000         NaN      NaN    430.780000    NaN       NaN   \n",
       "max        35000.000000         NaN      NaN   1305.190000    NaN       NaN   \n",
       "\n",
       "       emp_title emp_length home_ownership    annual_inc verification_status  \\\n",
       "count      37258      38642          39717  3.971700e+04               39717   \n",
       "unique     28820         11              5           NaN                   3   \n",
       "top      US Army  10+ years           RENT           NaN        Not Verified   \n",
       "freq         134       8879          18899           NaN               16921   \n",
       "mean         NaN        NaN            NaN  6.896893e+04                 NaN   \n",
       "std          NaN        NaN            NaN  6.379377e+04                 NaN   \n",
       "min          NaN        NaN            NaN  4.000000e+03                 NaN   \n",
       "25%          NaN        NaN            NaN  4.040400e+04                 NaN   \n",
       "50%          NaN        NaN            NaN  5.900000e+04                 NaN   \n",
       "75%          NaN        NaN            NaN  8.230000e+04                 NaN   \n",
       "max          NaN        NaN            NaN  6.000000e+06                 NaN   \n",
       "\n",
       "       issue_d loan_status pymnt_plan  \\\n",
       "count    39717       39717      39717   \n",
       "unique      55           3          1   \n",
       "top     Dec-11  Fully Paid          n   \n",
       "freq      2260       32950      39717   \n",
       "mean       NaN         NaN        NaN   \n",
       "std        NaN         NaN        NaN   \n",
       "min        NaN         NaN        NaN   \n",
       "25%        NaN         NaN        NaN   \n",
       "50%        NaN         NaN        NaN   \n",
       "75%        NaN         NaN        NaN   \n",
       "max        NaN         NaN        NaN   \n",
       "\n",
       "                                                      url   desc  \\\n",
       "count                                               39717  26777   \n",
       "unique                                              39717  26527   \n",
       "top     https://lendingclub.com/browse/loanDetail.acti...          \n",
       "freq                                                    1    210   \n",
       "mean                                                  NaN    NaN   \n",
       "std                                                   NaN    NaN   \n",
       "min                                                   NaN    NaN   \n",
       "25%                                                   NaN    NaN   \n",
       "50%                                                   NaN    NaN   \n",
       "75%                                                   NaN    NaN   \n",
       "max                                                   NaN    NaN   \n",
       "\n",
       "                   purpose               title zip_code addr_state  \\\n",
       "count                39717               39706    39717      39717   \n",
       "unique                  14               19615      823         50   \n",
       "top     debt_consolidation  Debt Consolidation    100xx         CA   \n",
       "freq                 18641                2184      597       7099   \n",
       "mean                   NaN                 NaN      NaN        NaN   \n",
       "std                    NaN                 NaN      NaN        NaN   \n",
       "min                    NaN                 NaN      NaN        NaN   \n",
       "25%                    NaN                 NaN      NaN        NaN   \n",
       "50%                    NaN                 NaN      NaN        NaN   \n",
       "75%                    NaN                 NaN      NaN        NaN   \n",
       "max                    NaN                 NaN      NaN        NaN   \n",
       "\n",
       "                 dti   delinq_2yrs earliest_cr_line  inq_last_6mths  \\\n",
       "count   39717.000000  39717.000000            39717    39717.000000   \n",
       "unique           NaN           NaN              526             NaN   \n",
       "top              NaN           NaN           Nov-98             NaN   \n",
       "freq             NaN           NaN              370             NaN   \n",
       "mean       13.315130      0.146512              NaN        0.869200   \n",
       "std         6.678594      0.491812              NaN        1.070219   \n",
       "min         0.000000      0.000000              NaN        0.000000   \n",
       "25%         8.170000      0.000000              NaN        0.000000   \n",
       "50%        13.400000      0.000000              NaN        1.000000   \n",
       "75%        18.600000      0.000000              NaN        1.000000   \n",
       "max        29.990000     11.000000              NaN        8.000000   \n",
       "\n",
       "        mths_since_last_delinq  mths_since_last_record      open_acc  \\\n",
       "count             14035.000000             2786.000000  39717.000000   \n",
       "unique                     NaN                     NaN           NaN   \n",
       "top                        NaN                     NaN           NaN   \n",
       "freq                       NaN                     NaN           NaN   \n",
       "mean                 35.900962               69.698134      9.294408   \n",
       "std                  22.020060               43.822529      4.400282   \n",
       "min                   0.000000                0.000000      2.000000   \n",
       "25%                  18.000000               22.000000      6.000000   \n",
       "50%                  34.000000               90.000000      9.000000   \n",
       "75%                  52.000000              104.000000     12.000000   \n",
       "max                 120.000000              129.000000     44.000000   \n",
       "\n",
       "             pub_rec      revol_bal revol_util     total_acc  \\\n",
       "count   39717.000000   39717.000000      39667  39717.000000   \n",
       "unique           NaN            NaN       1089           NaN   \n",
       "top              NaN            NaN         0%           NaN   \n",
       "freq             NaN            NaN        977           NaN   \n",
       "mean        0.055065   13382.528086        NaN     22.088828   \n",
       "std         0.237200   15885.016641        NaN     11.401709   \n",
       "min         0.000000       0.000000        NaN      2.000000   \n",
       "25%         0.000000    3703.000000        NaN     13.000000   \n",
       "50%         0.000000    8850.000000        NaN     20.000000   \n",
       "75%         0.000000   17058.000000        NaN     29.000000   \n",
       "max         4.000000  149588.000000        NaN     90.000000   \n",
       "\n",
       "       initial_list_status     out_prncp  out_prncp_inv   total_pymnt  \\\n",
       "count                39717  39717.000000   39717.000000  39717.000000   \n",
       "unique                   1           NaN            NaN           NaN   \n",
       "top                      f           NaN            NaN           NaN   \n",
       "freq                 39717           NaN            NaN           NaN   \n",
       "mean                   NaN     51.227887      50.989768  12153.596544   \n",
       "std                    NaN    375.172839     373.824457   9042.040766   \n",
       "min                    NaN      0.000000       0.000000      0.000000   \n",
       "25%                    NaN      0.000000       0.000000   5576.930000   \n",
       "50%                    NaN      0.000000       0.000000   9899.640319   \n",
       "75%                    NaN      0.000000       0.000000  16534.433040   \n",
       "max                    NaN   6311.470000    6307.370000  58563.679930   \n",
       "\n",
       "        total_pymnt_inv  total_rec_prncp  total_rec_int  total_rec_late_fee  \\\n",
       "count      39717.000000     39717.000000   39717.000000        39717.000000   \n",
       "unique              NaN              NaN            NaN                 NaN   \n",
       "top                 NaN              NaN            NaN                 NaN   \n",
       "freq                NaN              NaN            NaN                 NaN   \n",
       "mean       11567.149118      9793.348813    2263.663172            1.363015   \n",
       "std         8942.672613      7065.522127    2608.111964            7.289979   \n",
       "min            0.000000         0.000000       0.000000            0.000000   \n",
       "25%         5112.310000      4600.000000     662.180000            0.000000   \n",
       "50%         9287.150000      8000.000000    1348.910000            0.000000   \n",
       "75%        15798.810000     13653.260000    2833.400000            0.000000   \n",
       "max        58563.680000     35000.020000   23563.680000          180.200000   \n",
       "\n",
       "          recoveries  collection_recovery_fee last_pymnt_d  last_pymnt_amnt  \\\n",
       "count   39717.000000             39717.000000        39646     39717.000000   \n",
       "unique           NaN                      NaN          101              NaN   \n",
       "top              NaN                      NaN       May-16              NaN   \n",
       "freq             NaN                      NaN         1256              NaN   \n",
       "mean       95.221624                12.406112          NaN      2678.826162   \n",
       "std       688.744771               148.671593          NaN      4447.136012   \n",
       "min         0.000000                 0.000000          NaN         0.000000   \n",
       "25%         0.000000                 0.000000          NaN       218.680000   \n",
       "50%         0.000000                 0.000000          NaN       546.140000   \n",
       "75%         0.000000                 0.000000          NaN      3293.160000   \n",
       "max     29623.350000              7002.190000          NaN     36115.200000   \n",
       "\n",
       "       next_pymnt_d last_credit_pull_d  collections_12_mths_ex_med  \\\n",
       "count          1140              39715                     39661.0   \n",
       "unique            2                106                         NaN   \n",
       "top          Jun-16             May-16                         NaN   \n",
       "freq           1125              10308                         NaN   \n",
       "mean            NaN                NaN                         0.0   \n",
       "std             NaN                NaN                         0.0   \n",
       "min             NaN                NaN                         0.0   \n",
       "25%             NaN                NaN                         0.0   \n",
       "50%             NaN                NaN                         0.0   \n",
       "75%             NaN                NaN                         0.0   \n",
       "max             NaN                NaN                         0.0   \n",
       "\n",
       "        mths_since_last_major_derog  policy_code application_type  \\\n",
       "count                           0.0      39717.0            39717   \n",
       "unique                          NaN          NaN                1   \n",
       "top                             NaN          NaN       INDIVIDUAL   \n",
       "freq                            NaN          NaN            39717   \n",
       "mean                            NaN          1.0              NaN   \n",
       "std                             NaN          0.0              NaN   \n",
       "min                             NaN          1.0              NaN   \n",
       "25%                             NaN          1.0              NaN   \n",
       "50%                             NaN          1.0              NaN   \n",
       "75%                             NaN          1.0              NaN   \n",
       "max                             NaN          1.0              NaN   \n",
       "\n",
       "        annual_inc_joint  dti_joint  verification_status_joint  \\\n",
       "count                0.0        0.0                        0.0   \n",
       "unique               NaN        NaN                        NaN   \n",
       "top                  NaN        NaN                        NaN   \n",
       "freq                 NaN        NaN                        NaN   \n",
       "mean                 NaN        NaN                        NaN   \n",
       "std                  NaN        NaN                        NaN   \n",
       "min                  NaN        NaN                        NaN   \n",
       "25%                  NaN        NaN                        NaN   \n",
       "50%                  NaN        NaN                        NaN   \n",
       "75%                  NaN        NaN                        NaN   \n",
       "max                  NaN        NaN                        NaN   \n",
       "\n",
       "        acc_now_delinq  tot_coll_amt  tot_cur_bal  open_acc_6m  open_il_6m  \\\n",
       "count          39717.0           0.0          0.0          0.0         0.0   \n",
       "unique             NaN           NaN          NaN          NaN         NaN   \n",
       "top                NaN           NaN          NaN          NaN         NaN   \n",
       "freq               NaN           NaN          NaN          NaN         NaN   \n",
       "mean               0.0           NaN          NaN          NaN         NaN   \n",
       "std                0.0           NaN          NaN          NaN         NaN   \n",
       "min                0.0           NaN          NaN          NaN         NaN   \n",
       "25%                0.0           NaN          NaN          NaN         NaN   \n",
       "50%                0.0           NaN          NaN          NaN         NaN   \n",
       "75%                0.0           NaN          NaN          NaN         NaN   \n",
       "max                0.0           NaN          NaN          NaN         NaN   \n",
       "\n",
       "        open_il_12m  open_il_24m  mths_since_rcnt_il  total_bal_il  il_util  \\\n",
       "count           0.0          0.0                 0.0           0.0      0.0   \n",
       "unique          NaN          NaN                 NaN           NaN      NaN   \n",
       "top             NaN          NaN                 NaN           NaN      NaN   \n",
       "freq            NaN          NaN                 NaN           NaN      NaN   \n",
       "mean            NaN          NaN                 NaN           NaN      NaN   \n",
       "std             NaN          NaN                 NaN           NaN      NaN   \n",
       "min             NaN          NaN                 NaN           NaN      NaN   \n",
       "25%             NaN          NaN                 NaN           NaN      NaN   \n",
       "50%             NaN          NaN                 NaN           NaN      NaN   \n",
       "75%             NaN          NaN                 NaN           NaN      NaN   \n",
       "max             NaN          NaN                 NaN           NaN      NaN   \n",
       "\n",
       "        open_rv_12m  open_rv_24m  max_bal_bc  all_util  total_rev_hi_lim  \\\n",
       "count           0.0          0.0         0.0       0.0               0.0   \n",
       "unique          NaN          NaN         NaN       NaN               NaN   \n",
       "top             NaN          NaN         NaN       NaN               NaN   \n",
       "freq            NaN          NaN         NaN       NaN               NaN   \n",
       "mean            NaN          NaN         NaN       NaN               NaN   \n",
       "std             NaN          NaN         NaN       NaN               NaN   \n",
       "min             NaN          NaN         NaN       NaN               NaN   \n",
       "25%             NaN          NaN         NaN       NaN               NaN   \n",
       "50%             NaN          NaN         NaN       NaN               NaN   \n",
       "75%             NaN          NaN         NaN       NaN               NaN   \n",
       "max             NaN          NaN         NaN       NaN               NaN   \n",
       "\n",
       "        inq_fi  total_cu_tl  inq_last_12m  acc_open_past_24mths  avg_cur_bal  \\\n",
       "count      0.0          0.0           0.0                   0.0          0.0   \n",
       "unique     NaN          NaN           NaN                   NaN          NaN   \n",
       "top        NaN          NaN           NaN                   NaN          NaN   \n",
       "freq       NaN          NaN           NaN                   NaN          NaN   \n",
       "mean       NaN          NaN           NaN                   NaN          NaN   \n",
       "std        NaN          NaN           NaN                   NaN          NaN   \n",
       "min        NaN          NaN           NaN                   NaN          NaN   \n",
       "25%        NaN          NaN           NaN                   NaN          NaN   \n",
       "50%        NaN          NaN           NaN                   NaN          NaN   \n",
       "75%        NaN          NaN           NaN                   NaN          NaN   \n",
       "max        NaN          NaN           NaN                   NaN          NaN   \n",
       "\n",
       "        bc_open_to_buy  bc_util  chargeoff_within_12_mths  delinq_amnt  \\\n",
       "count              0.0      0.0                   39661.0      39717.0   \n",
       "unique             NaN      NaN                       NaN          NaN   \n",
       "top                NaN      NaN                       NaN          NaN   \n",
       "freq               NaN      NaN                       NaN          NaN   \n",
       "mean               NaN      NaN                       0.0          0.0   \n",
       "std                NaN      NaN                       0.0          0.0   \n",
       "min                NaN      NaN                       0.0          0.0   \n",
       "25%                NaN      NaN                       0.0          0.0   \n",
       "50%                NaN      NaN                       0.0          0.0   \n",
       "75%                NaN      NaN                       0.0          0.0   \n",
       "max                NaN      NaN                       0.0          0.0   \n",
       "\n",
       "        mo_sin_old_il_acct  mo_sin_old_rev_tl_op  mo_sin_rcnt_rev_tl_op  \\\n",
       "count                  0.0                   0.0                    0.0   \n",
       "unique                 NaN                   NaN                    NaN   \n",
       "top                    NaN                   NaN                    NaN   \n",
       "freq                   NaN                   NaN                    NaN   \n",
       "mean                   NaN                   NaN                    NaN   \n",
       "std                    NaN                   NaN                    NaN   \n",
       "min                    NaN                   NaN                    NaN   \n",
       "25%                    NaN                   NaN                    NaN   \n",
       "50%                    NaN                   NaN                    NaN   \n",
       "75%                    NaN                   NaN                    NaN   \n",
       "max                    NaN                   NaN                    NaN   \n",
       "\n",
       "        mo_sin_rcnt_tl  mort_acc  mths_since_recent_bc  \\\n",
       "count              0.0       0.0                   0.0   \n",
       "unique             NaN       NaN                   NaN   \n",
       "top                NaN       NaN                   NaN   \n",
       "freq               NaN       NaN                   NaN   \n",
       "mean               NaN       NaN                   NaN   \n",
       "std                NaN       NaN                   NaN   \n",
       "min                NaN       NaN                   NaN   \n",
       "25%                NaN       NaN                   NaN   \n",
       "50%                NaN       NaN                   NaN   \n",
       "75%                NaN       NaN                   NaN   \n",
       "max                NaN       NaN                   NaN   \n",
       "\n",
       "        mths_since_recent_bc_dlq  mths_since_recent_inq  \\\n",
       "count                        0.0                    0.0   \n",
       "unique                       NaN                    NaN   \n",
       "top                          NaN                    NaN   \n",
       "freq                         NaN                    NaN   \n",
       "mean                         NaN                    NaN   \n",
       "std                          NaN                    NaN   \n",
       "min                          NaN                    NaN   \n",
       "25%                          NaN                    NaN   \n",
       "50%                          NaN                    NaN   \n",
       "75%                          NaN                    NaN   \n",
       "max                          NaN                    NaN   \n",
       "\n",
       "        mths_since_recent_revol_delinq  num_accts_ever_120_pd  num_actv_bc_tl  \\\n",
       "count                              0.0                    0.0             0.0   \n",
       "unique                             NaN                    NaN             NaN   \n",
       "top                                NaN                    NaN             NaN   \n",
       "freq                               NaN                    NaN             NaN   \n",
       "mean                               NaN                    NaN             NaN   \n",
       "std                                NaN                    NaN             NaN   \n",
       "min                                NaN                    NaN             NaN   \n",
       "25%                                NaN                    NaN             NaN   \n",
       "50%                                NaN                    NaN             NaN   \n",
       "75%                                NaN                    NaN             NaN   \n",
       "max                                NaN                    NaN             NaN   \n",
       "\n",
       "        num_actv_rev_tl  num_bc_sats  num_bc_tl  num_il_tl  num_op_rev_tl  \\\n",
       "count               0.0          0.0        0.0        0.0            0.0   \n",
       "unique              NaN          NaN        NaN        NaN            NaN   \n",
       "top                 NaN          NaN        NaN        NaN            NaN   \n",
       "freq                NaN          NaN        NaN        NaN            NaN   \n",
       "mean                NaN          NaN        NaN        NaN            NaN   \n",
       "std                 NaN          NaN        NaN        NaN            NaN   \n",
       "min                 NaN          NaN        NaN        NaN            NaN   \n",
       "25%                 NaN          NaN        NaN        NaN            NaN   \n",
       "50%                 NaN          NaN        NaN        NaN            NaN   \n",
       "75%                 NaN          NaN        NaN        NaN            NaN   \n",
       "max                 NaN          NaN        NaN        NaN            NaN   \n",
       "\n",
       "        num_rev_accts  num_rev_tl_bal_gt_0  num_sats  num_tl_120dpd_2m  \\\n",
       "count             0.0                  0.0       0.0               0.0   \n",
       "unique            NaN                  NaN       NaN               NaN   \n",
       "top               NaN                  NaN       NaN               NaN   \n",
       "freq              NaN                  NaN       NaN               NaN   \n",
       "mean              NaN                  NaN       NaN               NaN   \n",
       "std               NaN                  NaN       NaN               NaN   \n",
       "min               NaN                  NaN       NaN               NaN   \n",
       "25%               NaN                  NaN       NaN               NaN   \n",
       "50%               NaN                  NaN       NaN               NaN   \n",
       "75%               NaN                  NaN       NaN               NaN   \n",
       "max               NaN                  NaN       NaN               NaN   \n",
       "\n",
       "        num_tl_30dpd  num_tl_90g_dpd_24m  num_tl_op_past_12m  pct_tl_nvr_dlq  \\\n",
       "count            0.0                 0.0                 0.0             0.0   \n",
       "unique           NaN                 NaN                 NaN             NaN   \n",
       "top              NaN                 NaN                 NaN             NaN   \n",
       "freq             NaN                 NaN                 NaN             NaN   \n",
       "mean             NaN                 NaN                 NaN             NaN   \n",
       "std              NaN                 NaN                 NaN             NaN   \n",
       "min              NaN                 NaN                 NaN             NaN   \n",
       "25%              NaN                 NaN                 NaN             NaN   \n",
       "50%              NaN                 NaN                 NaN             NaN   \n",
       "75%              NaN                 NaN                 NaN             NaN   \n",
       "max              NaN                 NaN                 NaN             NaN   \n",
       "\n",
       "        percent_bc_gt_75  pub_rec_bankruptcies  tax_liens  tot_hi_cred_lim  \\\n",
       "count                0.0          39020.000000    39678.0              0.0   \n",
       "unique               NaN                   NaN        NaN              NaN   \n",
       "top                  NaN                   NaN        NaN              NaN   \n",
       "freq                 NaN                   NaN        NaN              NaN   \n",
       "mean                 NaN              0.043260        0.0              NaN   \n",
       "std                  NaN              0.204324        0.0              NaN   \n",
       "min                  NaN              0.000000        0.0              NaN   \n",
       "25%                  NaN              0.000000        0.0              NaN   \n",
       "50%                  NaN              0.000000        0.0              NaN   \n",
       "75%                  NaN              0.000000        0.0              NaN   \n",
       "max                  NaN              2.000000        0.0              NaN   \n",
       "\n",
       "        total_bal_ex_mort  total_bc_limit  total_il_high_credit_limit  \n",
       "count                 0.0             0.0                         0.0  \n",
       "unique                NaN             NaN                         NaN  \n",
       "top                   NaN             NaN                         NaN  \n",
       "freq                  NaN             NaN                         NaN  \n",
       "mean                  NaN             NaN                         NaN  \n",
       "std                   NaN             NaN                         NaN  \n",
       "min                   NaN             NaN                         NaN  \n",
       "25%                   NaN             NaN                         NaN  \n",
       "50%                   NaN             NaN                         NaN  \n",
       "75%                   NaN             NaN                         NaN  \n",
       "max                   NaN             NaN                         NaN  "
      ]
     },
     "execution_count": 6,
     "metadata": {},
     "output_type": "execute_result"
    }
   ],
   "source": [
    "loan.describe(include='all')"
   ]
  },
  {
   "cell_type": "markdown",
   "metadata": {},
   "source": [
    "Observations made:\n",
    "* Target coulmn is loan_status, which marks wheather an applicant is risky or not.\n",
    "* Objective is to identify factors affecting applicants to be risky.\n",
    "* 54 of the coulmns had NULL values, so dropping them."
   ]
  },
  {
   "cell_type": "code",
   "execution_count": 7,
   "metadata": {},
   "outputs": [],
   "source": [
    "loan.dropna(how='all',axis=1,inplace=True)"
   ]
  },
  {
   "cell_type": "markdown",
   "metadata": {},
   "source": []
  },
  {
   "cell_type": "code",
   "execution_count": 8,
   "metadata": {
    "scrolled": true
   },
   "outputs": [
    {
     "data": {
      "text/html": [
       "<div>\n",
       "<style scoped>\n",
       "    .dataframe tbody tr th:only-of-type {\n",
       "        vertical-align: middle;\n",
       "    }\n",
       "\n",
       "    .dataframe tbody tr th {\n",
       "        vertical-align: top;\n",
       "    }\n",
       "\n",
       "    .dataframe thead th {\n",
       "        text-align: right;\n",
       "    }\n",
       "</style>\n",
       "<table border=\"1\" class=\"dataframe\">\n",
       "  <thead>\n",
       "    <tr style=\"text-align: right;\">\n",
       "      <th></th>\n",
       "      <th>id</th>\n",
       "      <th>member_id</th>\n",
       "      <th>loan_amnt</th>\n",
       "      <th>funded_amnt</th>\n",
       "      <th>funded_amnt_inv</th>\n",
       "      <th>term</th>\n",
       "      <th>int_rate</th>\n",
       "      <th>installment</th>\n",
       "      <th>grade</th>\n",
       "      <th>sub_grade</th>\n",
       "      <th>emp_title</th>\n",
       "      <th>emp_length</th>\n",
       "      <th>home_ownership</th>\n",
       "      <th>annual_inc</th>\n",
       "      <th>verification_status</th>\n",
       "      <th>issue_d</th>\n",
       "      <th>loan_status</th>\n",
       "      <th>pymnt_plan</th>\n",
       "      <th>url</th>\n",
       "      <th>desc</th>\n",
       "      <th>purpose</th>\n",
       "      <th>title</th>\n",
       "      <th>zip_code</th>\n",
       "      <th>addr_state</th>\n",
       "      <th>dti</th>\n",
       "      <th>delinq_2yrs</th>\n",
       "      <th>earliest_cr_line</th>\n",
       "      <th>inq_last_6mths</th>\n",
       "      <th>mths_since_last_delinq</th>\n",
       "      <th>mths_since_last_record</th>\n",
       "      <th>open_acc</th>\n",
       "      <th>pub_rec</th>\n",
       "      <th>revol_bal</th>\n",
       "      <th>revol_util</th>\n",
       "      <th>total_acc</th>\n",
       "      <th>initial_list_status</th>\n",
       "      <th>out_prncp</th>\n",
       "      <th>out_prncp_inv</th>\n",
       "      <th>total_pymnt</th>\n",
       "      <th>total_pymnt_inv</th>\n",
       "      <th>total_rec_prncp</th>\n",
       "      <th>total_rec_int</th>\n",
       "      <th>total_rec_late_fee</th>\n",
       "      <th>recoveries</th>\n",
       "      <th>collection_recovery_fee</th>\n",
       "      <th>last_pymnt_d</th>\n",
       "      <th>last_pymnt_amnt</th>\n",
       "      <th>next_pymnt_d</th>\n",
       "      <th>last_credit_pull_d</th>\n",
       "      <th>collections_12_mths_ex_med</th>\n",
       "      <th>policy_code</th>\n",
       "      <th>application_type</th>\n",
       "      <th>acc_now_delinq</th>\n",
       "      <th>chargeoff_within_12_mths</th>\n",
       "      <th>delinq_amnt</th>\n",
       "      <th>pub_rec_bankruptcies</th>\n",
       "      <th>tax_liens</th>\n",
       "    </tr>\n",
       "  </thead>\n",
       "  <tbody>\n",
       "    <tr>\n",
       "      <th>count</th>\n",
       "      <td>3.971700e+04</td>\n",
       "      <td>3.971700e+04</td>\n",
       "      <td>39717.000000</td>\n",
       "      <td>39717.000000</td>\n",
       "      <td>39717.000000</td>\n",
       "      <td>39717</td>\n",
       "      <td>39717</td>\n",
       "      <td>39717.000000</td>\n",
       "      <td>39717</td>\n",
       "      <td>39717</td>\n",
       "      <td>37258</td>\n",
       "      <td>38642</td>\n",
       "      <td>39717</td>\n",
       "      <td>3.971700e+04</td>\n",
       "      <td>39717</td>\n",
       "      <td>39717</td>\n",
       "      <td>39717</td>\n",
       "      <td>39717</td>\n",
       "      <td>39717</td>\n",
       "      <td>26777</td>\n",
       "      <td>39717</td>\n",
       "      <td>39706</td>\n",
       "      <td>39717</td>\n",
       "      <td>39717</td>\n",
       "      <td>39717.000000</td>\n",
       "      <td>39717.000000</td>\n",
       "      <td>39717</td>\n",
       "      <td>39717.000000</td>\n",
       "      <td>14035.000000</td>\n",
       "      <td>2786.000000</td>\n",
       "      <td>39717.000000</td>\n",
       "      <td>39717.000000</td>\n",
       "      <td>39717.000000</td>\n",
       "      <td>39667</td>\n",
       "      <td>39717.000000</td>\n",
       "      <td>39717</td>\n",
       "      <td>39717.000000</td>\n",
       "      <td>39717.000000</td>\n",
       "      <td>39717.000000</td>\n",
       "      <td>39717.000000</td>\n",
       "      <td>39717.000000</td>\n",
       "      <td>39717.000000</td>\n",
       "      <td>39717.000000</td>\n",
       "      <td>39717.000000</td>\n",
       "      <td>39717.000000</td>\n",
       "      <td>39646</td>\n",
       "      <td>39717.000000</td>\n",
       "      <td>1140</td>\n",
       "      <td>39715</td>\n",
       "      <td>39661.0</td>\n",
       "      <td>39717.0</td>\n",
       "      <td>39717</td>\n",
       "      <td>39717.0</td>\n",
       "      <td>39661.0</td>\n",
       "      <td>39717.0</td>\n",
       "      <td>39020.000000</td>\n",
       "      <td>39678.0</td>\n",
       "    </tr>\n",
       "    <tr>\n",
       "      <th>unique</th>\n",
       "      <td>NaN</td>\n",
       "      <td>NaN</td>\n",
       "      <td>NaN</td>\n",
       "      <td>NaN</td>\n",
       "      <td>NaN</td>\n",
       "      <td>2</td>\n",
       "      <td>371</td>\n",
       "      <td>NaN</td>\n",
       "      <td>7</td>\n",
       "      <td>35</td>\n",
       "      <td>28820</td>\n",
       "      <td>11</td>\n",
       "      <td>5</td>\n",
       "      <td>NaN</td>\n",
       "      <td>3</td>\n",
       "      <td>55</td>\n",
       "      <td>3</td>\n",
       "      <td>1</td>\n",
       "      <td>39717</td>\n",
       "      <td>26527</td>\n",
       "      <td>14</td>\n",
       "      <td>19615</td>\n",
       "      <td>823</td>\n",
       "      <td>50</td>\n",
       "      <td>NaN</td>\n",
       "      <td>NaN</td>\n",
       "      <td>526</td>\n",
       "      <td>NaN</td>\n",
       "      <td>NaN</td>\n",
       "      <td>NaN</td>\n",
       "      <td>NaN</td>\n",
       "      <td>NaN</td>\n",
       "      <td>NaN</td>\n",
       "      <td>1089</td>\n",
       "      <td>NaN</td>\n",
       "      <td>1</td>\n",
       "      <td>NaN</td>\n",
       "      <td>NaN</td>\n",
       "      <td>NaN</td>\n",
       "      <td>NaN</td>\n",
       "      <td>NaN</td>\n",
       "      <td>NaN</td>\n",
       "      <td>NaN</td>\n",
       "      <td>NaN</td>\n",
       "      <td>NaN</td>\n",
       "      <td>101</td>\n",
       "      <td>NaN</td>\n",
       "      <td>2</td>\n",
       "      <td>106</td>\n",
       "      <td>NaN</td>\n",
       "      <td>NaN</td>\n",
       "      <td>1</td>\n",
       "      <td>NaN</td>\n",
       "      <td>NaN</td>\n",
       "      <td>NaN</td>\n",
       "      <td>NaN</td>\n",
       "      <td>NaN</td>\n",
       "    </tr>\n",
       "    <tr>\n",
       "      <th>top</th>\n",
       "      <td>NaN</td>\n",
       "      <td>NaN</td>\n",
       "      <td>NaN</td>\n",
       "      <td>NaN</td>\n",
       "      <td>NaN</td>\n",
       "      <td>36 months</td>\n",
       "      <td>10.99%</td>\n",
       "      <td>NaN</td>\n",
       "      <td>B</td>\n",
       "      <td>B3</td>\n",
       "      <td>US Army</td>\n",
       "      <td>10+ years</td>\n",
       "      <td>RENT</td>\n",
       "      <td>NaN</td>\n",
       "      <td>Not Verified</td>\n",
       "      <td>Dec-11</td>\n",
       "      <td>Fully Paid</td>\n",
       "      <td>n</td>\n",
       "      <td>https://lendingclub.com/browse/loanDetail.acti...</td>\n",
       "      <td></td>\n",
       "      <td>debt_consolidation</td>\n",
       "      <td>Debt Consolidation</td>\n",
       "      <td>100xx</td>\n",
       "      <td>CA</td>\n",
       "      <td>NaN</td>\n",
       "      <td>NaN</td>\n",
       "      <td>Nov-98</td>\n",
       "      <td>NaN</td>\n",
       "      <td>NaN</td>\n",
       "      <td>NaN</td>\n",
       "      <td>NaN</td>\n",
       "      <td>NaN</td>\n",
       "      <td>NaN</td>\n",
       "      <td>0%</td>\n",
       "      <td>NaN</td>\n",
       "      <td>f</td>\n",
       "      <td>NaN</td>\n",
       "      <td>NaN</td>\n",
       "      <td>NaN</td>\n",
       "      <td>NaN</td>\n",
       "      <td>NaN</td>\n",
       "      <td>NaN</td>\n",
       "      <td>NaN</td>\n",
       "      <td>NaN</td>\n",
       "      <td>NaN</td>\n",
       "      <td>May-16</td>\n",
       "      <td>NaN</td>\n",
       "      <td>Jun-16</td>\n",
       "      <td>May-16</td>\n",
       "      <td>NaN</td>\n",
       "      <td>NaN</td>\n",
       "      <td>INDIVIDUAL</td>\n",
       "      <td>NaN</td>\n",
       "      <td>NaN</td>\n",
       "      <td>NaN</td>\n",
       "      <td>NaN</td>\n",
       "      <td>NaN</td>\n",
       "    </tr>\n",
       "    <tr>\n",
       "      <th>freq</th>\n",
       "      <td>NaN</td>\n",
       "      <td>NaN</td>\n",
       "      <td>NaN</td>\n",
       "      <td>NaN</td>\n",
       "      <td>NaN</td>\n",
       "      <td>29096</td>\n",
       "      <td>956</td>\n",
       "      <td>NaN</td>\n",
       "      <td>12020</td>\n",
       "      <td>2917</td>\n",
       "      <td>134</td>\n",
       "      <td>8879</td>\n",
       "      <td>18899</td>\n",
       "      <td>NaN</td>\n",
       "      <td>16921</td>\n",
       "      <td>2260</td>\n",
       "      <td>32950</td>\n",
       "      <td>39717</td>\n",
       "      <td>1</td>\n",
       "      <td>210</td>\n",
       "      <td>18641</td>\n",
       "      <td>2184</td>\n",
       "      <td>597</td>\n",
       "      <td>7099</td>\n",
       "      <td>NaN</td>\n",
       "      <td>NaN</td>\n",
       "      <td>370</td>\n",
       "      <td>NaN</td>\n",
       "      <td>NaN</td>\n",
       "      <td>NaN</td>\n",
       "      <td>NaN</td>\n",
       "      <td>NaN</td>\n",
       "      <td>NaN</td>\n",
       "      <td>977</td>\n",
       "      <td>NaN</td>\n",
       "      <td>39717</td>\n",
       "      <td>NaN</td>\n",
       "      <td>NaN</td>\n",
       "      <td>NaN</td>\n",
       "      <td>NaN</td>\n",
       "      <td>NaN</td>\n",
       "      <td>NaN</td>\n",
       "      <td>NaN</td>\n",
       "      <td>NaN</td>\n",
       "      <td>NaN</td>\n",
       "      <td>1256</td>\n",
       "      <td>NaN</td>\n",
       "      <td>1125</td>\n",
       "      <td>10308</td>\n",
       "      <td>NaN</td>\n",
       "      <td>NaN</td>\n",
       "      <td>39717</td>\n",
       "      <td>NaN</td>\n",
       "      <td>NaN</td>\n",
       "      <td>NaN</td>\n",
       "      <td>NaN</td>\n",
       "      <td>NaN</td>\n",
       "    </tr>\n",
       "    <tr>\n",
       "      <th>mean</th>\n",
       "      <td>6.831319e+05</td>\n",
       "      <td>8.504636e+05</td>\n",
       "      <td>11219.443815</td>\n",
       "      <td>10947.713196</td>\n",
       "      <td>10397.448868</td>\n",
       "      <td>NaN</td>\n",
       "      <td>NaN</td>\n",
       "      <td>324.561922</td>\n",
       "      <td>NaN</td>\n",
       "      <td>NaN</td>\n",
       "      <td>NaN</td>\n",
       "      <td>NaN</td>\n",
       "      <td>NaN</td>\n",
       "      <td>6.896893e+04</td>\n",
       "      <td>NaN</td>\n",
       "      <td>NaN</td>\n",
       "      <td>NaN</td>\n",
       "      <td>NaN</td>\n",
       "      <td>NaN</td>\n",
       "      <td>NaN</td>\n",
       "      <td>NaN</td>\n",
       "      <td>NaN</td>\n",
       "      <td>NaN</td>\n",
       "      <td>NaN</td>\n",
       "      <td>13.315130</td>\n",
       "      <td>0.146512</td>\n",
       "      <td>NaN</td>\n",
       "      <td>0.869200</td>\n",
       "      <td>35.900962</td>\n",
       "      <td>69.698134</td>\n",
       "      <td>9.294408</td>\n",
       "      <td>0.055065</td>\n",
       "      <td>13382.528086</td>\n",
       "      <td>NaN</td>\n",
       "      <td>22.088828</td>\n",
       "      <td>NaN</td>\n",
       "      <td>51.227887</td>\n",
       "      <td>50.989768</td>\n",
       "      <td>12153.596544</td>\n",
       "      <td>11567.149118</td>\n",
       "      <td>9793.348813</td>\n",
       "      <td>2263.663172</td>\n",
       "      <td>1.363015</td>\n",
       "      <td>95.221624</td>\n",
       "      <td>12.406112</td>\n",
       "      <td>NaN</td>\n",
       "      <td>2678.826162</td>\n",
       "      <td>NaN</td>\n",
       "      <td>NaN</td>\n",
       "      <td>0.0</td>\n",
       "      <td>1.0</td>\n",
       "      <td>NaN</td>\n",
       "      <td>0.0</td>\n",
       "      <td>0.0</td>\n",
       "      <td>0.0</td>\n",
       "      <td>0.043260</td>\n",
       "      <td>0.0</td>\n",
       "    </tr>\n",
       "    <tr>\n",
       "      <th>std</th>\n",
       "      <td>2.106941e+05</td>\n",
       "      <td>2.656783e+05</td>\n",
       "      <td>7456.670694</td>\n",
       "      <td>7187.238670</td>\n",
       "      <td>7128.450439</td>\n",
       "      <td>NaN</td>\n",
       "      <td>NaN</td>\n",
       "      <td>208.874874</td>\n",
       "      <td>NaN</td>\n",
       "      <td>NaN</td>\n",
       "      <td>NaN</td>\n",
       "      <td>NaN</td>\n",
       "      <td>NaN</td>\n",
       "      <td>6.379377e+04</td>\n",
       "      <td>NaN</td>\n",
       "      <td>NaN</td>\n",
       "      <td>NaN</td>\n",
       "      <td>NaN</td>\n",
       "      <td>NaN</td>\n",
       "      <td>NaN</td>\n",
       "      <td>NaN</td>\n",
       "      <td>NaN</td>\n",
       "      <td>NaN</td>\n",
       "      <td>NaN</td>\n",
       "      <td>6.678594</td>\n",
       "      <td>0.491812</td>\n",
       "      <td>NaN</td>\n",
       "      <td>1.070219</td>\n",
       "      <td>22.020060</td>\n",
       "      <td>43.822529</td>\n",
       "      <td>4.400282</td>\n",
       "      <td>0.237200</td>\n",
       "      <td>15885.016641</td>\n",
       "      <td>NaN</td>\n",
       "      <td>11.401709</td>\n",
       "      <td>NaN</td>\n",
       "      <td>375.172839</td>\n",
       "      <td>373.824457</td>\n",
       "      <td>9042.040766</td>\n",
       "      <td>8942.672613</td>\n",
       "      <td>7065.522127</td>\n",
       "      <td>2608.111964</td>\n",
       "      <td>7.289979</td>\n",
       "      <td>688.744771</td>\n",
       "      <td>148.671593</td>\n",
       "      <td>NaN</td>\n",
       "      <td>4447.136012</td>\n",
       "      <td>NaN</td>\n",
       "      <td>NaN</td>\n",
       "      <td>0.0</td>\n",
       "      <td>0.0</td>\n",
       "      <td>NaN</td>\n",
       "      <td>0.0</td>\n",
       "      <td>0.0</td>\n",
       "      <td>0.0</td>\n",
       "      <td>0.204324</td>\n",
       "      <td>0.0</td>\n",
       "    </tr>\n",
       "    <tr>\n",
       "      <th>min</th>\n",
       "      <td>5.473400e+04</td>\n",
       "      <td>7.069900e+04</td>\n",
       "      <td>500.000000</td>\n",
       "      <td>500.000000</td>\n",
       "      <td>0.000000</td>\n",
       "      <td>NaN</td>\n",
       "      <td>NaN</td>\n",
       "      <td>15.690000</td>\n",
       "      <td>NaN</td>\n",
       "      <td>NaN</td>\n",
       "      <td>NaN</td>\n",
       "      <td>NaN</td>\n",
       "      <td>NaN</td>\n",
       "      <td>4.000000e+03</td>\n",
       "      <td>NaN</td>\n",
       "      <td>NaN</td>\n",
       "      <td>NaN</td>\n",
       "      <td>NaN</td>\n",
       "      <td>NaN</td>\n",
       "      <td>NaN</td>\n",
       "      <td>NaN</td>\n",
       "      <td>NaN</td>\n",
       "      <td>NaN</td>\n",
       "      <td>NaN</td>\n",
       "      <td>0.000000</td>\n",
       "      <td>0.000000</td>\n",
       "      <td>NaN</td>\n",
       "      <td>0.000000</td>\n",
       "      <td>0.000000</td>\n",
       "      <td>0.000000</td>\n",
       "      <td>2.000000</td>\n",
       "      <td>0.000000</td>\n",
       "      <td>0.000000</td>\n",
       "      <td>NaN</td>\n",
       "      <td>2.000000</td>\n",
       "      <td>NaN</td>\n",
       "      <td>0.000000</td>\n",
       "      <td>0.000000</td>\n",
       "      <td>0.000000</td>\n",
       "      <td>0.000000</td>\n",
       "      <td>0.000000</td>\n",
       "      <td>0.000000</td>\n",
       "      <td>0.000000</td>\n",
       "      <td>0.000000</td>\n",
       "      <td>0.000000</td>\n",
       "      <td>NaN</td>\n",
       "      <td>0.000000</td>\n",
       "      <td>NaN</td>\n",
       "      <td>NaN</td>\n",
       "      <td>0.0</td>\n",
       "      <td>1.0</td>\n",
       "      <td>NaN</td>\n",
       "      <td>0.0</td>\n",
       "      <td>0.0</td>\n",
       "      <td>0.0</td>\n",
       "      <td>0.000000</td>\n",
       "      <td>0.0</td>\n",
       "    </tr>\n",
       "    <tr>\n",
       "      <th>25%</th>\n",
       "      <td>5.162210e+05</td>\n",
       "      <td>6.667800e+05</td>\n",
       "      <td>5500.000000</td>\n",
       "      <td>5400.000000</td>\n",
       "      <td>5000.000000</td>\n",
       "      <td>NaN</td>\n",
       "      <td>NaN</td>\n",
       "      <td>167.020000</td>\n",
       "      <td>NaN</td>\n",
       "      <td>NaN</td>\n",
       "      <td>NaN</td>\n",
       "      <td>NaN</td>\n",
       "      <td>NaN</td>\n",
       "      <td>4.040400e+04</td>\n",
       "      <td>NaN</td>\n",
       "      <td>NaN</td>\n",
       "      <td>NaN</td>\n",
       "      <td>NaN</td>\n",
       "      <td>NaN</td>\n",
       "      <td>NaN</td>\n",
       "      <td>NaN</td>\n",
       "      <td>NaN</td>\n",
       "      <td>NaN</td>\n",
       "      <td>NaN</td>\n",
       "      <td>8.170000</td>\n",
       "      <td>0.000000</td>\n",
       "      <td>NaN</td>\n",
       "      <td>0.000000</td>\n",
       "      <td>18.000000</td>\n",
       "      <td>22.000000</td>\n",
       "      <td>6.000000</td>\n",
       "      <td>0.000000</td>\n",
       "      <td>3703.000000</td>\n",
       "      <td>NaN</td>\n",
       "      <td>13.000000</td>\n",
       "      <td>NaN</td>\n",
       "      <td>0.000000</td>\n",
       "      <td>0.000000</td>\n",
       "      <td>5576.930000</td>\n",
       "      <td>5112.310000</td>\n",
       "      <td>4600.000000</td>\n",
       "      <td>662.180000</td>\n",
       "      <td>0.000000</td>\n",
       "      <td>0.000000</td>\n",
       "      <td>0.000000</td>\n",
       "      <td>NaN</td>\n",
       "      <td>218.680000</td>\n",
       "      <td>NaN</td>\n",
       "      <td>NaN</td>\n",
       "      <td>0.0</td>\n",
       "      <td>1.0</td>\n",
       "      <td>NaN</td>\n",
       "      <td>0.0</td>\n",
       "      <td>0.0</td>\n",
       "      <td>0.0</td>\n",
       "      <td>0.000000</td>\n",
       "      <td>0.0</td>\n",
       "    </tr>\n",
       "    <tr>\n",
       "      <th>50%</th>\n",
       "      <td>6.656650e+05</td>\n",
       "      <td>8.508120e+05</td>\n",
       "      <td>10000.000000</td>\n",
       "      <td>9600.000000</td>\n",
       "      <td>8975.000000</td>\n",
       "      <td>NaN</td>\n",
       "      <td>NaN</td>\n",
       "      <td>280.220000</td>\n",
       "      <td>NaN</td>\n",
       "      <td>NaN</td>\n",
       "      <td>NaN</td>\n",
       "      <td>NaN</td>\n",
       "      <td>NaN</td>\n",
       "      <td>5.900000e+04</td>\n",
       "      <td>NaN</td>\n",
       "      <td>NaN</td>\n",
       "      <td>NaN</td>\n",
       "      <td>NaN</td>\n",
       "      <td>NaN</td>\n",
       "      <td>NaN</td>\n",
       "      <td>NaN</td>\n",
       "      <td>NaN</td>\n",
       "      <td>NaN</td>\n",
       "      <td>NaN</td>\n",
       "      <td>13.400000</td>\n",
       "      <td>0.000000</td>\n",
       "      <td>NaN</td>\n",
       "      <td>1.000000</td>\n",
       "      <td>34.000000</td>\n",
       "      <td>90.000000</td>\n",
       "      <td>9.000000</td>\n",
       "      <td>0.000000</td>\n",
       "      <td>8850.000000</td>\n",
       "      <td>NaN</td>\n",
       "      <td>20.000000</td>\n",
       "      <td>NaN</td>\n",
       "      <td>0.000000</td>\n",
       "      <td>0.000000</td>\n",
       "      <td>9899.640319</td>\n",
       "      <td>9287.150000</td>\n",
       "      <td>8000.000000</td>\n",
       "      <td>1348.910000</td>\n",
       "      <td>0.000000</td>\n",
       "      <td>0.000000</td>\n",
       "      <td>0.000000</td>\n",
       "      <td>NaN</td>\n",
       "      <td>546.140000</td>\n",
       "      <td>NaN</td>\n",
       "      <td>NaN</td>\n",
       "      <td>0.0</td>\n",
       "      <td>1.0</td>\n",
       "      <td>NaN</td>\n",
       "      <td>0.0</td>\n",
       "      <td>0.0</td>\n",
       "      <td>0.0</td>\n",
       "      <td>0.000000</td>\n",
       "      <td>0.0</td>\n",
       "    </tr>\n",
       "    <tr>\n",
       "      <th>75%</th>\n",
       "      <td>8.377550e+05</td>\n",
       "      <td>1.047339e+06</td>\n",
       "      <td>15000.000000</td>\n",
       "      <td>15000.000000</td>\n",
       "      <td>14400.000000</td>\n",
       "      <td>NaN</td>\n",
       "      <td>NaN</td>\n",
       "      <td>430.780000</td>\n",
       "      <td>NaN</td>\n",
       "      <td>NaN</td>\n",
       "      <td>NaN</td>\n",
       "      <td>NaN</td>\n",
       "      <td>NaN</td>\n",
       "      <td>8.230000e+04</td>\n",
       "      <td>NaN</td>\n",
       "      <td>NaN</td>\n",
       "      <td>NaN</td>\n",
       "      <td>NaN</td>\n",
       "      <td>NaN</td>\n",
       "      <td>NaN</td>\n",
       "      <td>NaN</td>\n",
       "      <td>NaN</td>\n",
       "      <td>NaN</td>\n",
       "      <td>NaN</td>\n",
       "      <td>18.600000</td>\n",
       "      <td>0.000000</td>\n",
       "      <td>NaN</td>\n",
       "      <td>1.000000</td>\n",
       "      <td>52.000000</td>\n",
       "      <td>104.000000</td>\n",
       "      <td>12.000000</td>\n",
       "      <td>0.000000</td>\n",
       "      <td>17058.000000</td>\n",
       "      <td>NaN</td>\n",
       "      <td>29.000000</td>\n",
       "      <td>NaN</td>\n",
       "      <td>0.000000</td>\n",
       "      <td>0.000000</td>\n",
       "      <td>16534.433040</td>\n",
       "      <td>15798.810000</td>\n",
       "      <td>13653.260000</td>\n",
       "      <td>2833.400000</td>\n",
       "      <td>0.000000</td>\n",
       "      <td>0.000000</td>\n",
       "      <td>0.000000</td>\n",
       "      <td>NaN</td>\n",
       "      <td>3293.160000</td>\n",
       "      <td>NaN</td>\n",
       "      <td>NaN</td>\n",
       "      <td>0.0</td>\n",
       "      <td>1.0</td>\n",
       "      <td>NaN</td>\n",
       "      <td>0.0</td>\n",
       "      <td>0.0</td>\n",
       "      <td>0.0</td>\n",
       "      <td>0.000000</td>\n",
       "      <td>0.0</td>\n",
       "    </tr>\n",
       "    <tr>\n",
       "      <th>max</th>\n",
       "      <td>1.077501e+06</td>\n",
       "      <td>1.314167e+06</td>\n",
       "      <td>35000.000000</td>\n",
       "      <td>35000.000000</td>\n",
       "      <td>35000.000000</td>\n",
       "      <td>NaN</td>\n",
       "      <td>NaN</td>\n",
       "      <td>1305.190000</td>\n",
       "      <td>NaN</td>\n",
       "      <td>NaN</td>\n",
       "      <td>NaN</td>\n",
       "      <td>NaN</td>\n",
       "      <td>NaN</td>\n",
       "      <td>6.000000e+06</td>\n",
       "      <td>NaN</td>\n",
       "      <td>NaN</td>\n",
       "      <td>NaN</td>\n",
       "      <td>NaN</td>\n",
       "      <td>NaN</td>\n",
       "      <td>NaN</td>\n",
       "      <td>NaN</td>\n",
       "      <td>NaN</td>\n",
       "      <td>NaN</td>\n",
       "      <td>NaN</td>\n",
       "      <td>29.990000</td>\n",
       "      <td>11.000000</td>\n",
       "      <td>NaN</td>\n",
       "      <td>8.000000</td>\n",
       "      <td>120.000000</td>\n",
       "      <td>129.000000</td>\n",
       "      <td>44.000000</td>\n",
       "      <td>4.000000</td>\n",
       "      <td>149588.000000</td>\n",
       "      <td>NaN</td>\n",
       "      <td>90.000000</td>\n",
       "      <td>NaN</td>\n",
       "      <td>6311.470000</td>\n",
       "      <td>6307.370000</td>\n",
       "      <td>58563.679930</td>\n",
       "      <td>58563.680000</td>\n",
       "      <td>35000.020000</td>\n",
       "      <td>23563.680000</td>\n",
       "      <td>180.200000</td>\n",
       "      <td>29623.350000</td>\n",
       "      <td>7002.190000</td>\n",
       "      <td>NaN</td>\n",
       "      <td>36115.200000</td>\n",
       "      <td>NaN</td>\n",
       "      <td>NaN</td>\n",
       "      <td>0.0</td>\n",
       "      <td>1.0</td>\n",
       "      <td>NaN</td>\n",
       "      <td>0.0</td>\n",
       "      <td>0.0</td>\n",
       "      <td>0.0</td>\n",
       "      <td>2.000000</td>\n",
       "      <td>0.0</td>\n",
       "    </tr>\n",
       "  </tbody>\n",
       "</table>\n",
       "</div>"
      ],
      "text/plain": [
       "                  id     member_id     loan_amnt   funded_amnt  \\\n",
       "count   3.971700e+04  3.971700e+04  39717.000000  39717.000000   \n",
       "unique           NaN           NaN           NaN           NaN   \n",
       "top              NaN           NaN           NaN           NaN   \n",
       "freq             NaN           NaN           NaN           NaN   \n",
       "mean    6.831319e+05  8.504636e+05  11219.443815  10947.713196   \n",
       "std     2.106941e+05  2.656783e+05   7456.670694   7187.238670   \n",
       "min     5.473400e+04  7.069900e+04    500.000000    500.000000   \n",
       "25%     5.162210e+05  6.667800e+05   5500.000000   5400.000000   \n",
       "50%     6.656650e+05  8.508120e+05  10000.000000   9600.000000   \n",
       "75%     8.377550e+05  1.047339e+06  15000.000000  15000.000000   \n",
       "max     1.077501e+06  1.314167e+06  35000.000000  35000.000000   \n",
       "\n",
       "        funded_amnt_inv        term int_rate   installment  grade sub_grade  \\\n",
       "count      39717.000000       39717    39717  39717.000000  39717     39717   \n",
       "unique              NaN           2      371           NaN      7        35   \n",
       "top                 NaN   36 months   10.99%           NaN      B        B3   \n",
       "freq                NaN       29096      956           NaN  12020      2917   \n",
       "mean       10397.448868         NaN      NaN    324.561922    NaN       NaN   \n",
       "std         7128.450439         NaN      NaN    208.874874    NaN       NaN   \n",
       "min            0.000000         NaN      NaN     15.690000    NaN       NaN   \n",
       "25%         5000.000000         NaN      NaN    167.020000    NaN       NaN   \n",
       "50%         8975.000000         NaN      NaN    280.220000    NaN       NaN   \n",
       "75%        14400.000000         NaN      NaN    430.780000    NaN       NaN   \n",
       "max        35000.000000         NaN      NaN   1305.190000    NaN       NaN   \n",
       "\n",
       "       emp_title emp_length home_ownership    annual_inc verification_status  \\\n",
       "count      37258      38642          39717  3.971700e+04               39717   \n",
       "unique     28820         11              5           NaN                   3   \n",
       "top      US Army  10+ years           RENT           NaN        Not Verified   \n",
       "freq         134       8879          18899           NaN               16921   \n",
       "mean         NaN        NaN            NaN  6.896893e+04                 NaN   \n",
       "std          NaN        NaN            NaN  6.379377e+04                 NaN   \n",
       "min          NaN        NaN            NaN  4.000000e+03                 NaN   \n",
       "25%          NaN        NaN            NaN  4.040400e+04                 NaN   \n",
       "50%          NaN        NaN            NaN  5.900000e+04                 NaN   \n",
       "75%          NaN        NaN            NaN  8.230000e+04                 NaN   \n",
       "max          NaN        NaN            NaN  6.000000e+06                 NaN   \n",
       "\n",
       "       issue_d loan_status pymnt_plan  \\\n",
       "count    39717       39717      39717   \n",
       "unique      55           3          1   \n",
       "top     Dec-11  Fully Paid          n   \n",
       "freq      2260       32950      39717   \n",
       "mean       NaN         NaN        NaN   \n",
       "std        NaN         NaN        NaN   \n",
       "min        NaN         NaN        NaN   \n",
       "25%        NaN         NaN        NaN   \n",
       "50%        NaN         NaN        NaN   \n",
       "75%        NaN         NaN        NaN   \n",
       "max        NaN         NaN        NaN   \n",
       "\n",
       "                                                      url   desc  \\\n",
       "count                                               39717  26777   \n",
       "unique                                              39717  26527   \n",
       "top     https://lendingclub.com/browse/loanDetail.acti...          \n",
       "freq                                                    1    210   \n",
       "mean                                                  NaN    NaN   \n",
       "std                                                   NaN    NaN   \n",
       "min                                                   NaN    NaN   \n",
       "25%                                                   NaN    NaN   \n",
       "50%                                                   NaN    NaN   \n",
       "75%                                                   NaN    NaN   \n",
       "max                                                   NaN    NaN   \n",
       "\n",
       "                   purpose               title zip_code addr_state  \\\n",
       "count                39717               39706    39717      39717   \n",
       "unique                  14               19615      823         50   \n",
       "top     debt_consolidation  Debt Consolidation    100xx         CA   \n",
       "freq                 18641                2184      597       7099   \n",
       "mean                   NaN                 NaN      NaN        NaN   \n",
       "std                    NaN                 NaN      NaN        NaN   \n",
       "min                    NaN                 NaN      NaN        NaN   \n",
       "25%                    NaN                 NaN      NaN        NaN   \n",
       "50%                    NaN                 NaN      NaN        NaN   \n",
       "75%                    NaN                 NaN      NaN        NaN   \n",
       "max                    NaN                 NaN      NaN        NaN   \n",
       "\n",
       "                 dti   delinq_2yrs earliest_cr_line  inq_last_6mths  \\\n",
       "count   39717.000000  39717.000000            39717    39717.000000   \n",
       "unique           NaN           NaN              526             NaN   \n",
       "top              NaN           NaN           Nov-98             NaN   \n",
       "freq             NaN           NaN              370             NaN   \n",
       "mean       13.315130      0.146512              NaN        0.869200   \n",
       "std         6.678594      0.491812              NaN        1.070219   \n",
       "min         0.000000      0.000000              NaN        0.000000   \n",
       "25%         8.170000      0.000000              NaN        0.000000   \n",
       "50%        13.400000      0.000000              NaN        1.000000   \n",
       "75%        18.600000      0.000000              NaN        1.000000   \n",
       "max        29.990000     11.000000              NaN        8.000000   \n",
       "\n",
       "        mths_since_last_delinq  mths_since_last_record      open_acc  \\\n",
       "count             14035.000000             2786.000000  39717.000000   \n",
       "unique                     NaN                     NaN           NaN   \n",
       "top                        NaN                     NaN           NaN   \n",
       "freq                       NaN                     NaN           NaN   \n",
       "mean                 35.900962               69.698134      9.294408   \n",
       "std                  22.020060               43.822529      4.400282   \n",
       "min                   0.000000                0.000000      2.000000   \n",
       "25%                  18.000000               22.000000      6.000000   \n",
       "50%                  34.000000               90.000000      9.000000   \n",
       "75%                  52.000000              104.000000     12.000000   \n",
       "max                 120.000000              129.000000     44.000000   \n",
       "\n",
       "             pub_rec      revol_bal revol_util     total_acc  \\\n",
       "count   39717.000000   39717.000000      39667  39717.000000   \n",
       "unique           NaN            NaN       1089           NaN   \n",
       "top              NaN            NaN         0%           NaN   \n",
       "freq             NaN            NaN        977           NaN   \n",
       "mean        0.055065   13382.528086        NaN     22.088828   \n",
       "std         0.237200   15885.016641        NaN     11.401709   \n",
       "min         0.000000       0.000000        NaN      2.000000   \n",
       "25%         0.000000    3703.000000        NaN     13.000000   \n",
       "50%         0.000000    8850.000000        NaN     20.000000   \n",
       "75%         0.000000   17058.000000        NaN     29.000000   \n",
       "max         4.000000  149588.000000        NaN     90.000000   \n",
       "\n",
       "       initial_list_status     out_prncp  out_prncp_inv   total_pymnt  \\\n",
       "count                39717  39717.000000   39717.000000  39717.000000   \n",
       "unique                   1           NaN            NaN           NaN   \n",
       "top                      f           NaN            NaN           NaN   \n",
       "freq                 39717           NaN            NaN           NaN   \n",
       "mean                   NaN     51.227887      50.989768  12153.596544   \n",
       "std                    NaN    375.172839     373.824457   9042.040766   \n",
       "min                    NaN      0.000000       0.000000      0.000000   \n",
       "25%                    NaN      0.000000       0.000000   5576.930000   \n",
       "50%                    NaN      0.000000       0.000000   9899.640319   \n",
       "75%                    NaN      0.000000       0.000000  16534.433040   \n",
       "max                    NaN   6311.470000    6307.370000  58563.679930   \n",
       "\n",
       "        total_pymnt_inv  total_rec_prncp  total_rec_int  total_rec_late_fee  \\\n",
       "count      39717.000000     39717.000000   39717.000000        39717.000000   \n",
       "unique              NaN              NaN            NaN                 NaN   \n",
       "top                 NaN              NaN            NaN                 NaN   \n",
       "freq                NaN              NaN            NaN                 NaN   \n",
       "mean       11567.149118      9793.348813    2263.663172            1.363015   \n",
       "std         8942.672613      7065.522127    2608.111964            7.289979   \n",
       "min            0.000000         0.000000       0.000000            0.000000   \n",
       "25%         5112.310000      4600.000000     662.180000            0.000000   \n",
       "50%         9287.150000      8000.000000    1348.910000            0.000000   \n",
       "75%        15798.810000     13653.260000    2833.400000            0.000000   \n",
       "max        58563.680000     35000.020000   23563.680000          180.200000   \n",
       "\n",
       "          recoveries  collection_recovery_fee last_pymnt_d  last_pymnt_amnt  \\\n",
       "count   39717.000000             39717.000000        39646     39717.000000   \n",
       "unique           NaN                      NaN          101              NaN   \n",
       "top              NaN                      NaN       May-16              NaN   \n",
       "freq             NaN                      NaN         1256              NaN   \n",
       "mean       95.221624                12.406112          NaN      2678.826162   \n",
       "std       688.744771               148.671593          NaN      4447.136012   \n",
       "min         0.000000                 0.000000          NaN         0.000000   \n",
       "25%         0.000000                 0.000000          NaN       218.680000   \n",
       "50%         0.000000                 0.000000          NaN       546.140000   \n",
       "75%         0.000000                 0.000000          NaN      3293.160000   \n",
       "max     29623.350000              7002.190000          NaN     36115.200000   \n",
       "\n",
       "       next_pymnt_d last_credit_pull_d  collections_12_mths_ex_med  \\\n",
       "count          1140              39715                     39661.0   \n",
       "unique            2                106                         NaN   \n",
       "top          Jun-16             May-16                         NaN   \n",
       "freq           1125              10308                         NaN   \n",
       "mean            NaN                NaN                         0.0   \n",
       "std             NaN                NaN                         0.0   \n",
       "min             NaN                NaN                         0.0   \n",
       "25%             NaN                NaN                         0.0   \n",
       "50%             NaN                NaN                         0.0   \n",
       "75%             NaN                NaN                         0.0   \n",
       "max             NaN                NaN                         0.0   \n",
       "\n",
       "        policy_code application_type  acc_now_delinq  \\\n",
       "count       39717.0            39717         39717.0   \n",
       "unique          NaN                1             NaN   \n",
       "top             NaN       INDIVIDUAL             NaN   \n",
       "freq            NaN            39717             NaN   \n",
       "mean            1.0              NaN             0.0   \n",
       "std             0.0              NaN             0.0   \n",
       "min             1.0              NaN             0.0   \n",
       "25%             1.0              NaN             0.0   \n",
       "50%             1.0              NaN             0.0   \n",
       "75%             1.0              NaN             0.0   \n",
       "max             1.0              NaN             0.0   \n",
       "\n",
       "        chargeoff_within_12_mths  delinq_amnt  pub_rec_bankruptcies  tax_liens  \n",
       "count                    39661.0      39717.0          39020.000000    39678.0  \n",
       "unique                       NaN          NaN                   NaN        NaN  \n",
       "top                          NaN          NaN                   NaN        NaN  \n",
       "freq                         NaN          NaN                   NaN        NaN  \n",
       "mean                         0.0          0.0              0.043260        0.0  \n",
       "std                          0.0          0.0              0.204324        0.0  \n",
       "min                          0.0          0.0              0.000000        0.0  \n",
       "25%                          0.0          0.0              0.000000        0.0  \n",
       "50%                          0.0          0.0              0.000000        0.0  \n",
       "75%                          0.0          0.0              0.000000        0.0  \n",
       "max                          0.0          0.0              2.000000        0.0  "
      ]
     },
     "execution_count": 8,
     "metadata": {},
     "output_type": "execute_result"
    }
   ],
   "source": [
    "loan.describe(include='all')"
   ]
  },
  {
   "cell_type": "code",
   "execution_count": 9,
   "metadata": {},
   "outputs": [
    {
     "name": "stdout",
     "output_type": "stream",
     "text": [
      "<class 'pandas.core.frame.DataFrame'>\n",
      "RangeIndex: 39717 entries, 0 to 39716\n",
      "Data columns (total 57 columns):\n",
      " #   Column                      Non-Null Count  Dtype  \n",
      "---  ------                      --------------  -----  \n",
      " 0   id                          39717 non-null  int64  \n",
      " 1   member_id                   39717 non-null  int64  \n",
      " 2   loan_amnt                   39717 non-null  int64  \n",
      " 3   funded_amnt                 39717 non-null  int64  \n",
      " 4   funded_amnt_inv             39717 non-null  float64\n",
      " 5   term                        39717 non-null  object \n",
      " 6   int_rate                    39717 non-null  object \n",
      " 7   installment                 39717 non-null  float64\n",
      " 8   grade                       39717 non-null  object \n",
      " 9   sub_grade                   39717 non-null  object \n",
      " 10  emp_title                   37258 non-null  object \n",
      " 11  emp_length                  38642 non-null  object \n",
      " 12  home_ownership              39717 non-null  object \n",
      " 13  annual_inc                  39717 non-null  float64\n",
      " 14  verification_status         39717 non-null  object \n",
      " 15  issue_d                     39717 non-null  object \n",
      " 16  loan_status                 39717 non-null  object \n",
      " 17  pymnt_plan                  39717 non-null  object \n",
      " 18  url                         39717 non-null  object \n",
      " 19  desc                        26777 non-null  object \n",
      " 20  purpose                     39717 non-null  object \n",
      " 21  title                       39706 non-null  object \n",
      " 22  zip_code                    39717 non-null  object \n",
      " 23  addr_state                  39717 non-null  object \n",
      " 24  dti                         39717 non-null  float64\n",
      " 25  delinq_2yrs                 39717 non-null  int64  \n",
      " 26  earliest_cr_line            39717 non-null  object \n",
      " 27  inq_last_6mths              39717 non-null  int64  \n",
      " 28  mths_since_last_delinq      14035 non-null  float64\n",
      " 29  mths_since_last_record      2786 non-null   float64\n",
      " 30  open_acc                    39717 non-null  int64  \n",
      " 31  pub_rec                     39717 non-null  int64  \n",
      " 32  revol_bal                   39717 non-null  int64  \n",
      " 33  revol_util                  39667 non-null  object \n",
      " 34  total_acc                   39717 non-null  int64  \n",
      " 35  initial_list_status         39717 non-null  object \n",
      " 36  out_prncp                   39717 non-null  float64\n",
      " 37  out_prncp_inv               39717 non-null  float64\n",
      " 38  total_pymnt                 39717 non-null  float64\n",
      " 39  total_pymnt_inv             39717 non-null  float64\n",
      " 40  total_rec_prncp             39717 non-null  float64\n",
      " 41  total_rec_int               39717 non-null  float64\n",
      " 42  total_rec_late_fee          39717 non-null  float64\n",
      " 43  recoveries                  39717 non-null  float64\n",
      " 44  collection_recovery_fee     39717 non-null  float64\n",
      " 45  last_pymnt_d                39646 non-null  object \n",
      " 46  last_pymnt_amnt             39717 non-null  float64\n",
      " 47  next_pymnt_d                1140 non-null   object \n",
      " 48  last_credit_pull_d          39715 non-null  object \n",
      " 49  collections_12_mths_ex_med  39661 non-null  float64\n",
      " 50  policy_code                 39717 non-null  int64  \n",
      " 51  application_type            39717 non-null  object \n",
      " 52  acc_now_delinq              39717 non-null  int64  \n",
      " 53  chargeoff_within_12_mths    39661 non-null  float64\n",
      " 54  delinq_amnt                 39717 non-null  int64  \n",
      " 55  pub_rec_bankruptcies        39020 non-null  float64\n",
      " 56  tax_liens                   39678 non-null  float64\n",
      "dtypes: float64(20), int64(13), object(24)\n",
      "memory usage: 13.6+ MB\n"
     ]
    }
   ],
   "source": [
    "loan.info()"
   ]
  },
  {
   "cell_type": "code",
   "execution_count": 10,
   "metadata": {},
   "outputs": [
    {
     "data": {
      "text/plain": [
       "next_pymnt_d                  97.129693\n",
       "mths_since_last_record        92.985372\n",
       "mths_since_last_delinq        64.662487\n",
       "desc                          32.580507\n",
       "emp_title                      6.191303\n",
       "emp_length                     2.706650\n",
       "pub_rec_bankruptcies           1.754916\n",
       "last_pymnt_d                   0.178765\n",
       "chargeoff_within_12_mths       0.140998\n",
       "collections_12_mths_ex_med     0.140998\n",
       "revol_util                     0.125891\n",
       "tax_liens                      0.098195\n",
       "title                          0.027696\n",
       "last_credit_pull_d             0.005036\n",
       "collection_recovery_fee        0.000000\n",
       "acc_now_delinq                 0.000000\n",
       "application_type               0.000000\n",
       "url                            0.000000\n",
       "pymnt_plan                     0.000000\n",
       "loan_status                    0.000000\n",
       "issue_d                        0.000000\n",
       "verification_status            0.000000\n",
       "annual_inc                     0.000000\n",
       "home_ownership                 0.000000\n",
       "delinq_amnt                    0.000000\n",
       "sub_grade                      0.000000\n",
       "grade                          0.000000\n",
       "installment                    0.000000\n",
       "int_rate                       0.000000\n",
       "term                           0.000000\n",
       "funded_amnt_inv                0.000000\n",
       "funded_amnt                    0.000000\n",
       "loan_amnt                      0.000000\n",
       "member_id                      0.000000\n",
       "purpose                        0.000000\n",
       "zip_code                       0.000000\n",
       "recoveries                     0.000000\n",
       "total_acc                      0.000000\n",
       "total_rec_late_fee             0.000000\n",
       "total_rec_int                  0.000000\n",
       "total_rec_prncp                0.000000\n",
       "total_pymnt_inv                0.000000\n",
       "total_pymnt                    0.000000\n",
       "out_prncp_inv                  0.000000\n",
       "out_prncp                      0.000000\n",
       "initial_list_status            0.000000\n",
       "last_pymnt_amnt                0.000000\n",
       "addr_state                     0.000000\n",
       "revol_bal                      0.000000\n",
       "pub_rec                        0.000000\n",
       "open_acc                       0.000000\n",
       "policy_code                    0.000000\n",
       "inq_last_6mths                 0.000000\n",
       "earliest_cr_line               0.000000\n",
       "delinq_2yrs                    0.000000\n",
       "dti                            0.000000\n",
       "id                             0.000000\n",
       "dtype: float64"
      ]
     },
     "execution_count": 10,
     "metadata": {},
     "output_type": "execute_result"
    }
   ],
   "source": [
    "100*(loan.isnull().sum().sort_values(ascending=False))/len(loan.index)"
   ]
  },
  {
   "cell_type": "markdown",
   "metadata": {},
   "source": [
    "Cleaning **next pymnt_d**"
   ]
  },
  {
   "cell_type": "code",
   "execution_count": 11,
   "metadata": {},
   "outputs": [
    {
     "data": {
      "text/plain": [
       "Fully Paid     32950\n",
       "Charged Off     5627\n",
       "Name: loan_status, dtype: int64"
      ]
     },
     "execution_count": 11,
     "metadata": {},
     "output_type": "execute_result"
    }
   ],
   "source": [
    "loan[(loan.next_pymnt_d.isnull())].loan_status.value_counts()"
   ]
  },
  {
   "cell_type": "code",
   "execution_count": 12,
   "metadata": {},
   "outputs": [
    {
     "data": {
      "text/plain": [
       "Current    1140\n",
       "Name: loan_status, dtype: int64"
      ]
     },
     "execution_count": 12,
     "metadata": {},
     "output_type": "execute_result"
    }
   ],
   "source": [
    "loan[~(loan.next_pymnt_d.isnull())].loan_status.value_counts()"
   ]
  },
  {
   "cell_type": "code",
   "execution_count": 13,
   "metadata": {},
   "outputs": [
    {
     "data": {
      "text/plain": [
       "Jun-16    1125\n",
       "Jul-16      15\n",
       "Name: next_pymnt_d, dtype: int64"
      ]
     },
     "execution_count": 13,
     "metadata": {},
     "output_type": "execute_result"
    }
   ],
   "source": [
    "loan[~(loan.next_pymnt_d.isnull())].next_pymnt_d.value_counts()"
   ]
  },
  {
   "cell_type": "markdown",
   "metadata": {},
   "source": [
    "From above we infer that only loan status : **current** has next_pymnt_d.<br>\n",
    "We can drop this coulmn as it will not be used in analysis."
   ]
  },
  {
   "cell_type": "code",
   "execution_count": null,
   "metadata": {},
   "outputs": [],
   "source": []
  },
  {
   "cell_type": "markdown",
   "metadata": {},
   "source": [
    "Cleaning **mths_since_last_record**"
   ]
  },
  {
   "cell_type": "code",
   "execution_count": 14,
   "metadata": {},
   "outputs": [
    {
     "data": {
      "text/plain": [
       "Fully Paid     30788\n",
       "Charged Off     5049\n",
       "Current         1094\n",
       "Name: loan_status, dtype: int64"
      ]
     },
     "execution_count": 14,
     "metadata": {},
     "output_type": "execute_result"
    }
   ],
   "source": [
    "loan[(loan.mths_since_last_record.isnull())].loan_status.value_counts()"
   ]
  },
  {
   "cell_type": "markdown",
   "metadata": {},
   "source": [
    "We conclude to Drop **mths_since_last_record**, since there are many null values and<br> it is spread accross all values of loan status."
   ]
  },
  {
   "cell_type": "markdown",
   "metadata": {},
   "source": [
    "Cleaning **mths_since_last_delinq**"
   ]
  },
  {
   "cell_type": "code",
   "execution_count": 15,
   "metadata": {},
   "outputs": [
    {
     "data": {
      "text/plain": [
       "Fully Paid     21420\n",
       "Charged Off     3485\n",
       "Current          777\n",
       "Name: loan_status, dtype: int64"
      ]
     },
     "execution_count": 15,
     "metadata": {},
     "output_type": "execute_result"
    }
   ],
   "source": [
    "loan[(loan.mths_since_last_delinq.isnull())].loan_status.value_counts()"
   ]
  },
  {
   "cell_type": "markdown",
   "metadata": {},
   "source": [
    "We conclude to Drop **mths_since_last_delinq**, since there are many null values and<br> it is spread accross all values of loan status."
   ]
  },
  {
   "cell_type": "markdown",
   "metadata": {},
   "source": [
    "dropping **desc** as it is neither categorical nor numeric.<br>\n",
    "A description can only tell intent of the loan and the applicant being risky or not. "
   ]
  },
  {
   "cell_type": "markdown",
   "metadata": {},
   "source": [
    "Dropping next_pymnt_d,mths_since_last_record, mths_since_last_delinq, desc."
   ]
  },
  {
   "cell_type": "code",
   "execution_count": 16,
   "metadata": {},
   "outputs": [],
   "source": [
    "loan.drop([\"next_pymnt_d\",'mths_since_last_record','mths_since_last_delinq','desc'],axis=1,inplace=True)"
   ]
  },
  {
   "cell_type": "markdown",
   "metadata": {},
   "source": [
    "Analysing loan status:"
   ]
  },
  {
   "cell_type": "markdown",
   "metadata": {},
   "source": [
    "Since we are to identify risky applicants, applicants which are current does not infer any conclusion.<br>\n",
    "Hence, we can drop the rows with **current** loan status as well"
   ]
  },
  {
   "cell_type": "code",
   "execution_count": 17,
   "metadata": {},
   "outputs": [
    {
     "data": {
      "text/plain": [
       "Fully Paid     32950\n",
       "Charged Off     5627\n",
       "Current         1140\n",
       "Name: loan_status, dtype: int64"
      ]
     },
     "execution_count": 17,
     "metadata": {},
     "output_type": "execute_result"
    }
   ],
   "source": [
    "loan.loan_status.value_counts()"
   ]
  },
  {
   "cell_type": "code",
   "execution_count": 18,
   "metadata": {},
   "outputs": [],
   "source": [
    "loan = loan[loan.loan_status != \"Current\"]"
   ]
  },
  {
   "cell_type": "code",
   "execution_count": 19,
   "metadata": {},
   "outputs": [
    {
     "data": {
      "text/plain": [
       "Fully Paid     32950\n",
       "Charged Off     5627\n",
       "Name: loan_status, dtype: int64"
      ]
     },
     "execution_count": 19,
     "metadata": {},
     "output_type": "execute_result"
    }
   ],
   "source": [
    "loan.loan_status.value_counts()"
   ]
  },
  {
   "cell_type": "code",
   "execution_count": 20,
   "metadata": {},
   "outputs": [
    {
     "data": {
      "text/plain": [
       "emp_title                     6.185033\n",
       "emp_length                    2.677761\n",
       "pub_rec_bankruptcies          1.806776\n",
       "last_pymnt_d                  0.184047\n",
       "collections_12_mths_ex_med    0.145164\n",
       "chargeoff_within_12_mths      0.145164\n",
       "revol_util                    0.129611\n",
       "tax_liens                     0.101097\n",
       "title                         0.028514\n",
       "last_credit_pull_d            0.005184\n",
       "annual_inc                    0.000000\n",
       "pymnt_plan                    0.000000\n",
       "url                           0.000000\n",
       "purpose                       0.000000\n",
       "loan_status                   0.000000\n",
       "issue_d                       0.000000\n",
       "verification_status           0.000000\n",
       "sub_grade                     0.000000\n",
       "home_ownership                0.000000\n",
       "addr_state                    0.000000\n",
       "grade                         0.000000\n",
       "installment                   0.000000\n",
       "int_rate                      0.000000\n",
       "term                          0.000000\n",
       "funded_amnt_inv               0.000000\n",
       "funded_amnt                   0.000000\n",
       "loan_amnt                     0.000000\n",
       "member_id                     0.000000\n",
       "zip_code                      0.000000\n",
       "inq_last_6mths                0.000000\n",
       "dti                           0.000000\n",
       "total_rec_prncp               0.000000\n",
       "delinq_amnt                   0.000000\n",
       "acc_now_delinq                0.000000\n",
       "application_type              0.000000\n",
       "policy_code                   0.000000\n",
       "last_pymnt_amnt               0.000000\n",
       "collection_recovery_fee       0.000000\n",
       "recoveries                    0.000000\n",
       "total_rec_late_fee            0.000000\n",
       "total_rec_int                 0.000000\n",
       "total_pymnt_inv               0.000000\n",
       "delinq_2yrs                   0.000000\n",
       "total_pymnt                   0.000000\n",
       "out_prncp_inv                 0.000000\n",
       "out_prncp                     0.000000\n",
       "initial_list_status           0.000000\n",
       "total_acc                     0.000000\n",
       "revol_bal                     0.000000\n",
       "pub_rec                       0.000000\n",
       "open_acc                      0.000000\n",
       "earliest_cr_line              0.000000\n",
       "id                            0.000000\n",
       "dtype: float64"
      ]
     },
     "execution_count": 20,
     "metadata": {},
     "output_type": "execute_result"
    }
   ],
   "source": [
    "100*(loan.isnull().sum().sort_values(ascending=False))/len(loan.index)"
   ]
  },
  {
   "cell_type": "code",
   "execution_count": 21,
   "metadata": {},
   "outputs": [
    {
     "data": {
      "text/plain": [
       "Fully Paid     1132\n",
       "Charged Off     863\n",
       "Name: loan_status, dtype: int64"
      ]
     },
     "execution_count": 21,
     "metadata": {},
     "output_type": "execute_result"
    }
   ],
   "source": [
    "loan[loan.total_rec_late_fee!=0].loan_status.value_counts()"
   ]
  },
  {
   "cell_type": "markdown",
   "metadata": {},
   "source": [
    "Cleaning emp_title"
   ]
  },
  {
   "cell_type": "code",
   "execution_count": 22,
   "metadata": {},
   "outputs": [
    {
     "data": {
      "text/plain": [
       "count       36191\n",
       "unique      28027\n",
       "top       US Army\n",
       "freq          131\n",
       "Name: emp_title, dtype: object"
      ]
     },
     "execution_count": 22,
     "metadata": {},
     "output_type": "execute_result"
    }
   ],
   "source": [
    "loan.emp_title.describe()"
   ]
  },
  {
   "cell_type": "code",
   "execution_count": 23,
   "metadata": {},
   "outputs": [
    {
     "data": {
      "text/plain": [
       "US Army                          131\n",
       "Bank of America                  107\n",
       "IBM                               65\n",
       "AT&T                              57\n",
       "Kaiser Permanente                 56\n",
       "                                ... \n",
       "University Of Utah Hospital        1\n",
       "Felixs Fish Camp                   1\n",
       "Harris Lighting                    1\n",
       "Modern Woodmen of America          1\n",
       "Courtney Thurman (Consultant)      1\n",
       "Name: emp_title, Length: 28027, dtype: int64"
      ]
     },
     "execution_count": 23,
     "metadata": {},
     "output_type": "execute_result"
    }
   ],
   "source": [
    "loan.emp_title.value_counts()"
   ]
  },
  {
   "cell_type": "markdown",
   "metadata": {},
   "source": [
    "Since the frequency of \"US Army\" is very small compared to number of unique values.<br>\n",
    "We will drop the null value rows."
   ]
  },
  {
   "cell_type": "code",
   "execution_count": 24,
   "metadata": {},
   "outputs": [],
   "source": [
    "loan = loan[~(loan.emp_title.isnull())]"
   ]
  },
  {
   "cell_type": "markdown",
   "metadata": {},
   "source": [
    "As total of missing values in all coulmns is < 5%, hence dropping all the missing values."
   ]
  },
  {
   "cell_type": "code",
   "execution_count": 25,
   "metadata": {},
   "outputs": [],
   "source": [
    "condition = ((loan.pub_rec_bankruptcies.isnull()) | \n",
    "             (loan.last_pymnt_d.isnull()) |\n",
    "             (loan.emp_length.isnull()) | \n",
    "             (loan.chargeoff_within_12_mths.isnull()) |\n",
    "             (loan.collections_12_mths_ex_med.isnull()) | \n",
    "             (loan.revol_util.isnull()) |\n",
    "             (loan.tax_liens.isnull()) | \n",
    "             (loan.title.isnull()))"
   ]
  },
  {
   "cell_type": "code",
   "execution_count": 26,
   "metadata": {},
   "outputs": [],
   "source": [
    "loan = loan[(~condition)]"
   ]
  },
  {
   "cell_type": "code",
   "execution_count": 27,
   "metadata": {},
   "outputs": [
    {
     "data": {
      "text/plain": [
       "0.0    35365\n",
       "Name: tax_liens, dtype: int64"
      ]
     },
     "execution_count": 27,
     "metadata": {},
     "output_type": "execute_result"
    }
   ],
   "source": [
    "loan.tax_liens.value_counts()"
   ]
  },
  {
   "cell_type": "markdown",
   "metadata": {},
   "source": [
    "As Tax liens has only 0, value, it can be dropped"
   ]
  },
  {
   "cell_type": "code",
   "execution_count": 28,
   "metadata": {},
   "outputs": [],
   "source": [
    "loan.drop(\"tax_liens\",axis=1,inplace=True)"
   ]
  },
  {
   "cell_type": "code",
   "execution_count": 29,
   "metadata": {},
   "outputs": [
    {
     "data": {
      "text/plain": [
       "1         117.08\n",
       "9         269.29\n",
       "12        444.30\n",
       "14        645.10\n",
       "21          0.00\n",
       "          ...   \n",
       "39251     426.43\n",
       "39291       0.00\n",
       "39362      48.17\n",
       "39425     151.20\n",
       "39623    1909.87\n",
       "Name: recoveries, Length: 4942, dtype: float64"
      ]
     },
     "execution_count": 29,
     "metadata": {},
     "output_type": "execute_result"
    }
   ],
   "source": [
    "loan[loan.loan_status == \"Charged Off\"].recoveries"
   ]
  },
  {
   "cell_type": "code",
   "execution_count": null,
   "metadata": {},
   "outputs": [],
   "source": []
  },
  {
   "cell_type": "markdown",
   "metadata": {},
   "source": [
    "Drop Zip code as it contains only partia"
   ]
  },
  {
   "cell_type": "code",
   "execution_count": null,
   "metadata": {},
   "outputs": [],
   "source": []
  },
  {
   "cell_type": "code",
   "execution_count": 30,
   "metadata": {},
   "outputs": [
    {
     "data": {
      "text/plain": [
       "debt_consolidation    16909\n",
       "credit_card            4626\n",
       "other                  3462\n",
       "home_improvement       2614\n",
       "major_purchase         1973\n",
       "car                    1395\n",
       "small_business         1351\n",
       "wedding                 865\n",
       "medical                 622\n",
       "moving                  523\n",
       "vacation                332\n",
       "house                   330\n",
       "educational             276\n",
       "renewable_energy         87\n",
       "Name: purpose, dtype: int64"
      ]
     },
     "execution_count": 30,
     "metadata": {},
     "output_type": "execute_result"
    }
   ],
   "source": [
    "\n",
    "loan.purpose.value_counts()"
   ]
  },
  {
   "cell_type": "code",
   "execution_count": 31,
   "metadata": {},
   "outputs": [
    {
     "data": {
      "text/plain": [
       "0.00     140\n",
       "12.00     39\n",
       "18.00     38\n",
       "19.20     37\n",
       "13.20     36\n",
       "        ... \n",
       "29.02      1\n",
       "28.54      1\n",
       "28.50      1\n",
       "25.77      1\n",
       "26.78      1\n",
       "Name: dti, Length: 2842, dtype: int64"
      ]
     },
     "execution_count": 31,
     "metadata": {},
     "output_type": "execute_result"
    }
   ],
   "source": [
    "# New categorical variable binning them\n",
    "loan.dti.value_counts()"
   ]
  },
  {
   "cell_type": "code",
   "execution_count": 32,
   "metadata": {},
   "outputs": [],
   "source": [
    "#Separate numeric and categorical variables\n",
    "n_loan = loan.select_dtypes(include=[np.number])\n",
    "c_loan = loan.select_dtypes(exclude=[np.number])"
   ]
  },
  {
   "cell_type": "code",
   "execution_count": 33,
   "metadata": {},
   "outputs": [
    {
     "data": {
      "text/plain": [
       "1    35365\n",
       "Name: policy_code, dtype: int64"
      ]
     },
     "execution_count": 33,
     "metadata": {},
     "output_type": "execute_result"
    }
   ],
   "source": [
    "loan.policy_code.value_counts()"
   ]
  },
  {
   "cell_type": "code",
   "execution_count": 34,
   "metadata": {},
   "outputs": [
    {
     "data": {
      "text/plain": [
       "id                            35365\n",
       "member_id                     35365\n",
       "loan_amnt                       847\n",
       "funded_amnt                    1001\n",
       "funded_amnt_inv                7324\n",
       "installment                   14026\n",
       "annual_inc                     4830\n",
       "dti                            2842\n",
       "delinq_2yrs                      11\n",
       "inq_last_6mths                    9\n",
       "open_acc                         38\n",
       "pub_rec                           5\n",
       "revol_bal                     20351\n",
       "total_acc                        79\n",
       "out_prncp                         1\n",
       "out_prncp_inv                     1\n",
       "total_pymnt                   33738\n",
       "total_pymnt_inv               33464\n",
       "total_rec_prncp                6192\n",
       "total_rec_int                 31468\n",
       "total_rec_late_fee             1163\n",
       "recoveries                     3584\n",
       "collection_recovery_fee        2386\n",
       "last_pymnt_amnt               31984\n",
       "collections_12_mths_ex_med        1\n",
       "policy_code                       1\n",
       "acc_now_delinq                    1\n",
       "chargeoff_within_12_mths          1\n",
       "delinq_amnt                       1\n",
       "pub_rec_bankruptcies              3\n",
       "dtype: int64"
      ]
     },
     "execution_count": 34,
     "metadata": {},
     "output_type": "execute_result"
    }
   ],
   "source": [
    "n_loan.nunique()"
   ]
  },
  {
   "cell_type": "code",
   "execution_count": 35,
   "metadata": {},
   "outputs": [
    {
     "data": {
      "text/html": [
       "<div>\n",
       "<style scoped>\n",
       "    .dataframe tbody tr th:only-of-type {\n",
       "        vertical-align: middle;\n",
       "    }\n",
       "\n",
       "    .dataframe tbody tr th {\n",
       "        vertical-align: top;\n",
       "    }\n",
       "\n",
       "    .dataframe thead th {\n",
       "        text-align: right;\n",
       "    }\n",
       "</style>\n",
       "<table border=\"1\" class=\"dataframe\">\n",
       "  <thead>\n",
       "    <tr style=\"text-align: right;\">\n",
       "      <th></th>\n",
       "      <th>term</th>\n",
       "      <th>int_rate</th>\n",
       "      <th>grade</th>\n",
       "      <th>sub_grade</th>\n",
       "      <th>emp_title</th>\n",
       "      <th>emp_length</th>\n",
       "      <th>home_ownership</th>\n",
       "      <th>verification_status</th>\n",
       "      <th>issue_d</th>\n",
       "      <th>loan_status</th>\n",
       "      <th>pymnt_plan</th>\n",
       "      <th>url</th>\n",
       "      <th>purpose</th>\n",
       "      <th>title</th>\n",
       "      <th>zip_code</th>\n",
       "      <th>addr_state</th>\n",
       "      <th>earliest_cr_line</th>\n",
       "      <th>revol_util</th>\n",
       "      <th>initial_list_status</th>\n",
       "      <th>last_pymnt_d</th>\n",
       "      <th>last_credit_pull_d</th>\n",
       "      <th>application_type</th>\n",
       "    </tr>\n",
       "  </thead>\n",
       "  <tbody>\n",
       "    <tr>\n",
       "      <th>count</th>\n",
       "      <td>35365</td>\n",
       "      <td>35365</td>\n",
       "      <td>35365</td>\n",
       "      <td>35365</td>\n",
       "      <td>35365</td>\n",
       "      <td>35365</td>\n",
       "      <td>35365</td>\n",
       "      <td>35365</td>\n",
       "      <td>35365</td>\n",
       "      <td>35365</td>\n",
       "      <td>35365</td>\n",
       "      <td>35365</td>\n",
       "      <td>35365</td>\n",
       "      <td>35365</td>\n",
       "      <td>35365</td>\n",
       "      <td>35365</td>\n",
       "      <td>35365</td>\n",
       "      <td>35365</td>\n",
       "      <td>35365</td>\n",
       "      <td>35365</td>\n",
       "      <td>35365</td>\n",
       "      <td>35365</td>\n",
       "    </tr>\n",
       "    <tr>\n",
       "      <th>unique</th>\n",
       "      <td>2</td>\n",
       "      <td>333</td>\n",
       "      <td>7</td>\n",
       "      <td>35</td>\n",
       "      <td>27412</td>\n",
       "      <td>11</td>\n",
       "      <td>4</td>\n",
       "      <td>3</td>\n",
       "      <td>51</td>\n",
       "      <td>2</td>\n",
       "      <td>1</td>\n",
       "      <td>35365</td>\n",
       "      <td>14</td>\n",
       "      <td>17660</td>\n",
       "      <td>804</td>\n",
       "      <td>48</td>\n",
       "      <td>509</td>\n",
       "      <td>1081</td>\n",
       "      <td>1</td>\n",
       "      <td>97</td>\n",
       "      <td>96</td>\n",
       "      <td>1</td>\n",
       "    </tr>\n",
       "    <tr>\n",
       "      <th>top</th>\n",
       "      <td>36 months</td>\n",
       "      <td>10.99%</td>\n",
       "      <td>B</td>\n",
       "      <td>A4</td>\n",
       "      <td>US Army</td>\n",
       "      <td>10+ years</td>\n",
       "      <td>RENT</td>\n",
       "      <td>Not Verified</td>\n",
       "      <td>Dec-11</td>\n",
       "      <td>Fully Paid</td>\n",
       "      <td>n</td>\n",
       "      <td>https://lendingclub.com/browse/loanDetail.acti...</td>\n",
       "      <td>debt_consolidation</td>\n",
       "      <td>Debt Consolidation</td>\n",
       "      <td>100xx</td>\n",
       "      <td>CA</td>\n",
       "      <td>Oct-99</td>\n",
       "      <td>0%</td>\n",
       "      <td>f</td>\n",
       "      <td>Mar-13</td>\n",
       "      <td>May-16</td>\n",
       "      <td>INDIVIDUAL</td>\n",
       "    </tr>\n",
       "    <tr>\n",
       "      <th>freq</th>\n",
       "      <td>26375</td>\n",
       "      <td>862</td>\n",
       "      <td>10718</td>\n",
       "      <td>2662</td>\n",
       "      <td>128</td>\n",
       "      <td>8028</td>\n",
       "      <td>17065</td>\n",
       "      <td>14838</td>\n",
       "      <td>1917</td>\n",
       "      <td>30423</td>\n",
       "      <td>35365</td>\n",
       "      <td>1</td>\n",
       "      <td>16909</td>\n",
       "      <td>1975</td>\n",
       "      <td>526</td>\n",
       "      <td>6396</td>\n",
       "      <td>342</td>\n",
       "      <td>832</td>\n",
       "      <td>35365</td>\n",
       "      <td>967</td>\n",
       "      <td>8718</td>\n",
       "      <td>35365</td>\n",
       "    </tr>\n",
       "  </tbody>\n",
       "</table>\n",
       "</div>"
      ],
      "text/plain": [
       "              term int_rate  grade sub_grade emp_title emp_length  \\\n",
       "count        35365    35365  35365     35365     35365      35365   \n",
       "unique           2      333      7        35     27412         11   \n",
       "top      36 months   10.99%      B        A4   US Army  10+ years   \n",
       "freq         26375      862  10718      2662       128       8028   \n",
       "\n",
       "       home_ownership verification_status issue_d loan_status pymnt_plan  \\\n",
       "count           35365               35365   35365       35365      35365   \n",
       "unique              4                   3      51           2          1   \n",
       "top              RENT        Not Verified  Dec-11  Fully Paid          n   \n",
       "freq            17065               14838    1917       30423      35365   \n",
       "\n",
       "                                                      url             purpose  \\\n",
       "count                                               35365               35365   \n",
       "unique                                              35365                  14   \n",
       "top     https://lendingclub.com/browse/loanDetail.acti...  debt_consolidation   \n",
       "freq                                                    1               16909   \n",
       "\n",
       "                     title zip_code addr_state earliest_cr_line revol_util  \\\n",
       "count                35365    35365      35365            35365      35365   \n",
       "unique               17660      804         48              509       1081   \n",
       "top     Debt Consolidation    100xx         CA           Oct-99         0%   \n",
       "freq                  1975      526       6396              342        832   \n",
       "\n",
       "       initial_list_status last_pymnt_d last_credit_pull_d application_type  \n",
       "count                35365        35365              35365            35365  \n",
       "unique                   1           97                 96                1  \n",
       "top                      f       Mar-13             May-16       INDIVIDUAL  \n",
       "freq                 35365          967               8718            35365  "
      ]
     },
     "execution_count": 35,
     "metadata": {},
     "output_type": "execute_result"
    }
   ],
   "source": [
    "c_loan.describe()"
   ]
  },
  {
   "cell_type": "markdown",
   "metadata": {},
   "source": [
    "Based on frequency observed above, dropping the following.\n",
    "* out_prncp\n",
    "* out_prncp_inv\n",
    "* collections_12_mths_ex_med\n",
    "* policy_code\n",
    "* acc_now_delinq\n",
    "* chargeoff_within_12_mths\n",
    "* delinq_amnt \n",
    "* pymnt_plan\n",
    "* initial_list_status\n",
    "* application_type\n",
    "\n",
    "Also, dropping following, as they do not assist in investigation.\n",
    "* url\n",
    "* zip_code"
   ]
  },
  {
   "cell_type": "code",
   "execution_count": 36,
   "metadata": {},
   "outputs": [],
   "source": [
    "drop_list = [\"out_prncp\",\n",
    "             'out_prncp_inv',\n",
    "             'collections_12_mths_ex_med',\n",
    "             'policy_code',\n",
    "             'acc_now_delinq',\n",
    "             'chargeoff_within_12_mths',\n",
    "             'delinq_amnt',\n",
    "             'pymnt_plan',\n",
    "             'initial_list_status',\n",
    "             'application_type', \n",
    "             'url',\n",
    "             'zip_code']"
   ]
  },
  {
   "cell_type": "code",
   "execution_count": 37,
   "metadata": {},
   "outputs": [],
   "source": [
    "loan.drop(drop_list,axis=1,inplace=True)"
   ]
  },
  {
   "cell_type": "code",
   "execution_count": 38,
   "metadata": {},
   "outputs": [
    {
     "data": {
      "text/plain": [
       "(35365, 40)"
      ]
     },
     "execution_count": 38,
     "metadata": {},
     "output_type": "execute_result"
    }
   ],
   "source": [
    "loan.shape"
   ]
  },
  {
   "cell_type": "code",
   "execution_count": 39,
   "metadata": {},
   "outputs": [],
   "source": [
    "#Separate numeric and categorical variables, from updated loan data frame.\n",
    "n_loan = loan.select_dtypes(include=[np.number])\n",
    "c_loan = loan.select_dtypes(exclude=[np.number])"
   ]
  },
  {
   "cell_type": "code",
   "execution_count": 40,
   "metadata": {},
   "outputs": [],
   "source": [
    "n_loan_corr = n_loan.drop(['id','member_id'],axis=1,inplace=False)"
   ]
  },
  {
   "cell_type": "code",
   "execution_count": 41,
   "metadata": {},
   "outputs": [
    {
     "data": {
      "text/html": [
       "<div>\n",
       "<style scoped>\n",
       "    .dataframe tbody tr th:only-of-type {\n",
       "        vertical-align: middle;\n",
       "    }\n",
       "\n",
       "    .dataframe tbody tr th {\n",
       "        vertical-align: top;\n",
       "    }\n",
       "\n",
       "    .dataframe thead th {\n",
       "        text-align: right;\n",
       "    }\n",
       "</style>\n",
       "<table border=\"1\" class=\"dataframe\">\n",
       "  <thead>\n",
       "    <tr style=\"text-align: right;\">\n",
       "      <th></th>\n",
       "      <th>loan_amnt</th>\n",
       "      <th>funded_amnt</th>\n",
       "      <th>funded_amnt_inv</th>\n",
       "      <th>installment</th>\n",
       "      <th>annual_inc</th>\n",
       "      <th>dti</th>\n",
       "      <th>delinq_2yrs</th>\n",
       "      <th>inq_last_6mths</th>\n",
       "      <th>open_acc</th>\n",
       "      <th>pub_rec</th>\n",
       "      <th>revol_bal</th>\n",
       "      <th>total_acc</th>\n",
       "      <th>total_pymnt</th>\n",
       "      <th>total_pymnt_inv</th>\n",
       "      <th>total_rec_prncp</th>\n",
       "      <th>total_rec_int</th>\n",
       "      <th>total_rec_late_fee</th>\n",
       "      <th>recoveries</th>\n",
       "      <th>collection_recovery_fee</th>\n",
       "      <th>last_pymnt_amnt</th>\n",
       "      <th>pub_rec_bankruptcies</th>\n",
       "    </tr>\n",
       "  </thead>\n",
       "  <tbody>\n",
       "    <tr>\n",
       "      <th>loan_amnt</th>\n",
       "      <td>1.000000</td>\n",
       "      <td>0.981570</td>\n",
       "      <td>0.951897</td>\n",
       "      <td>0.930741</td>\n",
       "      <td>0.258983</td>\n",
       "      <td>0.063067</td>\n",
       "      <td>-0.035296</td>\n",
       "      <td>0.010001</td>\n",
       "      <td>0.174216</td>\n",
       "      <td>-0.046905</td>\n",
       "      <td>0.319774</td>\n",
       "      <td>0.255733</td>\n",
       "      <td>0.884288</td>\n",
       "      <td>0.860239</td>\n",
       "      <td>0.848791</td>\n",
       "      <td>0.728812</td>\n",
       "      <td>0.046661</td>\n",
       "      <td>0.143544</td>\n",
       "      <td>0.079358</td>\n",
       "      <td>0.477648</td>\n",
       "      <td>-0.030381</td>\n",
       "    </tr>\n",
       "    <tr>\n",
       "      <th>funded_amnt</th>\n",
       "      <td>0.981570</td>\n",
       "      <td>1.000000</td>\n",
       "      <td>0.971349</td>\n",
       "      <td>0.956773</td>\n",
       "      <td>0.254825</td>\n",
       "      <td>0.063373</td>\n",
       "      <td>-0.035390</td>\n",
       "      <td>0.010272</td>\n",
       "      <td>0.172782</td>\n",
       "      <td>-0.047559</td>\n",
       "      <td>0.312439</td>\n",
       "      <td>0.249979</td>\n",
       "      <td>0.901399</td>\n",
       "      <td>0.878168</td>\n",
       "      <td>0.867281</td>\n",
       "      <td>0.737618</td>\n",
       "      <td>0.048843</td>\n",
       "      <td>0.143871</td>\n",
       "      <td>0.081014</td>\n",
       "      <td>0.481655</td>\n",
       "      <td>-0.031635</td>\n",
       "    </tr>\n",
       "    <tr>\n",
       "      <th>funded_amnt_inv</th>\n",
       "      <td>0.951897</td>\n",
       "      <td>0.971349</td>\n",
       "      <td>1.000000</td>\n",
       "      <td>0.922849</td>\n",
       "      <td>0.245854</td>\n",
       "      <td>0.066670</td>\n",
       "      <td>-0.039412</td>\n",
       "      <td>-0.000302</td>\n",
       "      <td>0.162768</td>\n",
       "      <td>-0.051510</td>\n",
       "      <td>0.295483</td>\n",
       "      <td>0.241116</td>\n",
       "      <td>0.887206</td>\n",
       "      <td>0.908955</td>\n",
       "      <td>0.852175</td>\n",
       "      <td>0.731983</td>\n",
       "      <td>0.035492</td>\n",
       "      <td>0.135562</td>\n",
       "      <td>0.070492</td>\n",
       "      <td>0.472691</td>\n",
       "      <td>-0.036645</td>\n",
       "    </tr>\n",
       "    <tr>\n",
       "      <th>installment</th>\n",
       "      <td>0.930741</td>\n",
       "      <td>0.956773</td>\n",
       "      <td>0.922849</td>\n",
       "      <td>1.000000</td>\n",
       "      <td>0.256470</td>\n",
       "      <td>0.054147</td>\n",
       "      <td>-0.023823</td>\n",
       "      <td>0.008246</td>\n",
       "      <td>0.170735</td>\n",
       "      <td>-0.042818</td>\n",
       "      <td>0.316643</td>\n",
       "      <td>0.230248</td>\n",
       "      <td>0.860483</td>\n",
       "      <td>0.833471</td>\n",
       "      <td>0.850762</td>\n",
       "      <td>0.642499</td>\n",
       "      <td>0.055997</td>\n",
       "      <td>0.120870</td>\n",
       "      <td>0.078922</td>\n",
       "      <td>0.414850</td>\n",
       "      <td>-0.028591</td>\n",
       "    </tr>\n",
       "    <tr>\n",
       "      <th>annual_inc</th>\n",
       "      <td>0.258983</td>\n",
       "      <td>0.254825</td>\n",
       "      <td>0.245854</td>\n",
       "      <td>0.256470</td>\n",
       "      <td>1.000000</td>\n",
       "      <td>-0.120870</td>\n",
       "      <td>0.022564</td>\n",
       "      <td>0.033739</td>\n",
       "      <td>0.155106</td>\n",
       "      <td>-0.013701</td>\n",
       "      <td>0.272333</td>\n",
       "      <td>0.234623</td>\n",
       "      <td>0.247433</td>\n",
       "      <td>0.239355</td>\n",
       "      <td>0.247356</td>\n",
       "      <td>0.180302</td>\n",
       "      <td>0.006891</td>\n",
       "      <td>0.022859</td>\n",
       "      <td>0.017354</td>\n",
       "      <td>0.138654</td>\n",
       "      <td>-0.010815</td>\n",
       "    </tr>\n",
       "    <tr>\n",
       "      <th>dti</th>\n",
       "      <td>0.063067</td>\n",
       "      <td>0.063373</td>\n",
       "      <td>0.066670</td>\n",
       "      <td>0.054147</td>\n",
       "      <td>-0.120870</td>\n",
       "      <td>1.000000</td>\n",
       "      <td>-0.035743</td>\n",
       "      <td>0.003772</td>\n",
       "      <td>0.290384</td>\n",
       "      <td>-0.005826</td>\n",
       "      <td>0.228566</td>\n",
       "      <td>0.227296</td>\n",
       "      <td>0.059159</td>\n",
       "      <td>0.062157</td>\n",
       "      <td>0.036703</td>\n",
       "      <td>0.102421</td>\n",
       "      <td>-0.009013</td>\n",
       "      <td>0.025885</td>\n",
       "      <td>0.011436</td>\n",
       "      <td>0.007827</td>\n",
       "      <td>0.006457</td>\n",
       "    </tr>\n",
       "    <tr>\n",
       "      <th>delinq_2yrs</th>\n",
       "      <td>-0.035296</td>\n",
       "      <td>-0.035390</td>\n",
       "      <td>-0.039412</td>\n",
       "      <td>-0.023823</td>\n",
       "      <td>0.022564</td>\n",
       "      <td>-0.035743</td>\n",
       "      <td>1.000000</td>\n",
       "      <td>0.008124</td>\n",
       "      <td>0.010860</td>\n",
       "      <td>0.011456</td>\n",
       "      <td>-0.055611</td>\n",
       "      <td>0.067267</td>\n",
       "      <td>-0.025698</td>\n",
       "      <td>-0.030167</td>\n",
       "      <td>-0.041021</td>\n",
       "      <td>0.021570</td>\n",
       "      <td>0.027625</td>\n",
       "      <td>0.012020</td>\n",
       "      <td>0.014733</td>\n",
       "      <td>-0.012474</td>\n",
       "      <td>0.005608</td>\n",
       "    </tr>\n",
       "    <tr>\n",
       "      <th>inq_last_6mths</th>\n",
       "      <td>0.010001</td>\n",
       "      <td>0.010272</td>\n",
       "      <td>-0.000302</td>\n",
       "      <td>0.008246</td>\n",
       "      <td>0.033739</td>\n",
       "      <td>0.003772</td>\n",
       "      <td>0.008124</td>\n",
       "      <td>1.000000</td>\n",
       "      <td>0.094131</td>\n",
       "      <td>0.022393</td>\n",
       "      <td>-0.024374</td>\n",
       "      <td>0.114890</td>\n",
       "      <td>-0.008551</td>\n",
       "      <td>-0.016221</td>\n",
       "      <td>-0.021649</td>\n",
       "      <td>0.026078</td>\n",
       "      <td>0.031217</td>\n",
       "      <td>0.018833</td>\n",
       "      <td>0.013783</td>\n",
       "      <td>0.029462</td>\n",
       "      <td>0.013907</td>\n",
       "    </tr>\n",
       "    <tr>\n",
       "      <th>open_acc</th>\n",
       "      <td>0.174216</td>\n",
       "      <td>0.172782</td>\n",
       "      <td>0.162768</td>\n",
       "      <td>0.170735</td>\n",
       "      <td>0.155106</td>\n",
       "      <td>0.290384</td>\n",
       "      <td>0.010860</td>\n",
       "      <td>0.094131</td>\n",
       "      <td>1.000000</td>\n",
       "      <td>0.004052</td>\n",
       "      <td>0.285299</td>\n",
       "      <td>0.684513</td>\n",
       "      <td>0.158352</td>\n",
       "      <td>0.150513</td>\n",
       "      <td>0.156103</td>\n",
       "      <td>0.120162</td>\n",
       "      <td>-0.016904</td>\n",
       "      <td>0.020475</td>\n",
       "      <td>0.011513</td>\n",
       "      <td>0.082485</td>\n",
       "      <td>0.010357</td>\n",
       "    </tr>\n",
       "    <tr>\n",
       "      <th>pub_rec</th>\n",
       "      <td>-0.046905</td>\n",
       "      <td>-0.047559</td>\n",
       "      <td>-0.051510</td>\n",
       "      <td>-0.042818</td>\n",
       "      <td>-0.013701</td>\n",
       "      <td>-0.005826</td>\n",
       "      <td>0.011456</td>\n",
       "      <td>0.022393</td>\n",
       "      <td>0.004052</td>\n",
       "      <td>1.000000</td>\n",
       "      <td>-0.058503</td>\n",
       "      <td>-0.019414</td>\n",
       "      <td>-0.049634</td>\n",
       "      <td>-0.052341</td>\n",
       "      <td>-0.061356</td>\n",
       "      <td>-0.001661</td>\n",
       "      <td>-0.004016</td>\n",
       "      <td>-0.006053</td>\n",
       "      <td>-0.006186</td>\n",
       "      <td>-0.031914</td>\n",
       "      <td>0.839635</td>\n",
       "    </tr>\n",
       "    <tr>\n",
       "      <th>revol_bal</th>\n",
       "      <td>0.319774</td>\n",
       "      <td>0.312439</td>\n",
       "      <td>0.295483</td>\n",
       "      <td>0.316643</td>\n",
       "      <td>0.272333</td>\n",
       "      <td>0.228566</td>\n",
       "      <td>-0.055611</td>\n",
       "      <td>-0.024374</td>\n",
       "      <td>0.285299</td>\n",
       "      <td>-0.058503</td>\n",
       "      <td>1.000000</td>\n",
       "      <td>0.310479</td>\n",
       "      <td>0.294334</td>\n",
       "      <td>0.280856</td>\n",
       "      <td>0.282161</td>\n",
       "      <td>0.244149</td>\n",
       "      <td>0.008487</td>\n",
       "      <td>0.046024</td>\n",
       "      <td>0.027125</td>\n",
       "      <td>0.130707</td>\n",
       "      <td>-0.045701</td>\n",
       "    </tr>\n",
       "    <tr>\n",
       "      <th>total_acc</th>\n",
       "      <td>0.255733</td>\n",
       "      <td>0.249979</td>\n",
       "      <td>0.241116</td>\n",
       "      <td>0.230248</td>\n",
       "      <td>0.234623</td>\n",
       "      <td>0.227296</td>\n",
       "      <td>0.067267</td>\n",
       "      <td>0.114890</td>\n",
       "      <td>0.684513</td>\n",
       "      <td>-0.019414</td>\n",
       "      <td>0.310479</td>\n",
       "      <td>1.000000</td>\n",
       "      <td>0.222920</td>\n",
       "      <td>0.215741</td>\n",
       "      <td>0.228170</td>\n",
       "      <td>0.145155</td>\n",
       "      <td>-0.021229</td>\n",
       "      <td>0.027286</td>\n",
       "      <td>0.015817</td>\n",
       "      <td>0.169273</td>\n",
       "      <td>-0.004941</td>\n",
       "    </tr>\n",
       "    <tr>\n",
       "      <th>total_pymnt</th>\n",
       "      <td>0.884288</td>\n",
       "      <td>0.901399</td>\n",
       "      <td>0.887206</td>\n",
       "      <td>0.860483</td>\n",
       "      <td>0.247433</td>\n",
       "      <td>0.059159</td>\n",
       "      <td>-0.025698</td>\n",
       "      <td>-0.008551</td>\n",
       "      <td>0.158352</td>\n",
       "      <td>-0.049634</td>\n",
       "      <td>0.294334</td>\n",
       "      <td>0.222920</td>\n",
       "      <td>1.000000</td>\n",
       "      <td>0.978977</td>\n",
       "      <td>0.973230</td>\n",
       "      <td>0.823283</td>\n",
       "      <td>0.014575</td>\n",
       "      <td>0.030610</td>\n",
       "      <td>0.029111</td>\n",
       "      <td>0.513359</td>\n",
       "      <td>-0.037708</td>\n",
       "    </tr>\n",
       "    <tr>\n",
       "      <th>total_pymnt_inv</th>\n",
       "      <td>0.860239</td>\n",
       "      <td>0.878168</td>\n",
       "      <td>0.908955</td>\n",
       "      <td>0.833471</td>\n",
       "      <td>0.239355</td>\n",
       "      <td>0.062157</td>\n",
       "      <td>-0.030167</td>\n",
       "      <td>-0.016221</td>\n",
       "      <td>0.150513</td>\n",
       "      <td>-0.052341</td>\n",
       "      <td>0.280856</td>\n",
       "      <td>0.215741</td>\n",
       "      <td>0.978977</td>\n",
       "      <td>1.000000</td>\n",
       "      <td>0.951283</td>\n",
       "      <td>0.811275</td>\n",
       "      <td>0.005491</td>\n",
       "      <td>0.026632</td>\n",
       "      <td>0.022098</td>\n",
       "      <td>0.502846</td>\n",
       "      <td>-0.041555</td>\n",
       "    </tr>\n",
       "    <tr>\n",
       "      <th>total_rec_prncp</th>\n",
       "      <td>0.848791</td>\n",
       "      <td>0.867281</td>\n",
       "      <td>0.852175</td>\n",
       "      <td>0.850762</td>\n",
       "      <td>0.247356</td>\n",
       "      <td>0.036703</td>\n",
       "      <td>-0.041021</td>\n",
       "      <td>-0.021649</td>\n",
       "      <td>0.156103</td>\n",
       "      <td>-0.061356</td>\n",
       "      <td>0.282161</td>\n",
       "      <td>0.228170</td>\n",
       "      <td>0.973230</td>\n",
       "      <td>0.951283</td>\n",
       "      <td>1.000000</td>\n",
       "      <td>0.683285</td>\n",
       "      <td>-0.020119</td>\n",
       "      <td>-0.093168</td>\n",
       "      <td>-0.057227</td>\n",
       "      <td>0.569208</td>\n",
       "      <td>-0.047875</td>\n",
       "    </tr>\n",
       "    <tr>\n",
       "      <th>total_rec_int</th>\n",
       "      <td>0.728812</td>\n",
       "      <td>0.737618</td>\n",
       "      <td>0.731983</td>\n",
       "      <td>0.642499</td>\n",
       "      <td>0.180302</td>\n",
       "      <td>0.102421</td>\n",
       "      <td>0.021570</td>\n",
       "      <td>0.026078</td>\n",
       "      <td>0.120162</td>\n",
       "      <td>-0.001661</td>\n",
       "      <td>0.244149</td>\n",
       "      <td>0.145155</td>\n",
       "      <td>0.823283</td>\n",
       "      <td>0.811275</td>\n",
       "      <td>0.683285</td>\n",
       "      <td>1.000000</td>\n",
       "      <td>0.081444</td>\n",
       "      <td>0.095081</td>\n",
       "      <td>0.046291</td>\n",
       "      <td>0.246181</td>\n",
       "      <td>0.002689</td>\n",
       "    </tr>\n",
       "    <tr>\n",
       "      <th>total_rec_late_fee</th>\n",
       "      <td>0.046661</td>\n",
       "      <td>0.048843</td>\n",
       "      <td>0.035492</td>\n",
       "      <td>0.055997</td>\n",
       "      <td>0.006891</td>\n",
       "      <td>-0.009013</td>\n",
       "      <td>0.027625</td>\n",
       "      <td>0.031217</td>\n",
       "      <td>-0.016904</td>\n",
       "      <td>-0.004016</td>\n",
       "      <td>0.008487</td>\n",
       "      <td>-0.021229</td>\n",
       "      <td>0.014575</td>\n",
       "      <td>0.005491</td>\n",
       "      <td>-0.020119</td>\n",
       "      <td>0.081444</td>\n",
       "      <td>1.000000</td>\n",
       "      <td>0.095216</td>\n",
       "      <td>0.088330</td>\n",
       "      <td>-0.060834</td>\n",
       "      <td>-0.004059</td>\n",
       "    </tr>\n",
       "    <tr>\n",
       "      <th>recoveries</th>\n",
       "      <td>0.143544</td>\n",
       "      <td>0.143871</td>\n",
       "      <td>0.135562</td>\n",
       "      <td>0.120870</td>\n",
       "      <td>0.022859</td>\n",
       "      <td>0.025885</td>\n",
       "      <td>0.012020</td>\n",
       "      <td>0.018833</td>\n",
       "      <td>0.020475</td>\n",
       "      <td>-0.006053</td>\n",
       "      <td>0.046024</td>\n",
       "      <td>0.027286</td>\n",
       "      <td>0.030610</td>\n",
       "      <td>0.026632</td>\n",
       "      <td>-0.093168</td>\n",
       "      <td>0.095081</td>\n",
       "      <td>0.095216</td>\n",
       "      <td>1.000000</td>\n",
       "      <td>0.787467</td>\n",
       "      <td>-0.072702</td>\n",
       "      <td>-0.005600</td>\n",
       "    </tr>\n",
       "    <tr>\n",
       "      <th>collection_recovery_fee</th>\n",
       "      <td>0.079358</td>\n",
       "      <td>0.081014</td>\n",
       "      <td>0.070492</td>\n",
       "      <td>0.078922</td>\n",
       "      <td>0.017354</td>\n",
       "      <td>0.011436</td>\n",
       "      <td>0.014733</td>\n",
       "      <td>0.013783</td>\n",
       "      <td>0.011513</td>\n",
       "      <td>-0.006186</td>\n",
       "      <td>0.027125</td>\n",
       "      <td>0.015817</td>\n",
       "      <td>0.029111</td>\n",
       "      <td>0.022098</td>\n",
       "      <td>-0.057227</td>\n",
       "      <td>0.046291</td>\n",
       "      <td>0.088330</td>\n",
       "      <td>0.787467</td>\n",
       "      <td>1.000000</td>\n",
       "      <td>-0.043862</td>\n",
       "      <td>-0.006776</td>\n",
       "    </tr>\n",
       "    <tr>\n",
       "      <th>last_pymnt_amnt</th>\n",
       "      <td>0.477648</td>\n",
       "      <td>0.481655</td>\n",
       "      <td>0.472691</td>\n",
       "      <td>0.414850</td>\n",
       "      <td>0.138654</td>\n",
       "      <td>0.007827</td>\n",
       "      <td>-0.012474</td>\n",
       "      <td>0.029462</td>\n",
       "      <td>0.082485</td>\n",
       "      <td>-0.031914</td>\n",
       "      <td>0.130707</td>\n",
       "      <td>0.169273</td>\n",
       "      <td>0.513359</td>\n",
       "      <td>0.502846</td>\n",
       "      <td>0.569208</td>\n",
       "      <td>0.246181</td>\n",
       "      <td>-0.060834</td>\n",
       "      <td>-0.072702</td>\n",
       "      <td>-0.043862</td>\n",
       "      <td>1.000000</td>\n",
       "      <td>-0.020948</td>\n",
       "    </tr>\n",
       "    <tr>\n",
       "      <th>pub_rec_bankruptcies</th>\n",
       "      <td>-0.030381</td>\n",
       "      <td>-0.031635</td>\n",
       "      <td>-0.036645</td>\n",
       "      <td>-0.028591</td>\n",
       "      <td>-0.010815</td>\n",
       "      <td>0.006457</td>\n",
       "      <td>0.005608</td>\n",
       "      <td>0.013907</td>\n",
       "      <td>0.010357</td>\n",
       "      <td>0.839635</td>\n",
       "      <td>-0.045701</td>\n",
       "      <td>-0.004941</td>\n",
       "      <td>-0.037708</td>\n",
       "      <td>-0.041555</td>\n",
       "      <td>-0.047875</td>\n",
       "      <td>0.002689</td>\n",
       "      <td>-0.004059</td>\n",
       "      <td>-0.005600</td>\n",
       "      <td>-0.006776</td>\n",
       "      <td>-0.020948</td>\n",
       "      <td>1.000000</td>\n",
       "    </tr>\n",
       "  </tbody>\n",
       "</table>\n",
       "</div>"
      ],
      "text/plain": [
       "                         loan_amnt  funded_amnt  funded_amnt_inv  installment  \\\n",
       "loan_amnt                 1.000000     0.981570         0.951897     0.930741   \n",
       "funded_amnt               0.981570     1.000000         0.971349     0.956773   \n",
       "funded_amnt_inv           0.951897     0.971349         1.000000     0.922849   \n",
       "installment               0.930741     0.956773         0.922849     1.000000   \n",
       "annual_inc                0.258983     0.254825         0.245854     0.256470   \n",
       "dti                       0.063067     0.063373         0.066670     0.054147   \n",
       "delinq_2yrs              -0.035296    -0.035390        -0.039412    -0.023823   \n",
       "inq_last_6mths            0.010001     0.010272        -0.000302     0.008246   \n",
       "open_acc                  0.174216     0.172782         0.162768     0.170735   \n",
       "pub_rec                  -0.046905    -0.047559        -0.051510    -0.042818   \n",
       "revol_bal                 0.319774     0.312439         0.295483     0.316643   \n",
       "total_acc                 0.255733     0.249979         0.241116     0.230248   \n",
       "total_pymnt               0.884288     0.901399         0.887206     0.860483   \n",
       "total_pymnt_inv           0.860239     0.878168         0.908955     0.833471   \n",
       "total_rec_prncp           0.848791     0.867281         0.852175     0.850762   \n",
       "total_rec_int             0.728812     0.737618         0.731983     0.642499   \n",
       "total_rec_late_fee        0.046661     0.048843         0.035492     0.055997   \n",
       "recoveries                0.143544     0.143871         0.135562     0.120870   \n",
       "collection_recovery_fee   0.079358     0.081014         0.070492     0.078922   \n",
       "last_pymnt_amnt           0.477648     0.481655         0.472691     0.414850   \n",
       "pub_rec_bankruptcies     -0.030381    -0.031635        -0.036645    -0.028591   \n",
       "\n",
       "                         annual_inc       dti  delinq_2yrs  inq_last_6mths  \\\n",
       "loan_amnt                  0.258983  0.063067    -0.035296        0.010001   \n",
       "funded_amnt                0.254825  0.063373    -0.035390        0.010272   \n",
       "funded_amnt_inv            0.245854  0.066670    -0.039412       -0.000302   \n",
       "installment                0.256470  0.054147    -0.023823        0.008246   \n",
       "annual_inc                 1.000000 -0.120870     0.022564        0.033739   \n",
       "dti                       -0.120870  1.000000    -0.035743        0.003772   \n",
       "delinq_2yrs                0.022564 -0.035743     1.000000        0.008124   \n",
       "inq_last_6mths             0.033739  0.003772     0.008124        1.000000   \n",
       "open_acc                   0.155106  0.290384     0.010860        0.094131   \n",
       "pub_rec                   -0.013701 -0.005826     0.011456        0.022393   \n",
       "revol_bal                  0.272333  0.228566    -0.055611       -0.024374   \n",
       "total_acc                  0.234623  0.227296     0.067267        0.114890   \n",
       "total_pymnt                0.247433  0.059159    -0.025698       -0.008551   \n",
       "total_pymnt_inv            0.239355  0.062157    -0.030167       -0.016221   \n",
       "total_rec_prncp            0.247356  0.036703    -0.041021       -0.021649   \n",
       "total_rec_int              0.180302  0.102421     0.021570        0.026078   \n",
       "total_rec_late_fee         0.006891 -0.009013     0.027625        0.031217   \n",
       "recoveries                 0.022859  0.025885     0.012020        0.018833   \n",
       "collection_recovery_fee    0.017354  0.011436     0.014733        0.013783   \n",
       "last_pymnt_amnt            0.138654  0.007827    -0.012474        0.029462   \n",
       "pub_rec_bankruptcies      -0.010815  0.006457     0.005608        0.013907   \n",
       "\n",
       "                         open_acc   pub_rec  revol_bal  total_acc  \\\n",
       "loan_amnt                0.174216 -0.046905   0.319774   0.255733   \n",
       "funded_amnt              0.172782 -0.047559   0.312439   0.249979   \n",
       "funded_amnt_inv          0.162768 -0.051510   0.295483   0.241116   \n",
       "installment              0.170735 -0.042818   0.316643   0.230248   \n",
       "annual_inc               0.155106 -0.013701   0.272333   0.234623   \n",
       "dti                      0.290384 -0.005826   0.228566   0.227296   \n",
       "delinq_2yrs              0.010860  0.011456  -0.055611   0.067267   \n",
       "inq_last_6mths           0.094131  0.022393  -0.024374   0.114890   \n",
       "open_acc                 1.000000  0.004052   0.285299   0.684513   \n",
       "pub_rec                  0.004052  1.000000  -0.058503  -0.019414   \n",
       "revol_bal                0.285299 -0.058503   1.000000   0.310479   \n",
       "total_acc                0.684513 -0.019414   0.310479   1.000000   \n",
       "total_pymnt              0.158352 -0.049634   0.294334   0.222920   \n",
       "total_pymnt_inv          0.150513 -0.052341   0.280856   0.215741   \n",
       "total_rec_prncp          0.156103 -0.061356   0.282161   0.228170   \n",
       "total_rec_int            0.120162 -0.001661   0.244149   0.145155   \n",
       "total_rec_late_fee      -0.016904 -0.004016   0.008487  -0.021229   \n",
       "recoveries               0.020475 -0.006053   0.046024   0.027286   \n",
       "collection_recovery_fee  0.011513 -0.006186   0.027125   0.015817   \n",
       "last_pymnt_amnt          0.082485 -0.031914   0.130707   0.169273   \n",
       "pub_rec_bankruptcies     0.010357  0.839635  -0.045701  -0.004941   \n",
       "\n",
       "                         total_pymnt  total_pymnt_inv  total_rec_prncp  \\\n",
       "loan_amnt                   0.884288         0.860239         0.848791   \n",
       "funded_amnt                 0.901399         0.878168         0.867281   \n",
       "funded_amnt_inv             0.887206         0.908955         0.852175   \n",
       "installment                 0.860483         0.833471         0.850762   \n",
       "annual_inc                  0.247433         0.239355         0.247356   \n",
       "dti                         0.059159         0.062157         0.036703   \n",
       "delinq_2yrs                -0.025698        -0.030167        -0.041021   \n",
       "inq_last_6mths             -0.008551        -0.016221        -0.021649   \n",
       "open_acc                    0.158352         0.150513         0.156103   \n",
       "pub_rec                    -0.049634        -0.052341        -0.061356   \n",
       "revol_bal                   0.294334         0.280856         0.282161   \n",
       "total_acc                   0.222920         0.215741         0.228170   \n",
       "total_pymnt                 1.000000         0.978977         0.973230   \n",
       "total_pymnt_inv             0.978977         1.000000         0.951283   \n",
       "total_rec_prncp             0.973230         0.951283         1.000000   \n",
       "total_rec_int               0.823283         0.811275         0.683285   \n",
       "total_rec_late_fee          0.014575         0.005491        -0.020119   \n",
       "recoveries                  0.030610         0.026632        -0.093168   \n",
       "collection_recovery_fee     0.029111         0.022098        -0.057227   \n",
       "last_pymnt_amnt             0.513359         0.502846         0.569208   \n",
       "pub_rec_bankruptcies       -0.037708        -0.041555        -0.047875   \n",
       "\n",
       "                         total_rec_int  total_rec_late_fee  recoveries  \\\n",
       "loan_amnt                     0.728812            0.046661    0.143544   \n",
       "funded_amnt                   0.737618            0.048843    0.143871   \n",
       "funded_amnt_inv               0.731983            0.035492    0.135562   \n",
       "installment                   0.642499            0.055997    0.120870   \n",
       "annual_inc                    0.180302            0.006891    0.022859   \n",
       "dti                           0.102421           -0.009013    0.025885   \n",
       "delinq_2yrs                   0.021570            0.027625    0.012020   \n",
       "inq_last_6mths                0.026078            0.031217    0.018833   \n",
       "open_acc                      0.120162           -0.016904    0.020475   \n",
       "pub_rec                      -0.001661           -0.004016   -0.006053   \n",
       "revol_bal                     0.244149            0.008487    0.046024   \n",
       "total_acc                     0.145155           -0.021229    0.027286   \n",
       "total_pymnt                   0.823283            0.014575    0.030610   \n",
       "total_pymnt_inv               0.811275            0.005491    0.026632   \n",
       "total_rec_prncp               0.683285           -0.020119   -0.093168   \n",
       "total_rec_int                 1.000000            0.081444    0.095081   \n",
       "total_rec_late_fee            0.081444            1.000000    0.095216   \n",
       "recoveries                    0.095081            0.095216    1.000000   \n",
       "collection_recovery_fee       0.046291            0.088330    0.787467   \n",
       "last_pymnt_amnt               0.246181           -0.060834   -0.072702   \n",
       "pub_rec_bankruptcies          0.002689           -0.004059   -0.005600   \n",
       "\n",
       "                         collection_recovery_fee  last_pymnt_amnt  \\\n",
       "loan_amnt                               0.079358         0.477648   \n",
       "funded_amnt                             0.081014         0.481655   \n",
       "funded_amnt_inv                         0.070492         0.472691   \n",
       "installment                             0.078922         0.414850   \n",
       "annual_inc                              0.017354         0.138654   \n",
       "dti                                     0.011436         0.007827   \n",
       "delinq_2yrs                             0.014733        -0.012474   \n",
       "inq_last_6mths                          0.013783         0.029462   \n",
       "open_acc                                0.011513         0.082485   \n",
       "pub_rec                                -0.006186        -0.031914   \n",
       "revol_bal                               0.027125         0.130707   \n",
       "total_acc                               0.015817         0.169273   \n",
       "total_pymnt                             0.029111         0.513359   \n",
       "total_pymnt_inv                         0.022098         0.502846   \n",
       "total_rec_prncp                        -0.057227         0.569208   \n",
       "total_rec_int                           0.046291         0.246181   \n",
       "total_rec_late_fee                      0.088330        -0.060834   \n",
       "recoveries                              0.787467        -0.072702   \n",
       "collection_recovery_fee                 1.000000        -0.043862   \n",
       "last_pymnt_amnt                        -0.043862         1.000000   \n",
       "pub_rec_bankruptcies                   -0.006776        -0.020948   \n",
       "\n",
       "                         pub_rec_bankruptcies  \n",
       "loan_amnt                           -0.030381  \n",
       "funded_amnt                         -0.031635  \n",
       "funded_amnt_inv                     -0.036645  \n",
       "installment                         -0.028591  \n",
       "annual_inc                          -0.010815  \n",
       "dti                                  0.006457  \n",
       "delinq_2yrs                          0.005608  \n",
       "inq_last_6mths                       0.013907  \n",
       "open_acc                             0.010357  \n",
       "pub_rec                              0.839635  \n",
       "revol_bal                           -0.045701  \n",
       "total_acc                           -0.004941  \n",
       "total_pymnt                         -0.037708  \n",
       "total_pymnt_inv                     -0.041555  \n",
       "total_rec_prncp                     -0.047875  \n",
       "total_rec_int                        0.002689  \n",
       "total_rec_late_fee                  -0.004059  \n",
       "recoveries                          -0.005600  \n",
       "collection_recovery_fee             -0.006776  \n",
       "last_pymnt_amnt                     -0.020948  \n",
       "pub_rec_bankruptcies                 1.000000  "
      ]
     },
     "execution_count": 41,
     "metadata": {},
     "output_type": "execute_result"
    }
   ],
   "source": [
    "correlation = n_loan_corr.corr()\n",
    "correlation"
   ]
  },
  {
   "cell_type": "code",
   "execution_count": 42,
   "metadata": {},
   "outputs": [
    {
     "data": {
      "text/plain": [
       "Index(['id', 'member_id', 'loan_amnt', 'funded_amnt', 'funded_amnt_inv',\n",
       "       'installment', 'annual_inc', 'dti', 'delinq_2yrs', 'inq_last_6mths',\n",
       "       'open_acc', 'pub_rec', 'revol_bal', 'total_acc', 'total_pymnt',\n",
       "       'total_pymnt_inv', 'total_rec_prncp', 'total_rec_int',\n",
       "       'total_rec_late_fee', 'recoveries', 'collection_recovery_fee',\n",
       "       'last_pymnt_amnt', 'pub_rec_bankruptcies'],\n",
       "      dtype='object')"
      ]
     },
     "execution_count": 42,
     "metadata": {},
     "output_type": "execute_result"
    }
   ],
   "source": [
    "n_loan.columns"
   ]
  },
  {
   "cell_type": "code",
   "execution_count": null,
   "metadata": {},
   "outputs": [],
   "source": []
  },
  {
   "cell_type": "code",
   "execution_count": 43,
   "metadata": {},
   "outputs": [
    {
     "data": {
      "text/html": [
       "<div>\n",
       "<style scoped>\n",
       "    .dataframe tbody tr th:only-of-type {\n",
       "        vertical-align: middle;\n",
       "    }\n",
       "\n",
       "    .dataframe tbody tr th {\n",
       "        vertical-align: top;\n",
       "    }\n",
       "\n",
       "    .dataframe thead th {\n",
       "        text-align: right;\n",
       "    }\n",
       "</style>\n",
       "<table border=\"1\" class=\"dataframe\">\n",
       "  <thead>\n",
       "    <tr style=\"text-align: right;\">\n",
       "      <th></th>\n",
       "      <th>term</th>\n",
       "      <th>int_rate</th>\n",
       "      <th>grade</th>\n",
       "      <th>sub_grade</th>\n",
       "      <th>emp_title</th>\n",
       "      <th>emp_length</th>\n",
       "      <th>home_ownership</th>\n",
       "      <th>verification_status</th>\n",
       "      <th>issue_d</th>\n",
       "      <th>loan_status</th>\n",
       "      <th>purpose</th>\n",
       "      <th>title</th>\n",
       "      <th>addr_state</th>\n",
       "      <th>earliest_cr_line</th>\n",
       "      <th>revol_util</th>\n",
       "      <th>last_pymnt_d</th>\n",
       "      <th>last_credit_pull_d</th>\n",
       "    </tr>\n",
       "  </thead>\n",
       "  <tbody>\n",
       "    <tr>\n",
       "      <th>count</th>\n",
       "      <td>35365</td>\n",
       "      <td>35365</td>\n",
       "      <td>35365</td>\n",
       "      <td>35365</td>\n",
       "      <td>35365</td>\n",
       "      <td>35365</td>\n",
       "      <td>35365</td>\n",
       "      <td>35365</td>\n",
       "      <td>35365</td>\n",
       "      <td>35365</td>\n",
       "      <td>35365</td>\n",
       "      <td>35365</td>\n",
       "      <td>35365</td>\n",
       "      <td>35365</td>\n",
       "      <td>35365</td>\n",
       "      <td>35365</td>\n",
       "      <td>35365</td>\n",
       "    </tr>\n",
       "    <tr>\n",
       "      <th>unique</th>\n",
       "      <td>2</td>\n",
       "      <td>333</td>\n",
       "      <td>7</td>\n",
       "      <td>35</td>\n",
       "      <td>27412</td>\n",
       "      <td>11</td>\n",
       "      <td>4</td>\n",
       "      <td>3</td>\n",
       "      <td>51</td>\n",
       "      <td>2</td>\n",
       "      <td>14</td>\n",
       "      <td>17660</td>\n",
       "      <td>48</td>\n",
       "      <td>509</td>\n",
       "      <td>1081</td>\n",
       "      <td>97</td>\n",
       "      <td>96</td>\n",
       "    </tr>\n",
       "    <tr>\n",
       "      <th>top</th>\n",
       "      <td>36 months</td>\n",
       "      <td>10.99%</td>\n",
       "      <td>B</td>\n",
       "      <td>A4</td>\n",
       "      <td>US Army</td>\n",
       "      <td>10+ years</td>\n",
       "      <td>RENT</td>\n",
       "      <td>Not Verified</td>\n",
       "      <td>Dec-11</td>\n",
       "      <td>Fully Paid</td>\n",
       "      <td>debt_consolidation</td>\n",
       "      <td>Debt Consolidation</td>\n",
       "      <td>CA</td>\n",
       "      <td>Oct-99</td>\n",
       "      <td>0%</td>\n",
       "      <td>Mar-13</td>\n",
       "      <td>May-16</td>\n",
       "    </tr>\n",
       "    <tr>\n",
       "      <th>freq</th>\n",
       "      <td>26375</td>\n",
       "      <td>862</td>\n",
       "      <td>10718</td>\n",
       "      <td>2662</td>\n",
       "      <td>128</td>\n",
       "      <td>8028</td>\n",
       "      <td>17065</td>\n",
       "      <td>14838</td>\n",
       "      <td>1917</td>\n",
       "      <td>30423</td>\n",
       "      <td>16909</td>\n",
       "      <td>1975</td>\n",
       "      <td>6396</td>\n",
       "      <td>342</td>\n",
       "      <td>832</td>\n",
       "      <td>967</td>\n",
       "      <td>8718</td>\n",
       "    </tr>\n",
       "  </tbody>\n",
       "</table>\n",
       "</div>"
      ],
      "text/plain": [
       "              term int_rate  grade sub_grade emp_title emp_length  \\\n",
       "count        35365    35365  35365     35365     35365      35365   \n",
       "unique           2      333      7        35     27412         11   \n",
       "top      36 months   10.99%      B        A4   US Army  10+ years   \n",
       "freq         26375      862  10718      2662       128       8028   \n",
       "\n",
       "       home_ownership verification_status issue_d loan_status  \\\n",
       "count           35365               35365   35365       35365   \n",
       "unique              4                   3      51           2   \n",
       "top              RENT        Not Verified  Dec-11  Fully Paid   \n",
       "freq            17065               14838    1917       30423   \n",
       "\n",
       "                   purpose               title addr_state earliest_cr_line  \\\n",
       "count                35365               35365      35365            35365   \n",
       "unique                  14               17660         48              509   \n",
       "top     debt_consolidation  Debt Consolidation         CA           Oct-99   \n",
       "freq                 16909                1975       6396              342   \n",
       "\n",
       "       revol_util last_pymnt_d last_credit_pull_d  \n",
       "count       35365        35365              35365  \n",
       "unique       1081           97                 96  \n",
       "top            0%       Mar-13             May-16  \n",
       "freq          832          967               8718  "
      ]
     },
     "execution_count": 43,
     "metadata": {},
     "output_type": "execute_result"
    }
   ],
   "source": [
    "c_loan.describe()"
   ]
  },
  {
   "cell_type": "code",
   "execution_count": 44,
   "metadata": {},
   "outputs": [
    {
     "data": {
      "text/plain": [
       "Index(['term', 'int_rate', 'grade', 'sub_grade', 'emp_title', 'emp_length',\n",
       "       'home_ownership', 'verification_status', 'issue_d', 'loan_status',\n",
       "       'purpose', 'title', 'addr_state', 'earliest_cr_line', 'revol_util',\n",
       "       'last_pymnt_d', 'last_credit_pull_d'],\n",
       "      dtype='object')"
      ]
     },
     "execution_count": 44,
     "metadata": {},
     "output_type": "execute_result"
    }
   ],
   "source": [
    "c_loan.columns"
   ]
  },
  {
   "cell_type": "code",
   "execution_count": 45,
   "metadata": {},
   "outputs": [
    {
     "data": {
      "text/plain": [
       "<AxesSubplot:>"
      ]
     },
     "execution_count": 45,
     "metadata": {},
     "output_type": "execute_result"
    },
    {
     "data": {
      "image/png": "[encoded data removed]",
      "text/plain": [
       "<Figure size 1440x1440 with 2 Axes>"
      ]
     },
     "metadata": {
      "needs_background": "light"
     },
     "output_type": "display_data"
    }
   ],
   "source": [
    "plt.figure(figsize=(20, 20))\n",
    "sns.heatmap(correlation,\n",
    "            xticklabels=correlation.columns,\n",
    "            yticklabels=correlation.index,\n",
    "            annot=True,\n",
    "            cmap=\"YlGnBu\")"
   ]
  },
  {
   "cell_type": "code",
   "execution_count": null,
   "metadata": {},
   "outputs": [],
   "source": []
  },
  {
   "cell_type": "markdown",
   "metadata": {},
   "source": [
    "From above we see that there is strong corelation between.\n",
    "* loan_amnt\n",
    "* funded_amnt\n",
    "* funded_amnt_inv\n",
    "* installment\n",
    "* total_pymnt\n",
    "* total_pymnt_inv\n",
    "* total_rec_prncp\n",
    "* total_rec_int"
   ]
  },
  {
   "cell_type": "markdown",
   "metadata": {},
   "source": [
    "Categorical Value Analysis"
   ]
  },
  {
   "cell_type": "code",
   "execution_count": 46,
   "metadata": {},
   "outputs": [
    {
     "data": {
      "text/plain": [
       "<AxesSubplot:xlabel='grade'>"
      ]
     },
     "execution_count": 46,
     "metadata": {},
     "output_type": "execute_result"
    },
    {
     "data": {
      "image/png": "[encoded data removed]",
      "text/plain": [
       "<Figure size 432x288 with 1 Axes>"
      ]
     },
     "metadata": {
      "needs_background": "light"
     },
     "output_type": "display_data"
    }
   ],
   "source": [
    "# NUmber of \"Charged Off\" laon\n",
    "c_loan[c_loan.loan_status==\"Charged Off\"].groupby('grade').loan_status.count().plot.bar()"
   ]
  },
  {
   "cell_type": "code",
   "execution_count": 47,
   "metadata": {},
   "outputs": [],
   "source": [
    "#% Ratio of \"Charged off\" loan to number of loans approved in the group.\n",
    "chargeOff_ratio = (100*(c_loan[c_loan.loan_status==\"Charged Off\"].groupby('grade').loan_status.count())/(c_loan.groupby('grade').loan_status.count()))"
   ]
  },
  {
   "cell_type": "code",
   "execution_count": 48,
   "metadata": {},
   "outputs": [],
   "source": [
    "chargeOff_ratio = (100*(c_loan[c_loan.loan_status==\"Charged Off\"].groupby('grade').loan_status.count())/(c_loan.groupby('grade').loan_status.count()))"
   ]
  },
  {
   "cell_type": "code",
   "execution_count": 49,
   "metadata": {},
   "outputs": [],
   "source": [
    "#sns.set_context('poster')"
   ]
  },
  {
   "cell_type": "code",
   "execution_count": 50,
   "metadata": {},
   "outputs": [
    {
     "data": {
      "text/plain": [
       "grade\n",
       "A     5.612691\n",
       "B    11.690614\n",
       "C    16.281337\n",
       "D    21.021021\n",
       "E    26.118501\n",
       "F    31.707317\n",
       "G    32.978723\n",
       "Name: loan_status, dtype: float64"
      ]
     },
     "execution_count": 50,
     "metadata": {},
     "output_type": "execute_result"
    }
   ],
   "source": [
    "chargeOff_ratio"
   ]
  },
  {
   "cell_type": "code",
   "execution_count": null,
   "metadata": {},
   "outputs": [],
   "source": []
  },
  {
   "cell_type": "code",
   "execution_count": 51,
   "metadata": {},
   "outputs": [
    {
     "data": {
      "text/plain": [
       "<AxesSubplot:xlabel='grade'>"
      ]
     },
     "execution_count": 51,
     "metadata": {},
     "output_type": "execute_result"
    },
    {
     "data": {
      "image/png": "[encoded data removed]",
      "text/plain": [
       "<Figure size 432x288 with 1 Axes>"
      ]
     },
     "metadata": {
      "needs_background": "light"
     },
     "output_type": "display_data"
    }
   ],
   "source": [
    "sns.barplot(x=chargeOff_ratio.index,y=chargeOff_ratio.values, palette=\"Blues_d\")"
   ]
  },
  {
   "cell_type": "code",
   "execution_count": null,
   "metadata": {},
   "outputs": [],
   "source": []
  },
  {
   "cell_type": "code",
   "execution_count": 52,
   "metadata": {},
   "outputs": [
    {
     "data": {
      "text/plain": [
       "<AxesSubplot:xlabel='grade', ylabel='loan_status'>"
      ]
     },
     "execution_count": 52,
     "metadata": {},
     "output_type": "execute_result"
    },
    {
     "data": {
      "image/png": "[encoded data removed]",
      "text/plain": [
       "<Figure size 432x288 with 1 Axes>"
      ]
     },
     "metadata": {
      "needs_background": "light"
     },
     "output_type": "display_data"
    }
   ],
   "source": [
    "# Group-wise total approved loans.\n",
    "sns.barplot(x=chargeOff_ratio.index ,y=c_loan.groupby('grade').loan_status.count(),palette=\"Blues_d\")"
   ]
  },
  {
   "cell_type": "markdown",
   "metadata": {},
   "source": [
    "We make an obervation that,\n",
    "1. Number of **\"Charged off\"** loans are highest in Grade B, but number of loan is also highest in Grade B.<br>\n",
    "2. The ratio of Charged off loans to total loans in a group is **Highest** for group G.\n",
    "\n",
    "This makes group riskier of all the groups.\n",
    "\n",
    "* Grades **D,E,F,G** are have cahrged off loans > 20%."
   ]
  },
  {
   "cell_type": "code",
   "execution_count": 53,
   "metadata": {},
   "outputs": [],
   "source": [
    "c_loan['emp_years'] = c_loan.emp_length.apply(lambda x: x.split(\" \")[0])"
   ]
  },
  {
   "cell_type": "code",
   "execution_count": null,
   "metadata": {},
   "outputs": [],
   "source": []
  },
  {
   "cell_type": "code",
   "execution_count": 54,
   "metadata": {},
   "outputs": [
    {
     "data": {
      "text/plain": [
       "array(['<', '10+', '3', ..., '2', '1', '8'], dtype=object)"
      ]
     },
     "execution_count": 54,
     "metadata": {},
     "output_type": "execute_result"
    }
   ],
   "source": [
    "c_loan.emp_years.values"
   ]
  },
  {
   "cell_type": "code",
   "execution_count": 55,
   "metadata": {},
   "outputs": [
    {
     "data": {
      "text/plain": [
       "10+    8028\n",
       "2      4081\n",
       "<      3978\n",
       "3      3833\n",
       "4      3206\n",
       "5      3043\n",
       "1      2959\n",
       "6      2062\n",
       "7      1638\n",
       "8      1361\n",
       "9      1176\n",
       "Name: emp_years, dtype: int64"
      ]
     },
     "execution_count": 55,
     "metadata": {},
     "output_type": "execute_result"
    }
   ],
   "source": [
    "c_loan.emp_years.value_counts()"
   ]
  },
  {
   "cell_type": "code",
   "execution_count": 56,
   "metadata": {},
   "outputs": [
    {
     "data": {
      "text/plain": [
       "<AxesSubplot:>"
      ]
     },
     "execution_count": 56,
     "metadata": {},
     "output_type": "execute_result"
    },
    {
     "data": {
      "image/png": "[encoded data removed]",
      "text/plain": [
       "<Figure size 432x288 with 1 Axes>"
      ]
     },
     "metadata": {
      "needs_background": "light"
     },
     "output_type": "display_data"
    }
   ],
   "source": [
    "c_loan.emp_length.value_counts().plot.bar()"
   ]
  },
  {
   "cell_type": "markdown",
   "metadata": {},
   "source": [
    "POST SESSION"
   ]
  },
  {
   "cell_type": "code",
   "execution_count": 57,
   "metadata": {},
   "outputs": [
    {
     "data": {
      "text/html": [
       "<div>\n",
       "<style scoped>\n",
       "    .dataframe tbody tr th:only-of-type {\n",
       "        vertical-align: middle;\n",
       "    }\n",
       "\n",
       "    .dataframe tbody tr th {\n",
       "        vertical-align: top;\n",
       "    }\n",
       "\n",
       "    .dataframe thead th {\n",
       "        text-align: right;\n",
       "    }\n",
       "</style>\n",
       "<table border=\"1\" class=\"dataframe\">\n",
       "  <thead>\n",
       "    <tr style=\"text-align: right;\">\n",
       "      <th></th>\n",
       "      <th>id</th>\n",
       "      <th>member_id</th>\n",
       "      <th>loan_amnt</th>\n",
       "      <th>funded_amnt</th>\n",
       "      <th>funded_amnt_inv</th>\n",
       "      <th>term</th>\n",
       "      <th>int_rate</th>\n",
       "      <th>installment</th>\n",
       "      <th>grade</th>\n",
       "      <th>sub_grade</th>\n",
       "      <th>emp_title</th>\n",
       "      <th>emp_length</th>\n",
       "      <th>home_ownership</th>\n",
       "      <th>annual_inc</th>\n",
       "      <th>verification_status</th>\n",
       "      <th>issue_d</th>\n",
       "      <th>loan_status</th>\n",
       "      <th>purpose</th>\n",
       "      <th>title</th>\n",
       "      <th>addr_state</th>\n",
       "      <th>dti</th>\n",
       "      <th>delinq_2yrs</th>\n",
       "      <th>earliest_cr_line</th>\n",
       "      <th>inq_last_6mths</th>\n",
       "      <th>open_acc</th>\n",
       "      <th>pub_rec</th>\n",
       "      <th>revol_bal</th>\n",
       "      <th>revol_util</th>\n",
       "      <th>total_acc</th>\n",
       "      <th>total_pymnt</th>\n",
       "      <th>total_pymnt_inv</th>\n",
       "      <th>total_rec_prncp</th>\n",
       "      <th>total_rec_int</th>\n",
       "      <th>total_rec_late_fee</th>\n",
       "      <th>recoveries</th>\n",
       "      <th>collection_recovery_fee</th>\n",
       "      <th>last_pymnt_d</th>\n",
       "      <th>last_pymnt_amnt</th>\n",
       "      <th>last_credit_pull_d</th>\n",
       "      <th>pub_rec_bankruptcies</th>\n",
       "    </tr>\n",
       "  </thead>\n",
       "  <tbody>\n",
       "    <tr>\n",
       "      <th>1</th>\n",
       "      <td>1077430</td>\n",
       "      <td>1314167</td>\n",
       "      <td>2500</td>\n",
       "      <td>2500</td>\n",
       "      <td>2500.0</td>\n",
       "      <td>60 months</td>\n",
       "      <td>15.27%</td>\n",
       "      <td>59.83</td>\n",
       "      <td>C</td>\n",
       "      <td>C4</td>\n",
       "      <td>Ryder</td>\n",
       "      <td>&lt; 1 year</td>\n",
       "      <td>RENT</td>\n",
       "      <td>30000.0</td>\n",
       "      <td>Source Verified</td>\n",
       "      <td>Dec-11</td>\n",
       "      <td>Charged Off</td>\n",
       "      <td>car</td>\n",
       "      <td>bike</td>\n",
       "      <td>GA</td>\n",
       "      <td>1.00</td>\n",
       "      <td>0</td>\n",
       "      <td>Apr-99</td>\n",
       "      <td>5</td>\n",
       "      <td>3</td>\n",
       "      <td>0</td>\n",
       "      <td>1687</td>\n",
       "      <td>9.40%</td>\n",
       "      <td>4</td>\n",
       "      <td>1008.710000</td>\n",
       "      <td>1008.71</td>\n",
       "      <td>456.46</td>\n",
       "      <td>435.17</td>\n",
       "      <td>0.00</td>\n",
       "      <td>117.08</td>\n",
       "      <td>1.11</td>\n",
       "      <td>Apr-13</td>\n",
       "      <td>119.66</td>\n",
       "      <td>Sep-13</td>\n",
       "      <td>0.0</td>\n",
       "    </tr>\n",
       "    <tr>\n",
       "      <th>3</th>\n",
       "      <td>1076863</td>\n",
       "      <td>1277178</td>\n",
       "      <td>10000</td>\n",
       "      <td>10000</td>\n",
       "      <td>10000.0</td>\n",
       "      <td>36 months</td>\n",
       "      <td>13.49%</td>\n",
       "      <td>339.31</td>\n",
       "      <td>C</td>\n",
       "      <td>C1</td>\n",
       "      <td>AIR RESOURCES BOARD</td>\n",
       "      <td>10+ years</td>\n",
       "      <td>RENT</td>\n",
       "      <td>49200.0</td>\n",
       "      <td>Source Verified</td>\n",
       "      <td>Dec-11</td>\n",
       "      <td>Fully Paid</td>\n",
       "      <td>other</td>\n",
       "      <td>personel</td>\n",
       "      <td>CA</td>\n",
       "      <td>20.00</td>\n",
       "      <td>0</td>\n",
       "      <td>Feb-96</td>\n",
       "      <td>1</td>\n",
       "      <td>10</td>\n",
       "      <td>0</td>\n",
       "      <td>5598</td>\n",
       "      <td>21%</td>\n",
       "      <td>37</td>\n",
       "      <td>12231.890000</td>\n",
       "      <td>12231.89</td>\n",
       "      <td>10000.00</td>\n",
       "      <td>2214.92</td>\n",
       "      <td>16.97</td>\n",
       "      <td>0.00</td>\n",
       "      <td>0.00</td>\n",
       "      <td>Jan-15</td>\n",
       "      <td>357.48</td>\n",
       "      <td>Apr-16</td>\n",
       "      <td>0.0</td>\n",
       "    </tr>\n",
       "    <tr>\n",
       "      <th>5</th>\n",
       "      <td>1075269</td>\n",
       "      <td>1311441</td>\n",
       "      <td>5000</td>\n",
       "      <td>5000</td>\n",
       "      <td>5000.0</td>\n",
       "      <td>36 months</td>\n",
       "      <td>7.90%</td>\n",
       "      <td>156.46</td>\n",
       "      <td>A</td>\n",
       "      <td>A4</td>\n",
       "      <td>Veolia Transportaton</td>\n",
       "      <td>3 years</td>\n",
       "      <td>RENT</td>\n",
       "      <td>36000.0</td>\n",
       "      <td>Source Verified</td>\n",
       "      <td>Dec-11</td>\n",
       "      <td>Fully Paid</td>\n",
       "      <td>wedding</td>\n",
       "      <td>My wedding loan I promise to pay back</td>\n",
       "      <td>AZ</td>\n",
       "      <td>11.20</td>\n",
       "      <td>0</td>\n",
       "      <td>Nov-04</td>\n",
       "      <td>3</td>\n",
       "      <td>9</td>\n",
       "      <td>0</td>\n",
       "      <td>7963</td>\n",
       "      <td>28.30%</td>\n",
       "      <td>12</td>\n",
       "      <td>5632.210000</td>\n",
       "      <td>5632.21</td>\n",
       "      <td>5000.00</td>\n",
       "      <td>632.21</td>\n",
       "      <td>0.00</td>\n",
       "      <td>0.00</td>\n",
       "      <td>0.00</td>\n",
       "      <td>Jan-15</td>\n",
       "      <td>161.03</td>\n",
       "      <td>Jan-16</td>\n",
       "      <td>0.0</td>\n",
       "    </tr>\n",
       "    <tr>\n",
       "      <th>6</th>\n",
       "      <td>1069639</td>\n",
       "      <td>1304742</td>\n",
       "      <td>7000</td>\n",
       "      <td>7000</td>\n",
       "      <td>7000.0</td>\n",
       "      <td>60 months</td>\n",
       "      <td>15.96%</td>\n",
       "      <td>170.08</td>\n",
       "      <td>C</td>\n",
       "      <td>C5</td>\n",
       "      <td>Southern Star Photography</td>\n",
       "      <td>8 years</td>\n",
       "      <td>RENT</td>\n",
       "      <td>47004.0</td>\n",
       "      <td>Not Verified</td>\n",
       "      <td>Dec-11</td>\n",
       "      <td>Fully Paid</td>\n",
       "      <td>debt_consolidation</td>\n",
       "      <td>Loan</td>\n",
       "      <td>NC</td>\n",
       "      <td>23.51</td>\n",
       "      <td>0</td>\n",
       "      <td>Jul-05</td>\n",
       "      <td>1</td>\n",
       "      <td>7</td>\n",
       "      <td>0</td>\n",
       "      <td>17726</td>\n",
       "      <td>85.60%</td>\n",
       "      <td>11</td>\n",
       "      <td>10110.840000</td>\n",
       "      <td>10110.84</td>\n",
       "      <td>6985.61</td>\n",
       "      <td>3125.23</td>\n",
       "      <td>0.00</td>\n",
       "      <td>0.00</td>\n",
       "      <td>0.00</td>\n",
       "      <td>May-16</td>\n",
       "      <td>1313.76</td>\n",
       "      <td>May-16</td>\n",
       "      <td>0.0</td>\n",
       "    </tr>\n",
       "    <tr>\n",
       "      <th>7</th>\n",
       "      <td>1072053</td>\n",
       "      <td>1288686</td>\n",
       "      <td>3000</td>\n",
       "      <td>3000</td>\n",
       "      <td>3000.0</td>\n",
       "      <td>36 months</td>\n",
       "      <td>18.64%</td>\n",
       "      <td>109.43</td>\n",
       "      <td>E</td>\n",
       "      <td>E1</td>\n",
       "      <td>MKC Accounting</td>\n",
       "      <td>9 years</td>\n",
       "      <td>RENT</td>\n",
       "      <td>48000.0</td>\n",
       "      <td>Source Verified</td>\n",
       "      <td>Dec-11</td>\n",
       "      <td>Fully Paid</td>\n",
       "      <td>car</td>\n",
       "      <td>Car Downpayment</td>\n",
       "      <td>CA</td>\n",
       "      <td>5.35</td>\n",
       "      <td>0</td>\n",
       "      <td>Jan-07</td>\n",
       "      <td>2</td>\n",
       "      <td>4</td>\n",
       "      <td>0</td>\n",
       "      <td>8221</td>\n",
       "      <td>87.50%</td>\n",
       "      <td>4</td>\n",
       "      <td>3939.135294</td>\n",
       "      <td>3939.14</td>\n",
       "      <td>3000.00</td>\n",
       "      <td>939.14</td>\n",
       "      <td>0.00</td>\n",
       "      <td>0.00</td>\n",
       "      <td>0.00</td>\n",
       "      <td>Jan-15</td>\n",
       "      <td>111.34</td>\n",
       "      <td>Dec-14</td>\n",
       "      <td>0.0</td>\n",
       "    </tr>\n",
       "  </tbody>\n",
       "</table>\n",
       "</div>"
      ],
      "text/plain": [
       "        id  member_id  loan_amnt  funded_amnt  funded_amnt_inv        term  \\\n",
       "1  1077430    1314167       2500         2500           2500.0   60 months   \n",
       "3  1076863    1277178      10000        10000          10000.0   36 months   \n",
       "5  1075269    1311441       5000         5000           5000.0   36 months   \n",
       "6  1069639    1304742       7000         7000           7000.0   60 months   \n",
       "7  1072053    1288686       3000         3000           3000.0   36 months   \n",
       "\n",
       "  int_rate  installment grade sub_grade                  emp_title emp_length  \\\n",
       "1   15.27%        59.83     C        C4                      Ryder   < 1 year   \n",
       "3   13.49%       339.31     C        C1        AIR RESOURCES BOARD  10+ years   \n",
       "5    7.90%       156.46     A        A4       Veolia Transportaton    3 years   \n",
       "6   15.96%       170.08     C        C5  Southern Star Photography    8 years   \n",
       "7   18.64%       109.43     E        E1            MKC Accounting     9 years   \n",
       "\n",
       "  home_ownership  annual_inc verification_status issue_d  loan_status  \\\n",
       "1           RENT     30000.0     Source Verified  Dec-11  Charged Off   \n",
       "3           RENT     49200.0     Source Verified  Dec-11   Fully Paid   \n",
       "5           RENT     36000.0     Source Verified  Dec-11   Fully Paid   \n",
       "6           RENT     47004.0        Not Verified  Dec-11   Fully Paid   \n",
       "7           RENT     48000.0     Source Verified  Dec-11   Fully Paid   \n",
       "\n",
       "              purpose                                  title addr_state  \\\n",
       "1                 car                                   bike         GA   \n",
       "3               other                               personel         CA   \n",
       "5             wedding  My wedding loan I promise to pay back         AZ   \n",
       "6  debt_consolidation                                   Loan         NC   \n",
       "7                 car                        Car Downpayment         CA   \n",
       "\n",
       "     dti  delinq_2yrs earliest_cr_line  inq_last_6mths  open_acc  pub_rec  \\\n",
       "1   1.00            0           Apr-99               5         3        0   \n",
       "3  20.00            0           Feb-96               1        10        0   \n",
       "5  11.20            0           Nov-04               3         9        0   \n",
       "6  23.51            0           Jul-05               1         7        0   \n",
       "7   5.35            0           Jan-07               2         4        0   \n",
       "\n",
       "   revol_bal revol_util  total_acc   total_pymnt  total_pymnt_inv  \\\n",
       "1       1687      9.40%          4   1008.710000          1008.71   \n",
       "3       5598        21%         37  12231.890000         12231.89   \n",
       "5       7963     28.30%         12   5632.210000          5632.21   \n",
       "6      17726     85.60%         11  10110.840000         10110.84   \n",
       "7       8221     87.50%          4   3939.135294          3939.14   \n",
       "\n",
       "   total_rec_prncp  total_rec_int  total_rec_late_fee  recoveries  \\\n",
       "1           456.46         435.17                0.00      117.08   \n",
       "3         10000.00        2214.92               16.97        0.00   \n",
       "5          5000.00         632.21                0.00        0.00   \n",
       "6          6985.61        3125.23                0.00        0.00   \n",
       "7          3000.00         939.14                0.00        0.00   \n",
       "\n",
       "   collection_recovery_fee last_pymnt_d  last_pymnt_amnt last_credit_pull_d  \\\n",
       "1                     1.11       Apr-13           119.66             Sep-13   \n",
       "3                     0.00       Jan-15           357.48             Apr-16   \n",
       "5                     0.00       Jan-15           161.03             Jan-16   \n",
       "6                     0.00       May-16          1313.76             May-16   \n",
       "7                     0.00       Jan-15           111.34             Dec-14   \n",
       "\n",
       "   pub_rec_bankruptcies  \n",
       "1                   0.0  \n",
       "3                   0.0  \n",
       "5                   0.0  \n",
       "6                   0.0  \n",
       "7                   0.0  "
      ]
     },
     "execution_count": 57,
     "metadata": {},
     "output_type": "execute_result"
    }
   ],
   "source": [
    "loan.head()"
   ]
  },
  {
   "cell_type": "markdown",
   "metadata": {},
   "source": [
    "Changing Target Variable loan_status to numeric categorical variale."
   ]
  },
  {
   "cell_type": "code",
   "execution_count": 58,
   "metadata": {},
   "outputs": [],
   "source": [
    "loan.loan_status = loan.loan_status.apply(lambda x : 1 if x==\"Charged Off\" else 0)"
   ]
  },
  {
   "cell_type": "markdown",
   "metadata": {},
   "source": [
    "Debt Ratio of complete dataset"
   ]
  },
  {
   "cell_type": "code",
   "execution_count": null,
   "metadata": {},
   "outputs": [],
   "source": []
  },
  {
   "cell_type": "code",
   "execution_count": 59,
   "metadata": {},
   "outputs": [
    {
     "data": {
      "text/plain": [
       "13.97"
      ]
     },
     "execution_count": 59,
     "metadata": {},
     "output_type": "execute_result"
    }
   ],
   "source": [
    "#Debt ratio on all data\n",
    "net_debt_ratio = round(100*loan.loan_status.sum()/len(loan.loan_status),2)\n",
    "net_debt_ratio"
   ]
  },
  {
   "cell_type": "markdown",
   "metadata": {},
   "source": [
    "From the data we see that about ~14% of the loans is being charged off from the total loans disbursed."
   ]
  },
  {
   "cell_type": "code",
   "execution_count": 60,
   "metadata": {},
   "outputs": [
    {
     "data": {
      "text/html": [
       "<div>\n",
       "<style scoped>\n",
       "    .dataframe tbody tr th:only-of-type {\n",
       "        vertical-align: middle;\n",
       "    }\n",
       "\n",
       "    .dataframe tbody tr th {\n",
       "        vertical-align: top;\n",
       "    }\n",
       "\n",
       "    .dataframe thead th {\n",
       "        text-align: right;\n",
       "    }\n",
       "</style>\n",
       "<table border=\"1\" class=\"dataframe\">\n",
       "  <thead>\n",
       "    <tr style=\"text-align: right;\">\n",
       "      <th></th>\n",
       "      <th>term</th>\n",
       "      <th>int_rate</th>\n",
       "      <th>grade</th>\n",
       "      <th>sub_grade</th>\n",
       "      <th>emp_title</th>\n",
       "      <th>emp_length</th>\n",
       "      <th>home_ownership</th>\n",
       "      <th>verification_status</th>\n",
       "      <th>issue_d</th>\n",
       "      <th>purpose</th>\n",
       "      <th>title</th>\n",
       "      <th>addr_state</th>\n",
       "      <th>earliest_cr_line</th>\n",
       "      <th>revol_util</th>\n",
       "      <th>last_pymnt_d</th>\n",
       "      <th>last_credit_pull_d</th>\n",
       "    </tr>\n",
       "  </thead>\n",
       "  <tbody>\n",
       "    <tr>\n",
       "      <th>count</th>\n",
       "      <td>35365</td>\n",
       "      <td>35365</td>\n",
       "      <td>35365</td>\n",
       "      <td>35365</td>\n",
       "      <td>35365</td>\n",
       "      <td>35365</td>\n",
       "      <td>35365</td>\n",
       "      <td>35365</td>\n",
       "      <td>35365</td>\n",
       "      <td>35365</td>\n",
       "      <td>35365</td>\n",
       "      <td>35365</td>\n",
       "      <td>35365</td>\n",
       "      <td>35365</td>\n",
       "      <td>35365</td>\n",
       "      <td>35365</td>\n",
       "    </tr>\n",
       "    <tr>\n",
       "      <th>unique</th>\n",
       "      <td>2</td>\n",
       "      <td>333</td>\n",
       "      <td>7</td>\n",
       "      <td>35</td>\n",
       "      <td>27412</td>\n",
       "      <td>11</td>\n",
       "      <td>4</td>\n",
       "      <td>3</td>\n",
       "      <td>51</td>\n",
       "      <td>14</td>\n",
       "      <td>17660</td>\n",
       "      <td>48</td>\n",
       "      <td>509</td>\n",
       "      <td>1081</td>\n",
       "      <td>97</td>\n",
       "      <td>96</td>\n",
       "    </tr>\n",
       "    <tr>\n",
       "      <th>top</th>\n",
       "      <td>36 months</td>\n",
       "      <td>10.99%</td>\n",
       "      <td>B</td>\n",
       "      <td>A4</td>\n",
       "      <td>US Army</td>\n",
       "      <td>10+ years</td>\n",
       "      <td>RENT</td>\n",
       "      <td>Not Verified</td>\n",
       "      <td>Dec-11</td>\n",
       "      <td>debt_consolidation</td>\n",
       "      <td>Debt Consolidation</td>\n",
       "      <td>CA</td>\n",
       "      <td>Oct-99</td>\n",
       "      <td>0%</td>\n",
       "      <td>Mar-13</td>\n",
       "      <td>May-16</td>\n",
       "    </tr>\n",
       "    <tr>\n",
       "      <th>freq</th>\n",
       "      <td>26375</td>\n",
       "      <td>862</td>\n",
       "      <td>10718</td>\n",
       "      <td>2662</td>\n",
       "      <td>128</td>\n",
       "      <td>8028</td>\n",
       "      <td>17065</td>\n",
       "      <td>14838</td>\n",
       "      <td>1917</td>\n",
       "      <td>16909</td>\n",
       "      <td>1975</td>\n",
       "      <td>6396</td>\n",
       "      <td>342</td>\n",
       "      <td>832</td>\n",
       "      <td>967</td>\n",
       "      <td>8718</td>\n",
       "    </tr>\n",
       "  </tbody>\n",
       "</table>\n",
       "</div>"
      ],
      "text/plain": [
       "              term int_rate  grade sub_grade emp_title emp_length  \\\n",
       "count        35365    35365  35365     35365     35365      35365   \n",
       "unique           2      333      7        35     27412         11   \n",
       "top      36 months   10.99%      B        A4   US Army  10+ years   \n",
       "freq         26375      862  10718      2662       128       8028   \n",
       "\n",
       "       home_ownership verification_status issue_d             purpose  \\\n",
       "count           35365               35365   35365               35365   \n",
       "unique              4                   3      51                  14   \n",
       "top              RENT        Not Verified  Dec-11  debt_consolidation   \n",
       "freq            17065               14838    1917               16909   \n",
       "\n",
       "                     title addr_state earliest_cr_line revol_util  \\\n",
       "count                35365      35365            35365      35365   \n",
       "unique               17660         48              509       1081   \n",
       "top     Debt Consolidation         CA           Oct-99         0%   \n",
       "freq                  1975       6396              342        832   \n",
       "\n",
       "       last_pymnt_d last_credit_pull_d  \n",
       "count         35365              35365  \n",
       "unique           97                 96  \n",
       "top          Mar-13             May-16  \n",
       "freq            967               8718  "
      ]
     },
     "execution_count": 60,
     "metadata": {},
     "output_type": "execute_result"
    }
   ],
   "source": [
    "loan.describe(include=np.object)"
   ]
  },
  {
   "cell_type": "markdown",
   "metadata": {},
   "source": [
    "As the corelation is high between:\n",
    "* loan_amnt\n",
    "* funded_amnt\n",
    "* funded_amnt_inv\n",
    "* installment\n",
    "Using loan_amnt as representative of these parameters : **funded_amnt**, **funded_amnt_inv**, **installment**.\n",
    "\n",
    "Following are Customer behaviour parameteres.\n",
    "* total_pymnt\n",
    "* total_pymnt_inv\n",
    "* total_rec_prncp\n",
    "* total_rec_int\n",
    "* issue_d\n",
    "* title\n",
    "* earliest_cr_line\t\n",
    "* revol_util\t\n",
    "* last_pymnt_d\t\n",
    "* last_credit_pull_d\n",
    "also, drop following, as they are applicant behaviour attributes\n",
    "* pub_rec_bankruptcies\n",
    "* last_pymnt_amnt\n",
    "* collection_recovery_fee\n",
    "* recoveries\n",
    "* total_rec_late_fee\n",
    "* revol_bal\n",
    "* pub_rec\n",
    "* delinq_2yrs\n",
    "* inq_last_6mths\n",
    "* open_acc\n",
    "\n",
    "\n",
    "Dropping them.\n"
   ]
  },
  {
   "cell_type": "code",
   "execution_count": 61,
   "metadata": {},
   "outputs": [
    {
     "data": {
      "text/html": [
       "<div>\n",
       "<style scoped>\n",
       "    .dataframe tbody tr th:only-of-type {\n",
       "        vertical-align: middle;\n",
       "    }\n",
       "\n",
       "    .dataframe tbody tr th {\n",
       "        vertical-align: top;\n",
       "    }\n",
       "\n",
       "    .dataframe thead th {\n",
       "        text-align: right;\n",
       "    }\n",
       "</style>\n",
       "<table border=\"1\" class=\"dataframe\">\n",
       "  <thead>\n",
       "    <tr style=\"text-align: right;\">\n",
       "      <th></th>\n",
       "      <th>id</th>\n",
       "      <th>member_id</th>\n",
       "      <th>loan_amnt</th>\n",
       "      <th>funded_amnt</th>\n",
       "      <th>funded_amnt_inv</th>\n",
       "      <th>term</th>\n",
       "      <th>int_rate</th>\n",
       "      <th>installment</th>\n",
       "      <th>grade</th>\n",
       "      <th>sub_grade</th>\n",
       "      <th>emp_title</th>\n",
       "      <th>emp_length</th>\n",
       "      <th>home_ownership</th>\n",
       "      <th>annual_inc</th>\n",
       "      <th>verification_status</th>\n",
       "      <th>issue_d</th>\n",
       "      <th>loan_status</th>\n",
       "      <th>purpose</th>\n",
       "      <th>title</th>\n",
       "      <th>addr_state</th>\n",
       "      <th>dti</th>\n",
       "      <th>delinq_2yrs</th>\n",
       "      <th>earliest_cr_line</th>\n",
       "      <th>inq_last_6mths</th>\n",
       "      <th>open_acc</th>\n",
       "      <th>pub_rec</th>\n",
       "      <th>revol_bal</th>\n",
       "      <th>revol_util</th>\n",
       "      <th>total_acc</th>\n",
       "      <th>total_pymnt</th>\n",
       "      <th>total_pymnt_inv</th>\n",
       "      <th>total_rec_prncp</th>\n",
       "      <th>total_rec_int</th>\n",
       "      <th>total_rec_late_fee</th>\n",
       "      <th>recoveries</th>\n",
       "      <th>collection_recovery_fee</th>\n",
       "      <th>last_pymnt_d</th>\n",
       "      <th>last_pymnt_amnt</th>\n",
       "      <th>last_credit_pull_d</th>\n",
       "      <th>pub_rec_bankruptcies</th>\n",
       "    </tr>\n",
       "  </thead>\n",
       "  <tbody>\n",
       "    <tr>\n",
       "      <th>1</th>\n",
       "      <td>1077430</td>\n",
       "      <td>1314167</td>\n",
       "      <td>2500</td>\n",
       "      <td>2500</td>\n",
       "      <td>2500.0</td>\n",
       "      <td>60 months</td>\n",
       "      <td>15.27%</td>\n",
       "      <td>59.83</td>\n",
       "      <td>C</td>\n",
       "      <td>C4</td>\n",
       "      <td>Ryder</td>\n",
       "      <td>&lt; 1 year</td>\n",
       "      <td>RENT</td>\n",
       "      <td>30000.0</td>\n",
       "      <td>Source Verified</td>\n",
       "      <td>Dec-11</td>\n",
       "      <td>1</td>\n",
       "      <td>car</td>\n",
       "      <td>bike</td>\n",
       "      <td>GA</td>\n",
       "      <td>1.00</td>\n",
       "      <td>0</td>\n",
       "      <td>Apr-99</td>\n",
       "      <td>5</td>\n",
       "      <td>3</td>\n",
       "      <td>0</td>\n",
       "      <td>1687</td>\n",
       "      <td>9.40%</td>\n",
       "      <td>4</td>\n",
       "      <td>1008.710000</td>\n",
       "      <td>1008.71</td>\n",
       "      <td>456.46</td>\n",
       "      <td>435.17</td>\n",
       "      <td>0.00</td>\n",
       "      <td>117.08</td>\n",
       "      <td>1.11</td>\n",
       "      <td>Apr-13</td>\n",
       "      <td>119.66</td>\n",
       "      <td>Sep-13</td>\n",
       "      <td>0.0</td>\n",
       "    </tr>\n",
       "    <tr>\n",
       "      <th>3</th>\n",
       "      <td>1076863</td>\n",
       "      <td>1277178</td>\n",
       "      <td>10000</td>\n",
       "      <td>10000</td>\n",
       "      <td>10000.0</td>\n",
       "      <td>36 months</td>\n",
       "      <td>13.49%</td>\n",
       "      <td>339.31</td>\n",
       "      <td>C</td>\n",
       "      <td>C1</td>\n",
       "      <td>AIR RESOURCES BOARD</td>\n",
       "      <td>10+ years</td>\n",
       "      <td>RENT</td>\n",
       "      <td>49200.0</td>\n",
       "      <td>Source Verified</td>\n",
       "      <td>Dec-11</td>\n",
       "      <td>0</td>\n",
       "      <td>other</td>\n",
       "      <td>personel</td>\n",
       "      <td>CA</td>\n",
       "      <td>20.00</td>\n",
       "      <td>0</td>\n",
       "      <td>Feb-96</td>\n",
       "      <td>1</td>\n",
       "      <td>10</td>\n",
       "      <td>0</td>\n",
       "      <td>5598</td>\n",
       "      <td>21%</td>\n",
       "      <td>37</td>\n",
       "      <td>12231.890000</td>\n",
       "      <td>12231.89</td>\n",
       "      <td>10000.00</td>\n",
       "      <td>2214.92</td>\n",
       "      <td>16.97</td>\n",
       "      <td>0.00</td>\n",
       "      <td>0.00</td>\n",
       "      <td>Jan-15</td>\n",
       "      <td>357.48</td>\n",
       "      <td>Apr-16</td>\n",
       "      <td>0.0</td>\n",
       "    </tr>\n",
       "    <tr>\n",
       "      <th>5</th>\n",
       "      <td>1075269</td>\n",
       "      <td>1311441</td>\n",
       "      <td>5000</td>\n",
       "      <td>5000</td>\n",
       "      <td>5000.0</td>\n",
       "      <td>36 months</td>\n",
       "      <td>7.90%</td>\n",
       "      <td>156.46</td>\n",
       "      <td>A</td>\n",
       "      <td>A4</td>\n",
       "      <td>Veolia Transportaton</td>\n",
       "      <td>3 years</td>\n",
       "      <td>RENT</td>\n",
       "      <td>36000.0</td>\n",
       "      <td>Source Verified</td>\n",
       "      <td>Dec-11</td>\n",
       "      <td>0</td>\n",
       "      <td>wedding</td>\n",
       "      <td>My wedding loan I promise to pay back</td>\n",
       "      <td>AZ</td>\n",
       "      <td>11.20</td>\n",
       "      <td>0</td>\n",
       "      <td>Nov-04</td>\n",
       "      <td>3</td>\n",
       "      <td>9</td>\n",
       "      <td>0</td>\n",
       "      <td>7963</td>\n",
       "      <td>28.30%</td>\n",
       "      <td>12</td>\n",
       "      <td>5632.210000</td>\n",
       "      <td>5632.21</td>\n",
       "      <td>5000.00</td>\n",
       "      <td>632.21</td>\n",
       "      <td>0.00</td>\n",
       "      <td>0.00</td>\n",
       "      <td>0.00</td>\n",
       "      <td>Jan-15</td>\n",
       "      <td>161.03</td>\n",
       "      <td>Jan-16</td>\n",
       "      <td>0.0</td>\n",
       "    </tr>\n",
       "    <tr>\n",
       "      <th>6</th>\n",
       "      <td>1069639</td>\n",
       "      <td>1304742</td>\n",
       "      <td>7000</td>\n",
       "      <td>7000</td>\n",
       "      <td>7000.0</td>\n",
       "      <td>60 months</td>\n",
       "      <td>15.96%</td>\n",
       "      <td>170.08</td>\n",
       "      <td>C</td>\n",
       "      <td>C5</td>\n",
       "      <td>Southern Star Photography</td>\n",
       "      <td>8 years</td>\n",
       "      <td>RENT</td>\n",
       "      <td>47004.0</td>\n",
       "      <td>Not Verified</td>\n",
       "      <td>Dec-11</td>\n",
       "      <td>0</td>\n",
       "      <td>debt_consolidation</td>\n",
       "      <td>Loan</td>\n",
       "      <td>NC</td>\n",
       "      <td>23.51</td>\n",
       "      <td>0</td>\n",
       "      <td>Jul-05</td>\n",
       "      <td>1</td>\n",
       "      <td>7</td>\n",
       "      <td>0</td>\n",
       "      <td>17726</td>\n",
       "      <td>85.60%</td>\n",
       "      <td>11</td>\n",
       "      <td>10110.840000</td>\n",
       "      <td>10110.84</td>\n",
       "      <td>6985.61</td>\n",
       "      <td>3125.23</td>\n",
       "      <td>0.00</td>\n",
       "      <td>0.00</td>\n",
       "      <td>0.00</td>\n",
       "      <td>May-16</td>\n",
       "      <td>1313.76</td>\n",
       "      <td>May-16</td>\n",
       "      <td>0.0</td>\n",
       "    </tr>\n",
       "    <tr>\n",
       "      <th>7</th>\n",
       "      <td>1072053</td>\n",
       "      <td>1288686</td>\n",
       "      <td>3000</td>\n",
       "      <td>3000</td>\n",
       "      <td>3000.0</td>\n",
       "      <td>36 months</td>\n",
       "      <td>18.64%</td>\n",
       "      <td>109.43</td>\n",
       "      <td>E</td>\n",
       "      <td>E1</td>\n",
       "      <td>MKC Accounting</td>\n",
       "      <td>9 years</td>\n",
       "      <td>RENT</td>\n",
       "      <td>48000.0</td>\n",
       "      <td>Source Verified</td>\n",
       "      <td>Dec-11</td>\n",
       "      <td>0</td>\n",
       "      <td>car</td>\n",
       "      <td>Car Downpayment</td>\n",
       "      <td>CA</td>\n",
       "      <td>5.35</td>\n",
       "      <td>0</td>\n",
       "      <td>Jan-07</td>\n",
       "      <td>2</td>\n",
       "      <td>4</td>\n",
       "      <td>0</td>\n",
       "      <td>8221</td>\n",
       "      <td>87.50%</td>\n",
       "      <td>4</td>\n",
       "      <td>3939.135294</td>\n",
       "      <td>3939.14</td>\n",
       "      <td>3000.00</td>\n",
       "      <td>939.14</td>\n",
       "      <td>0.00</td>\n",
       "      <td>0.00</td>\n",
       "      <td>0.00</td>\n",
       "      <td>Jan-15</td>\n",
       "      <td>111.34</td>\n",
       "      <td>Dec-14</td>\n",
       "      <td>0.0</td>\n",
       "    </tr>\n",
       "  </tbody>\n",
       "</table>\n",
       "</div>"
      ],
      "text/plain": [
       "        id  member_id  loan_amnt  funded_amnt  funded_amnt_inv        term  \\\n",
       "1  1077430    1314167       2500         2500           2500.0   60 months   \n",
       "3  1076863    1277178      10000        10000          10000.0   36 months   \n",
       "5  1075269    1311441       5000         5000           5000.0   36 months   \n",
       "6  1069639    1304742       7000         7000           7000.0   60 months   \n",
       "7  1072053    1288686       3000         3000           3000.0   36 months   \n",
       "\n",
       "  int_rate  installment grade sub_grade                  emp_title emp_length  \\\n",
       "1   15.27%        59.83     C        C4                      Ryder   < 1 year   \n",
       "3   13.49%       339.31     C        C1        AIR RESOURCES BOARD  10+ years   \n",
       "5    7.90%       156.46     A        A4       Veolia Transportaton    3 years   \n",
       "6   15.96%       170.08     C        C5  Southern Star Photography    8 years   \n",
       "7   18.64%       109.43     E        E1            MKC Accounting     9 years   \n",
       "\n",
       "  home_ownership  annual_inc verification_status issue_d  loan_status  \\\n",
       "1           RENT     30000.0     Source Verified  Dec-11            1   \n",
       "3           RENT     49200.0     Source Verified  Dec-11            0   \n",
       "5           RENT     36000.0     Source Verified  Dec-11            0   \n",
       "6           RENT     47004.0        Not Verified  Dec-11            0   \n",
       "7           RENT     48000.0     Source Verified  Dec-11            0   \n",
       "\n",
       "              purpose                                  title addr_state  \\\n",
       "1                 car                                   bike         GA   \n",
       "3               other                               personel         CA   \n",
       "5             wedding  My wedding loan I promise to pay back         AZ   \n",
       "6  debt_consolidation                                   Loan         NC   \n",
       "7                 car                        Car Downpayment         CA   \n",
       "\n",
       "     dti  delinq_2yrs earliest_cr_line  inq_last_6mths  open_acc  pub_rec  \\\n",
       "1   1.00            0           Apr-99               5         3        0   \n",
       "3  20.00            0           Feb-96               1        10        0   \n",
       "5  11.20            0           Nov-04               3         9        0   \n",
       "6  23.51            0           Jul-05               1         7        0   \n",
       "7   5.35            0           Jan-07               2         4        0   \n",
       "\n",
       "   revol_bal revol_util  total_acc   total_pymnt  total_pymnt_inv  \\\n",
       "1       1687      9.40%          4   1008.710000          1008.71   \n",
       "3       5598        21%         37  12231.890000         12231.89   \n",
       "5       7963     28.30%         12   5632.210000          5632.21   \n",
       "6      17726     85.60%         11  10110.840000         10110.84   \n",
       "7       8221     87.50%          4   3939.135294          3939.14   \n",
       "\n",
       "   total_rec_prncp  total_rec_int  total_rec_late_fee  recoveries  \\\n",
       "1           456.46         435.17                0.00      117.08   \n",
       "3         10000.00        2214.92               16.97        0.00   \n",
       "5          5000.00         632.21                0.00        0.00   \n",
       "6          6985.61        3125.23                0.00        0.00   \n",
       "7          3000.00         939.14                0.00        0.00   \n",
       "\n",
       "   collection_recovery_fee last_pymnt_d  last_pymnt_amnt last_credit_pull_d  \\\n",
       "1                     1.11       Apr-13           119.66             Sep-13   \n",
       "3                     0.00       Jan-15           357.48             Apr-16   \n",
       "5                     0.00       Jan-15           161.03             Jan-16   \n",
       "6                     0.00       May-16          1313.76             May-16   \n",
       "7                     0.00       Jan-15           111.34             Dec-14   \n",
       "\n",
       "   pub_rec_bankruptcies  \n",
       "1                   0.0  \n",
       "3                   0.0  \n",
       "5                   0.0  \n",
       "6                   0.0  \n",
       "7                   0.0  "
      ]
     },
     "execution_count": 61,
     "metadata": {},
     "output_type": "execute_result"
    }
   ],
   "source": [
    "loan.head()"
   ]
  },
  {
   "cell_type": "code",
   "execution_count": 62,
   "metadata": {},
   "outputs": [],
   "source": [
    "drop_list = [\"funded_amnt\", \n",
    "             \"funded_amnt_inv\", \n",
    "             \"installment\", \n",
    "             \"total_pymnt\", \n",
    "             \"total_pymnt_inv\", \n",
    "             \"total_rec_prncp\", \n",
    "             \"total_rec_int\", \n",
    "             \"issue_d\", \n",
    "             \"title\",\n",
    "             \"earliest_cr_line\", \n",
    "             \"revol_util\", \n",
    "             \"last_pymnt_d\", \n",
    "             \"last_credit_pull_d\",\n",
    "             \"member_id\", \"pub_rec_bankruptcies\",\n",
    "             \"last_pymnt_amnt\",\n",
    "             \"collection_recovery_fee\",\n",
    "             \"recoveries\", \n",
    "             \"total_rec_late_fee\",\n",
    "             \"revol_bal\",\n",
    "             \"pub_rec\",\n",
    "             \"delinq_2yrs\",\n",
    "             \"inq_last_6mths\", \n",
    "             \"open_acc\"]\n"
   ]
  },
  {
   "cell_type": "code",
   "execution_count": 63,
   "metadata": {},
   "outputs": [],
   "source": [
    "loan.drop(drop_list,axis=1,inplace=True)"
   ]
  },
  {
   "cell_type": "code",
   "execution_count": 64,
   "metadata": {},
   "outputs": [
    {
     "data": {
      "text/plain": [
       "(35365, 16)"
      ]
     },
     "execution_count": 64,
     "metadata": {},
     "output_type": "execute_result"
    }
   ],
   "source": [
    "loan.shape"
   ]
  },
  {
   "cell_type": "markdown",
   "metadata": {},
   "source": [
    "Analysing **pupose.**"
   ]
  },
  {
   "cell_type": "markdown",
   "metadata": {},
   "source": [
    "We try to get risk ratio of purpose."
   ]
  },
  {
   "cell_type": "code",
   "execution_count": 65,
   "metadata": {},
   "outputs": [
    {
     "data": {
      "text/plain": [
       "purpose\n",
       "debt_consolidation    2508\n",
       "other                  546\n",
       "credit_card            479\n",
       "small_business         356\n",
       "home_improvement       296\n",
       "major_purchase         190\n",
       "car                    149\n",
       "medical                 95\n",
       "wedding                 83\n",
       "moving                  79\n",
       "house                   52\n",
       "vacation                49\n",
       "educational             45\n",
       "renewable_energy        15\n",
       "Name: loan_status, dtype: int64"
      ]
     },
     "execution_count": 65,
     "metadata": {},
     "output_type": "execute_result"
    }
   ],
   "source": [
    "# Charged off values.\n",
    "loan.groupby('purpose').loan_status.sum().sort_values(ascending=False)#/loan.purpose.value_counts()\n"
   ]
  },
  {
   "cell_type": "markdown",
   "metadata": {},
   "source": [
    "Risk Ratio of purpose."
   ]
  },
  {
   "cell_type": "code",
   "execution_count": 66,
   "metadata": {},
   "outputs": [],
   "source": [
    "purpose_risk = 100*(loan.groupby('purpose').loan_status.sum().sort_values(ascending=False)/loan.purpose.value_counts()).sort_values(ascending=False)"
   ]
  },
  {
   "cell_type": "code",
   "execution_count": 67,
   "metadata": {},
   "outputs": [
    {
     "data": {
      "text/plain": [
       "small_business        26.350851\n",
       "renewable_energy      17.241379\n",
       "educational           16.304348\n",
       "other                 15.771231\n",
       "house                 15.757576\n",
       "medical               15.273312\n",
       "moving                15.105163\n",
       "debt_consolidation    14.832338\n",
       "vacation              14.759036\n",
       "home_improvement      11.323642\n",
       "car                   10.681004\n",
       "credit_card           10.354518\n",
       "major_purchase         9.630005\n",
       "wedding                9.595376\n",
       "dtype: float64"
      ]
     },
     "execution_count": 67,
     "metadata": {},
     "output_type": "execute_result"
    }
   ],
   "source": [
    "purpose_risk"
   ]
  },
  {
   "cell_type": "code",
   "execution_count": 68,
   "metadata": {},
   "outputs": [
    {
     "data": {
      "text/plain": [
       "<AxesSubplot:>"
      ]
     },
     "execution_count": 68,
     "metadata": {},
     "output_type": "execute_result"
    },
    {
     "data": {
      "image/png": "[encoded data removed]",
      "text/plain": [
       "<Figure size 432x288 with 1 Axes>"
      ]
     },
     "metadata": {
      "needs_background": "light"
     },
     "output_type": "display_data"
    }
   ],
   "source": [
    "purpose_risk.plot.bar()"
   ]
  },
  {
   "cell_type": "code",
   "execution_count": 69,
   "metadata": {},
   "outputs": [
    {
     "data": {
      "text/plain": [
       "<AxesSubplot:ylabel='Density'>"
      ]
     },
     "execution_count": 69,
     "metadata": {},
     "output_type": "execute_result"
    },
    {
     "data": {
      "image/png": "[encoded data removed]",
      "text/plain": [
       "<Figure size 432x288 with 1 Axes>"
      ]
     },
     "metadata": {
      "needs_background": "light"
     },
     "output_type": "display_data"
    }
   ],
   "source": [
    "sns.distplot(a=purpose_risk)"
   ]
  },
  {
   "cell_type": "markdown",
   "metadata": {},
   "source": [
    "From above we can see that small business has a small loan applicartion percentage, but higher Default ratio of 26%.\n",
    "And wedding has minimum risk in purpose category"
   ]
  },
  {
   "cell_type": "markdown",
   "metadata": {},
   "source": [
    "Risk Score FOrmula is taken as:\n",
    "\n",
    "round(100*(max_val - min_val)/max_val)/max_val,2)\n",
    "\n",
    "This will give the sense of variation betwwen maximum and minimum value."
   ]
  },
  {
   "cell_type": "code",
   "execution_count": 70,
   "metadata": {},
   "outputs": [
    {
     "data": {
      "text/plain": [
       "63.59"
      ]
     },
     "execution_count": 70,
     "metadata": {},
     "output_type": "execute_result"
    }
   ],
   "source": [
    "purpose_risk_score = round(100*(purpose_risk.max() - purpose_risk.min())/purpose_risk.max(),2)\n",
    "purpose_risk_score"
   ]
  },
  {
   "cell_type": "markdown",
   "metadata": {},
   "source": [
    "Analysing Interest Rate"
   ]
  },
  {
   "cell_type": "code",
   "execution_count": 71,
   "metadata": {},
   "outputs": [
    {
     "data": {
      "text/plain": [
       "1        15.27%\n",
       "3        13.49%\n",
       "5         7.90%\n",
       "6        15.96%\n",
       "7        18.64%\n",
       "          ...  \n",
       "39433     9.83%\n",
       "39475     9.01%\n",
       "39551    10.91%\n",
       "39562    10.28%\n",
       "39623    12.49%\n",
       "Name: int_rate, Length: 35365, dtype: object"
      ]
     },
     "execution_count": 71,
     "metadata": {},
     "output_type": "execute_result"
    }
   ],
   "source": [
    "loan.int_rate"
   ]
  },
  {
   "cell_type": "code",
   "execution_count": 72,
   "metadata": {},
   "outputs": [],
   "source": [
    "#loan[\"int_rate_test\"] = pd.Series(list(map(lambda x : round(float(x.split('%')[0]),2),loan.int_rate)))"
   ]
  },
  {
   "cell_type": "code",
   "execution_count": 73,
   "metadata": {},
   "outputs": [],
   "source": [
    "loan[\"int_rate\"] = loan.int_rate.apply(lambda x: float(x[:-1]))"
   ]
  },
  {
   "cell_type": "code",
   "execution_count": 74,
   "metadata": {},
   "outputs": [
    {
     "data": {
      "text/html": [
       "<div>\n",
       "<style scoped>\n",
       "    .dataframe tbody tr th:only-of-type {\n",
       "        vertical-align: middle;\n",
       "    }\n",
       "\n",
       "    .dataframe tbody tr th {\n",
       "        vertical-align: top;\n",
       "    }\n",
       "\n",
       "    .dataframe thead th {\n",
       "        text-align: right;\n",
       "    }\n",
       "</style>\n",
       "<table border=\"1\" class=\"dataframe\">\n",
       "  <thead>\n",
       "    <tr style=\"text-align: right;\">\n",
       "      <th></th>\n",
       "      <th>id</th>\n",
       "      <th>loan_amnt</th>\n",
       "      <th>term</th>\n",
       "      <th>int_rate</th>\n",
       "      <th>grade</th>\n",
       "      <th>sub_grade</th>\n",
       "      <th>emp_title</th>\n",
       "      <th>emp_length</th>\n",
       "      <th>home_ownership</th>\n",
       "      <th>annual_inc</th>\n",
       "      <th>verification_status</th>\n",
       "      <th>loan_status</th>\n",
       "      <th>purpose</th>\n",
       "      <th>addr_state</th>\n",
       "      <th>dti</th>\n",
       "      <th>total_acc</th>\n",
       "    </tr>\n",
       "  </thead>\n",
       "  <tbody>\n",
       "    <tr>\n",
       "      <th>1</th>\n",
       "      <td>1077430</td>\n",
       "      <td>2500</td>\n",
       "      <td>60 months</td>\n",
       "      <td>15.27</td>\n",
       "      <td>C</td>\n",
       "      <td>C4</td>\n",
       "      <td>Ryder</td>\n",
       "      <td>&lt; 1 year</td>\n",
       "      <td>RENT</td>\n",
       "      <td>30000.0</td>\n",
       "      <td>Source Verified</td>\n",
       "      <td>1</td>\n",
       "      <td>car</td>\n",
       "      <td>GA</td>\n",
       "      <td>1.00</td>\n",
       "      <td>4</td>\n",
       "    </tr>\n",
       "    <tr>\n",
       "      <th>3</th>\n",
       "      <td>1076863</td>\n",
       "      <td>10000</td>\n",
       "      <td>36 months</td>\n",
       "      <td>13.49</td>\n",
       "      <td>C</td>\n",
       "      <td>C1</td>\n",
       "      <td>AIR RESOURCES BOARD</td>\n",
       "      <td>10+ years</td>\n",
       "      <td>RENT</td>\n",
       "      <td>49200.0</td>\n",
       "      <td>Source Verified</td>\n",
       "      <td>0</td>\n",
       "      <td>other</td>\n",
       "      <td>CA</td>\n",
       "      <td>20.00</td>\n",
       "      <td>37</td>\n",
       "    </tr>\n",
       "    <tr>\n",
       "      <th>5</th>\n",
       "      <td>1075269</td>\n",
       "      <td>5000</td>\n",
       "      <td>36 months</td>\n",
       "      <td>7.90</td>\n",
       "      <td>A</td>\n",
       "      <td>A4</td>\n",
       "      <td>Veolia Transportaton</td>\n",
       "      <td>3 years</td>\n",
       "      <td>RENT</td>\n",
       "      <td>36000.0</td>\n",
       "      <td>Source Verified</td>\n",
       "      <td>0</td>\n",
       "      <td>wedding</td>\n",
       "      <td>AZ</td>\n",
       "      <td>11.20</td>\n",
       "      <td>12</td>\n",
       "    </tr>\n",
       "    <tr>\n",
       "      <th>6</th>\n",
       "      <td>1069639</td>\n",
       "      <td>7000</td>\n",
       "      <td>60 months</td>\n",
       "      <td>15.96</td>\n",
       "      <td>C</td>\n",
       "      <td>C5</td>\n",
       "      <td>Southern Star Photography</td>\n",
       "      <td>8 years</td>\n",
       "      <td>RENT</td>\n",
       "      <td>47004.0</td>\n",
       "      <td>Not Verified</td>\n",
       "      <td>0</td>\n",
       "      <td>debt_consolidation</td>\n",
       "      <td>NC</td>\n",
       "      <td>23.51</td>\n",
       "      <td>11</td>\n",
       "    </tr>\n",
       "    <tr>\n",
       "      <th>7</th>\n",
       "      <td>1072053</td>\n",
       "      <td>3000</td>\n",
       "      <td>36 months</td>\n",
       "      <td>18.64</td>\n",
       "      <td>E</td>\n",
       "      <td>E1</td>\n",
       "      <td>MKC Accounting</td>\n",
       "      <td>9 years</td>\n",
       "      <td>RENT</td>\n",
       "      <td>48000.0</td>\n",
       "      <td>Source Verified</td>\n",
       "      <td>0</td>\n",
       "      <td>car</td>\n",
       "      <td>CA</td>\n",
       "      <td>5.35</td>\n",
       "      <td>4</td>\n",
       "    </tr>\n",
       "  </tbody>\n",
       "</table>\n",
       "</div>"
      ],
      "text/plain": [
       "        id  loan_amnt        term  int_rate grade sub_grade  \\\n",
       "1  1077430       2500   60 months     15.27     C        C4   \n",
       "3  1076863      10000   36 months     13.49     C        C1   \n",
       "5  1075269       5000   36 months      7.90     A        A4   \n",
       "6  1069639       7000   60 months     15.96     C        C5   \n",
       "7  1072053       3000   36 months     18.64     E        E1   \n",
       "\n",
       "                   emp_title emp_length home_ownership  annual_inc  \\\n",
       "1                      Ryder   < 1 year           RENT     30000.0   \n",
       "3        AIR RESOURCES BOARD  10+ years           RENT     49200.0   \n",
       "5       Veolia Transportaton    3 years           RENT     36000.0   \n",
       "6  Southern Star Photography    8 years           RENT     47004.0   \n",
       "7            MKC Accounting     9 years           RENT     48000.0   \n",
       "\n",
       "  verification_status  loan_status             purpose addr_state    dti  \\\n",
       "1     Source Verified            1                 car         GA   1.00   \n",
       "3     Source Verified            0               other         CA  20.00   \n",
       "5     Source Verified            0             wedding         AZ  11.20   \n",
       "6        Not Verified            0  debt_consolidation         NC  23.51   \n",
       "7     Source Verified            0                 car         CA   5.35   \n",
       "\n",
       "   total_acc  \n",
       "1          4  \n",
       "3         37  \n",
       "5         12  \n",
       "6         11  \n",
       "7          4  "
      ]
     },
     "execution_count": 74,
     "metadata": {},
     "output_type": "execute_result"
    }
   ],
   "source": [
    "loan.head()"
   ]
  },
  {
   "cell_type": "code",
   "execution_count": null,
   "metadata": {},
   "outputs": [],
   "source": []
  },
  {
   "cell_type": "code",
   "execution_count": null,
   "metadata": {},
   "outputs": [],
   "source": []
  },
  {
   "cell_type": "markdown",
   "metadata": {},
   "source": []
  },
  {
   "cell_type": "code",
   "execution_count": 75,
   "metadata": {},
   "outputs": [
    {
     "data": {
      "text/plain": [
       "count    35365.000000\n",
       "mean        11.983494\n",
       "std          3.702615\n",
       "min          5.420000\n",
       "25%          8.940000\n",
       "50%         11.830000\n",
       "75%         14.460000\n",
       "max         24.400000\n",
       "Name: int_rate, dtype: float64"
      ]
     },
     "execution_count": 75,
     "metadata": {},
     "output_type": "execute_result"
    }
   ],
   "source": [
    "#Getting rate of interest stats.\n",
    "loan.int_rate.describe()"
   ]
  },
  {
   "cell_type": "code",
   "execution_count": 76,
   "metadata": {},
   "outputs": [],
   "source": [
    "# Giving categorical value to range of interest rates. Binning for analysis, as there are a lot of unique values\n",
    "\n",
    "def int_rate_convert(x):\n",
    "    if x < 12:\n",
    "        return \"low\"\n",
    "    if ((x >= 12) and (x<=18)):\n",
    "        return \"medium\"\n",
    "    if x>18:\n",
    "        return \"high\""
   ]
  },
  {
   "cell_type": "code",
   "execution_count": 77,
   "metadata": {},
   "outputs": [],
   "source": [
    "loan.int_rate = loan.int_rate.apply(int_rate_convert)"
   ]
  },
  {
   "cell_type": "code",
   "execution_count": 78,
   "metadata": {},
   "outputs": [],
   "source": [
    "int_rate_risk = 100*(loan.groupby('int_rate').loan_status.sum().sort_values(ascending=False)/loan.int_rate.value_counts()).sort_values(ascending=False)"
   ]
  },
  {
   "cell_type": "code",
   "execution_count": 79,
   "metadata": {},
   "outputs": [
    {
     "data": {
      "text/plain": [
       "high      32.000000\n",
       "medium    18.224844\n",
       "low        8.632131\n",
       "dtype: float64"
      ]
     },
     "execution_count": 79,
     "metadata": {},
     "output_type": "execute_result"
    }
   ],
   "source": [
    "int_rate_risk"
   ]
  },
  {
   "cell_type": "code",
   "execution_count": 80,
   "metadata": {},
   "outputs": [
    {
     "data": {
      "text/plain": [
       "<AxesSubplot:>"
      ]
     },
     "execution_count": 80,
     "metadata": {},
     "output_type": "execute_result"
    },
    {
     "data": {
      "image/png": "[encoded data removed]",
      "text/plain": [
       "<Figure size 432x288 with 1 Axes>"
      ]
     },
     "metadata": {
      "needs_background": "light"
     },
     "output_type": "display_data"
    }
   ],
   "source": [
    "int_rate_risk.plot.bar()"
   ]
  },
  {
   "cell_type": "code",
   "execution_count": 81,
   "metadata": {},
   "outputs": [
    {
     "data": {
      "text/plain": [
       "73.02"
      ]
     },
     "execution_count": 81,
     "metadata": {},
     "output_type": "execute_result"
    }
   ],
   "source": [
    "int_rate_risk_score = round(100*(int_rate_risk.max() - int_rate_risk.min())/int_rate_risk.max(),2)\n",
    "int_rate_risk_score"
   ]
  },
  {
   "cell_type": "markdown",
   "metadata": {},
   "source": [
    "Analysing Loan Amount"
   ]
  },
  {
   "cell_type": "code",
   "execution_count": 82,
   "metadata": {},
   "outputs": [
    {
     "data": {
      "text/plain": [
       "count    35365.000000\n",
       "mean     11133.179697\n",
       "std       7326.276639\n",
       "min        500.000000\n",
       "25%       5500.000000\n",
       "50%      10000.000000\n",
       "75%      15000.000000\n",
       "max      35000.000000\n",
       "Name: loan_amnt, dtype: float64"
      ]
     },
     "execution_count": 82,
     "metadata": {},
     "output_type": "execute_result"
    }
   ],
   "source": [
    "loan.loan_amnt.describe()"
   ]
  },
  {
   "cell_type": "code",
   "execution_count": 83,
   "metadata": {},
   "outputs": [
    {
     "data": {
      "text/plain": [
       "<AxesSubplot:xlabel='loan_amnt'>"
      ]
     },
     "execution_count": 83,
     "metadata": {},
     "output_type": "execute_result"
    },
    {
     "data": {
      "image/png": "[encoded data removed]",
      "text/plain": [
       "<Figure size 432x288 with 1 Axes>"
      ]
     },
     "metadata": {
      "needs_background": "light"
     },
     "output_type": "display_data"
    }
   ],
   "source": [
    "sns.boxplot(loan.loan_amnt)"
   ]
  },
  {
   "cell_type": "markdown",
   "metadata": {},
   "source": [
    "Binning Loan amount in following range:\n",
    "* 0 - 10k               : Low\n",
    "* 10k - 20k             : Medium\n",
    "* greater than 20k      : High"
   ]
  },
  {
   "cell_type": "code",
   "execution_count": 84,
   "metadata": {},
   "outputs": [],
   "source": [
    "def loan_amt_convert(x):\n",
    "    if x < 10000 :\n",
    "        return \"low\"\n",
    "    if ((x >= 10000) and (x<=20000)):\n",
    "        return \"medium\"\n",
    "    if x>20000:\n",
    "        return \"high\""
   ]
  },
  {
   "cell_type": "code",
   "execution_count": 85,
   "metadata": {},
   "outputs": [],
   "source": [
    "loan.loan_amnt = loan.loan_amnt.apply(loan_amt_convert)"
   ]
  },
  {
   "cell_type": "code",
   "execution_count": 86,
   "metadata": {},
   "outputs": [
    {
     "data": {
      "text/plain": [
       "low       17592\n",
       "medium    13845\n",
       "high       3928\n",
       "Name: loan_amnt, dtype: int64"
      ]
     },
     "execution_count": 86,
     "metadata": {},
     "output_type": "execute_result"
    }
   ],
   "source": [
    "loan.loan_amnt.value_counts()"
   ]
  },
  {
   "cell_type": "code",
   "execution_count": 87,
   "metadata": {},
   "outputs": [],
   "source": [
    "loan_amnt_risk = 100*(loan.groupby('loan_amnt').loan_status.sum().sort_values(ascending=False)/loan.loan_amnt.value_counts()).sort_values(ascending=False)"
   ]
  },
  {
   "cell_type": "code",
   "execution_count": 88,
   "metadata": {},
   "outputs": [
    {
     "data": {
      "text/plain": [
       "loan_amnt\n",
       "high      19.653768\n",
       "medium    14.091730\n",
       "low       12.613688\n",
       "dtype: float64"
      ]
     },
     "execution_count": 88,
     "metadata": {},
     "output_type": "execute_result"
    }
   ],
   "source": [
    "loan_amnt_risk"
   ]
  },
  {
   "cell_type": "markdown",
   "metadata": {},
   "source": [
    "We can see that higher loan amount have higher risk of being \"Charged Off\".\n",
    "However "
   ]
  },
  {
   "cell_type": "code",
   "execution_count": 89,
   "metadata": {},
   "outputs": [
    {
     "data": {
      "text/plain": [
       "35.82"
      ]
     },
     "execution_count": 89,
     "metadata": {},
     "output_type": "execute_result"
    }
   ],
   "source": [
    "loan_amnt_risk_score = round(100*(loan_amnt_risk.max() - loan_amnt_risk.min())/loan_amnt_risk.max(),2)\n",
    "loan_amnt_risk_score"
   ]
  },
  {
   "cell_type": "markdown",
   "metadata": {},
   "source": [
    "Analysing term"
   ]
  },
  {
   "cell_type": "code",
   "execution_count": 90,
   "metadata": {},
   "outputs": [
    {
     "data": {
      "text/plain": [
       "count          35365\n",
       "unique             2\n",
       "top        36 months\n",
       "freq           26375\n",
       "Name: term, dtype: object"
      ]
     },
     "execution_count": 90,
     "metadata": {},
     "output_type": "execute_result"
    }
   ],
   "source": [
    "loan.term.describe()"
   ]
  },
  {
   "cell_type": "code",
   "execution_count": 91,
   "metadata": {},
   "outputs": [
    {
     "data": {
      "text/plain": [
       "<AxesSubplot:>"
      ]
     },
     "execution_count": 91,
     "metadata": {},
     "output_type": "execute_result"
    },
    {
     "data": {
      "image/png": "[encoded data removed]",
      "text/plain": [
       "<Figure size 432x288 with 1 Axes>"
      ]
     },
     "metadata": {
      "needs_background": "light"
     },
     "output_type": "display_data"
    }
   ],
   "source": [
    "loan.term.value_counts().plot.bar()"
   ]
  },
  {
   "cell_type": "code",
   "execution_count": 92,
   "metadata": {},
   "outputs": [],
   "source": [
    "loan_term_risk = 100*(loan.groupby('term').loan_status.sum().sort_values(ascending=False)/loan.term.value_counts()).sort_values(ascending=False)"
   ]
  },
  {
   "cell_type": "code",
   "execution_count": 93,
   "metadata": {},
   "outputs": [
    {
     "data": {
      "text/plain": [
       "term\n",
       " 60 months    24.616240\n",
       " 36 months    10.346919\n",
       "dtype: float64"
      ]
     },
     "execution_count": 93,
     "metadata": {},
     "output_type": "execute_result"
    }
   ],
   "source": [
    "loan_term_risk"
   ]
  },
  {
   "cell_type": "code",
   "execution_count": 94,
   "metadata": {},
   "outputs": [
    {
     "data": {
      "text/plain": [
       "57.97"
      ]
     },
     "execution_count": 94,
     "metadata": {},
     "output_type": "execute_result"
    }
   ],
   "source": [
    "loan_term_risk_score = round(100*(loan_term_risk.max() -loan_term_risk.min())/loan_term_risk.max(),2)\n",
    "loan_term_risk_score"
   ]
  },
  {
   "cell_type": "code",
   "execution_count": 95,
   "metadata": {},
   "outputs": [
    {
     "data": {
      "text/plain": [
       "<AxesSubplot:xlabel='term'>"
      ]
     },
     "execution_count": 95,
     "metadata": {},
     "output_type": "execute_result"
    },
    {
     "data": {
      "image/png": "[encoded data removed]",
      "text/plain": [
       "<Figure size 432x288 with 1 Axes>"
      ]
     },
     "metadata": {
      "needs_background": "light"
     },
     "output_type": "display_data"
    }
   ],
   "source": [
    "loan_term_risk.plot.bar()"
   ]
  },
  {
   "cell_type": "markdown",
   "metadata": {},
   "source": [
    "Analysing term Grade and sub-grade"
   ]
  },
  {
   "cell_type": "code",
   "execution_count": 96,
   "metadata": {},
   "outputs": [
    {
     "data": {
      "text/plain": [
       "count     35365\n",
       "unique        7\n",
       "top           B\n",
       "freq      10718\n",
       "Name: grade, dtype: object"
      ]
     },
     "execution_count": 96,
     "metadata": {},
     "output_type": "execute_result"
    }
   ],
   "source": [
    "loan.grade.describe()"
   ]
  },
  {
   "cell_type": "code",
   "execution_count": 97,
   "metadata": {},
   "outputs": [],
   "source": [
    "grade_grp = loan.groupby(['grade','sub_grade'])"
   ]
  },
  {
   "cell_type": "code",
   "execution_count": 98,
   "metadata": {},
   "outputs": [],
   "source": [
    "grade_risk = 100*(grade_grp.loan_status.sum()/grade_grp.loan_status.count())"
   ]
  },
  {
   "cell_type": "code",
   "execution_count": 99,
   "metadata": {},
   "outputs": [
    {
     "data": {
      "text/plain": [
       "<AxesSubplot:xlabel='grade,sub_grade'>"
      ]
     },
     "execution_count": 99,
     "metadata": {},
     "output_type": "execute_result"
    },
    {
     "data": {
      "image/png": "[encoded data removed]",
      "text/plain": [
       "<Figure size 1440x1440 with 1 Axes>"
      ]
     },
     "metadata": {
      "needs_background": "light"
     },
     "output_type": "display_data"
    }
   ],
   "source": [
    "grade_risk.plot.bar(figsize=(20,20))"
   ]
  },
  {
   "cell_type": "code",
   "execution_count": null,
   "metadata": {},
   "outputs": [],
   "source": []
  },
  {
   "cell_type": "code",
   "execution_count": 100,
   "metadata": {},
   "outputs": [
    {
     "data": {
      "text/plain": [
       "95.07"
      ]
     },
     "execution_count": 100,
     "metadata": {},
     "output_type": "execute_result"
    }
   ],
   "source": [
    "grade_risk_score = round(100*(grade_risk.max() - grade_risk.min())/grade_risk.max(),2)\n",
    "grade_risk_score"
   ]
  },
  {
   "cell_type": "markdown",
   "metadata": {},
   "source": [
    "Analysing emp_length"
   ]
  },
  {
   "cell_type": "code",
   "execution_count": 101,
   "metadata": {},
   "outputs": [
    {
     "data": {
      "text/html": [
       "<div>\n",
       "<style scoped>\n",
       "    .dataframe tbody tr th:only-of-type {\n",
       "        vertical-align: middle;\n",
       "    }\n",
       "\n",
       "    .dataframe tbody tr th {\n",
       "        vertical-align: top;\n",
       "    }\n",
       "\n",
       "    .dataframe thead th {\n",
       "        text-align: right;\n",
       "    }\n",
       "</style>\n",
       "<table border=\"1\" class=\"dataframe\">\n",
       "  <thead>\n",
       "    <tr style=\"text-align: right;\">\n",
       "      <th></th>\n",
       "      <th>id</th>\n",
       "      <th>loan_amnt</th>\n",
       "      <th>term</th>\n",
       "      <th>int_rate</th>\n",
       "      <th>grade</th>\n",
       "      <th>sub_grade</th>\n",
       "      <th>emp_title</th>\n",
       "      <th>emp_length</th>\n",
       "      <th>home_ownership</th>\n",
       "      <th>annual_inc</th>\n",
       "      <th>verification_status</th>\n",
       "      <th>loan_status</th>\n",
       "      <th>purpose</th>\n",
       "      <th>addr_state</th>\n",
       "      <th>dti</th>\n",
       "      <th>total_acc</th>\n",
       "    </tr>\n",
       "  </thead>\n",
       "  <tbody>\n",
       "    <tr>\n",
       "      <th>1</th>\n",
       "      <td>1077430</td>\n",
       "      <td>low</td>\n",
       "      <td>60 months</td>\n",
       "      <td>medium</td>\n",
       "      <td>C</td>\n",
       "      <td>C4</td>\n",
       "      <td>Ryder</td>\n",
       "      <td>&lt; 1 year</td>\n",
       "      <td>RENT</td>\n",
       "      <td>30000.0</td>\n",
       "      <td>Source Verified</td>\n",
       "      <td>1</td>\n",
       "      <td>car</td>\n",
       "      <td>GA</td>\n",
       "      <td>1.00</td>\n",
       "      <td>4</td>\n",
       "    </tr>\n",
       "    <tr>\n",
       "      <th>3</th>\n",
       "      <td>1076863</td>\n",
       "      <td>medium</td>\n",
       "      <td>36 months</td>\n",
       "      <td>medium</td>\n",
       "      <td>C</td>\n",
       "      <td>C1</td>\n",
       "      <td>AIR RESOURCES BOARD</td>\n",
       "      <td>10+ years</td>\n",
       "      <td>RENT</td>\n",
       "      <td>49200.0</td>\n",
       "      <td>Source Verified</td>\n",
       "      <td>0</td>\n",
       "      <td>other</td>\n",
       "      <td>CA</td>\n",
       "      <td>20.00</td>\n",
       "      <td>37</td>\n",
       "    </tr>\n",
       "    <tr>\n",
       "      <th>5</th>\n",
       "      <td>1075269</td>\n",
       "      <td>low</td>\n",
       "      <td>36 months</td>\n",
       "      <td>low</td>\n",
       "      <td>A</td>\n",
       "      <td>A4</td>\n",
       "      <td>Veolia Transportaton</td>\n",
       "      <td>3 years</td>\n",
       "      <td>RENT</td>\n",
       "      <td>36000.0</td>\n",
       "      <td>Source Verified</td>\n",
       "      <td>0</td>\n",
       "      <td>wedding</td>\n",
       "      <td>AZ</td>\n",
       "      <td>11.20</td>\n",
       "      <td>12</td>\n",
       "    </tr>\n",
       "    <tr>\n",
       "      <th>6</th>\n",
       "      <td>1069639</td>\n",
       "      <td>low</td>\n",
       "      <td>60 months</td>\n",
       "      <td>medium</td>\n",
       "      <td>C</td>\n",
       "      <td>C5</td>\n",
       "      <td>Southern Star Photography</td>\n",
       "      <td>8 years</td>\n",
       "      <td>RENT</td>\n",
       "      <td>47004.0</td>\n",
       "      <td>Not Verified</td>\n",
       "      <td>0</td>\n",
       "      <td>debt_consolidation</td>\n",
       "      <td>NC</td>\n",
       "      <td>23.51</td>\n",
       "      <td>11</td>\n",
       "    </tr>\n",
       "    <tr>\n",
       "      <th>7</th>\n",
       "      <td>1072053</td>\n",
       "      <td>low</td>\n",
       "      <td>36 months</td>\n",
       "      <td>high</td>\n",
       "      <td>E</td>\n",
       "      <td>E1</td>\n",
       "      <td>MKC Accounting</td>\n",
       "      <td>9 years</td>\n",
       "      <td>RENT</td>\n",
       "      <td>48000.0</td>\n",
       "      <td>Source Verified</td>\n",
       "      <td>0</td>\n",
       "      <td>car</td>\n",
       "      <td>CA</td>\n",
       "      <td>5.35</td>\n",
       "      <td>4</td>\n",
       "    </tr>\n",
       "  </tbody>\n",
       "</table>\n",
       "</div>"
      ],
      "text/plain": [
       "        id loan_amnt        term int_rate grade sub_grade  \\\n",
       "1  1077430       low   60 months   medium     C        C4   \n",
       "3  1076863    medium   36 months   medium     C        C1   \n",
       "5  1075269       low   36 months      low     A        A4   \n",
       "6  1069639       low   60 months   medium     C        C5   \n",
       "7  1072053       low   36 months     high     E        E1   \n",
       "\n",
       "                   emp_title emp_length home_ownership  annual_inc  \\\n",
       "1                      Ryder   < 1 year           RENT     30000.0   \n",
       "3        AIR RESOURCES BOARD  10+ years           RENT     49200.0   \n",
       "5       Veolia Transportaton    3 years           RENT     36000.0   \n",
       "6  Southern Star Photography    8 years           RENT     47004.0   \n",
       "7            MKC Accounting     9 years           RENT     48000.0   \n",
       "\n",
       "  verification_status  loan_status             purpose addr_state    dti  \\\n",
       "1     Source Verified            1                 car         GA   1.00   \n",
       "3     Source Verified            0               other         CA  20.00   \n",
       "5     Source Verified            0             wedding         AZ  11.20   \n",
       "6        Not Verified            0  debt_consolidation         NC  23.51   \n",
       "7     Source Verified            0                 car         CA   5.35   \n",
       "\n",
       "   total_acc  \n",
       "1          4  \n",
       "3         37  \n",
       "5         12  \n",
       "6         11  \n",
       "7          4  "
      ]
     },
     "execution_count": 101,
     "metadata": {},
     "output_type": "execute_result"
    }
   ],
   "source": [
    "loan.head()"
   ]
  },
  {
   "cell_type": "code",
   "execution_count": 102,
   "metadata": {},
   "outputs": [],
   "source": [
    "emp_length_risk = 100*loan.groupby('emp_length').loan_status.sum()/loan.groupby('emp_length').loan_status.count()"
   ]
  },
  {
   "cell_type": "markdown",
   "metadata": {},
   "source": [
    "As \"emp_length_risk\" for 1 year and <1 year is approx. same, clubbing them as they represent low level emp_length."
   ]
  },
  {
   "cell_type": "code",
   "execution_count": 103,
   "metadata": {},
   "outputs": [],
   "source": [
    "#Transforming employee length into numerical\n",
    "pattern = '\\d+'\n",
    "loan.emp_length = loan.emp_length.apply(lambda x : int(re.findall(pattern, x)[0]))"
   ]
  },
  {
   "cell_type": "code",
   "execution_count": 104,
   "metadata": {},
   "outputs": [
    {
     "data": {
      "text/plain": [
       "emp_length\n",
       "1     13.52\n",
       "2     12.94\n",
       "3     13.59\n",
       "4     13.32\n",
       "5     13.87\n",
       "6     13.92\n",
       "7     15.14\n",
       "8     14.03\n",
       "9     12.50\n",
       "10    15.36\n",
       "Name: loan_status, dtype: float64"
      ]
     },
     "execution_count": 104,
     "metadata": {},
     "output_type": "execute_result"
    }
   ],
   "source": [
    "#New risk ratio\n",
    "emp_length_risk = round(100*loan.groupby('emp_length').loan_status.sum()/loan.groupby('emp_length').loan_status.count(),2)\n",
    "emp_length_risk"
   ]
  },
  {
   "cell_type": "code",
   "execution_count": 105,
   "metadata": {},
   "outputs": [
    {
     "data": {
      "text/plain": [
       "<AxesSubplot:xlabel='emp_length'>"
      ]
     },
     "execution_count": 105,
     "metadata": {},
     "output_type": "execute_result"
    },
    {
     "data": {
      "image/png": "[encoded data removed]",
      "text/plain": [
       "<Figure size 432x288 with 1 Axes>"
      ]
     },
     "metadata": {
      "needs_background": "light"
     },
     "output_type": "display_data"
    }
   ],
   "source": [
    "emp_length_risk.plot.bar()"
   ]
  },
  {
   "cell_type": "code",
   "execution_count": 106,
   "metadata": {},
   "outputs": [
    {
     "data": {
      "text/plain": [
       "18.62"
      ]
     },
     "execution_count": 106,
     "metadata": {},
     "output_type": "execute_result"
    }
   ],
   "source": [
    "emp_length_risk_score = round(100*(emp_length_risk.max() - emp_length_risk.min())/emp_length_risk.max(),2)\n",
    "emp_length_risk_score"
   ]
  },
  {
   "cell_type": "markdown",
   "metadata": {},
   "source": [
    "Analysing Home Ownership"
   ]
  },
  {
   "cell_type": "code",
   "execution_count": 107,
   "metadata": {},
   "outputs": [
    {
     "data": {
      "text/plain": [
       "RENT        17065\n",
       "MORTGAGE    15701\n",
       "OWN          2505\n",
       "OTHER          94\n",
       "Name: home_ownership, dtype: int64"
      ]
     },
     "execution_count": 107,
     "metadata": {},
     "output_type": "execute_result"
    }
   ],
   "source": [
    "loan.home_ownership.value_counts()"
   ]
  },
  {
   "cell_type": "code",
   "execution_count": 108,
   "metadata": {},
   "outputs": [],
   "source": [
    "home_ownership_risk = 100*loan.groupby('home_ownership').loan_status.sum()/loan.groupby('home_ownership').loan_status.count()"
   ]
  },
  {
   "cell_type": "code",
   "execution_count": 109,
   "metadata": {},
   "outputs": [
    {
     "data": {
      "text/plain": [
       "home_ownership\n",
       "MORTGAGE    13.126552\n",
       "OTHER       19.148936\n",
       "OWN         13.812375\n",
       "RENT        14.749487\n",
       "Name: loan_status, dtype: float64"
      ]
     },
     "execution_count": 109,
     "metadata": {},
     "output_type": "execute_result"
    }
   ],
   "source": [
    "home_ownership_risk"
   ]
  },
  {
   "cell_type": "code",
   "execution_count": 110,
   "metadata": {},
   "outputs": [
    {
     "data": {
      "text/plain": [
       "<AxesSubplot:xlabel='home_ownership'>"
      ]
     },
     "execution_count": 110,
     "metadata": {},
     "output_type": "execute_result"
    },
    {
     "data": {
      "image/png": "[encoded data removed]",
      "text/plain": [
       "<Figure size 432x288 with 1 Axes>"
      ]
     },
     "metadata": {
      "needs_background": "light"
     },
     "output_type": "display_data"
    }
   ],
   "source": [
    "home_ownership_risk.plot.bar()"
   ]
  },
  {
   "cell_type": "code",
   "execution_count": 111,
   "metadata": {},
   "outputs": [
    {
     "data": {
      "text/plain": [
       "31.45"
      ]
     },
     "execution_count": 111,
     "metadata": {},
     "output_type": "execute_result"
    }
   ],
   "source": [
    "home_ownership_risk_score = round(100*(home_ownership_risk.max() - home_ownership_risk.min())/home_ownership_risk.max(),2)\n",
    "home_ownership_risk_score"
   ]
  },
  {
   "cell_type": "markdown",
   "metadata": {},
   "source": [
    "Analysing Annual Income"
   ]
  },
  {
   "cell_type": "code",
   "execution_count": 112,
   "metadata": {},
   "outputs": [
    {
     "data": {
      "text/plain": [
       "count    3.536500e+04\n",
       "mean     6.909774e+04\n",
       "std      6.396843e+04\n",
       "min      4.000000e+03\n",
       "25%      4.150000e+04\n",
       "50%      6.000000e+04\n",
       "75%      8.250000e+04\n",
       "max      6.000000e+06\n",
       "Name: annual_inc, dtype: float64"
      ]
     },
     "execution_count": 112,
     "metadata": {},
     "output_type": "execute_result"
    }
   ],
   "source": [
    "loan.annual_inc.describe()"
   ]
  },
  {
   "cell_type": "code",
   "execution_count": 113,
   "metadata": {},
   "outputs": [
    {
     "data": {
      "image/png": "[encoded data removed]",
      "text/plain": [
       "<Figure size 432x288 with 1 Axes>"
      ]
     },
     "metadata": {
      "needs_background": "light"
     },
     "output_type": "display_data"
    }
   ],
   "source": [
    "fig, ax = plt.subplots()\n",
    "ax.set_yscale(\"log\")\n",
    "\n",
    "loan.annual_inc.plot.box()\n",
    "plt.show()\n",
    "\n"
   ]
  },
  {
   "cell_type": "code",
   "execution_count": 114,
   "metadata": {},
   "outputs": [
    {
     "data": {
      "text/plain": [
       "8828"
      ]
     },
     "execution_count": 114,
     "metadata": {},
     "output_type": "execute_result"
    }
   ],
   "source": [
    "((loan.annual_inc > 82500)).sum()"
   ]
  },
  {
   "cell_type": "markdown",
   "metadata": {},
   "source": [
    "There are 8828 applications >75 quartile value."
   ]
  },
  {
   "cell_type": "code",
   "execution_count": 115,
   "metadata": {},
   "outputs": [],
   "source": [
    "# Giving categorical value to range of annual income. Binning for analysis, as there are a lot of unique values\n",
    "\n",
    "def annual_inc_convert(x):\n",
    "    if x < 50000:\n",
    "        return \"low_inc\"\n",
    "    if ((x >= 50000) and (x<=80000)):\n",
    "        return \"med_inc\"\n",
    "    if x>80000:\n",
    "        return \"high_inc\""
   ]
  },
  {
   "cell_type": "code",
   "execution_count": 116,
   "metadata": {},
   "outputs": [],
   "source": [
    "loan.annual_inc = loan.annual_inc.apply(annual_inc_convert)"
   ]
  },
  {
   "cell_type": "code",
   "execution_count": 117,
   "metadata": {},
   "outputs": [
    {
     "data": {
      "text/plain": [
       "med_inc     13315\n",
       "low_inc     12787\n",
       "high_inc     9263\n",
       "Name: annual_inc, dtype: int64"
      ]
     },
     "execution_count": 117,
     "metadata": {},
     "output_type": "execute_result"
    }
   ],
   "source": [
    "loan.annual_inc.value_counts()"
   ]
  },
  {
   "cell_type": "code",
   "execution_count": 118,
   "metadata": {},
   "outputs": [],
   "source": [
    "annual_inc_risk = 100*loan.groupby('annual_inc').loan_status.sum()/loan.groupby('annual_inc').loan_status.count()"
   ]
  },
  {
   "cell_type": "code",
   "execution_count": 119,
   "metadata": {},
   "outputs": [
    {
     "data": {
      "text/plain": [
       "annual_inc\n",
       "low_inc     16.344725\n",
       "med_inc     13.879084\n",
       "high_inc    10.838821\n",
       "Name: loan_status, dtype: float64"
      ]
     },
     "execution_count": 119,
     "metadata": {},
     "output_type": "execute_result"
    }
   ],
   "source": [
    "annual_inc_risk.sort_values(ascending=False)"
   ]
  },
  {
   "cell_type": "code",
   "execution_count": 120,
   "metadata": {},
   "outputs": [
    {
     "data": {
      "text/plain": [
       "<AxesSubplot:xlabel='annual_inc'>"
      ]
     },
     "execution_count": 120,
     "metadata": {},
     "output_type": "execute_result"
    },
    {
     "data": {
      "image/png": "[encoded data removed]",
      "text/plain": [
       "<Figure size 432x288 with 1 Axes>"
      ]
     },
     "metadata": {
      "needs_background": "light"
     },
     "output_type": "display_data"
    }
   ],
   "source": [
    "annual_inc_risk.plot.bar()"
   ]
  },
  {
   "cell_type": "markdown",
   "metadata": {},
   "source": [
    "This suggests that as the income increases the loan risk decreases.\n",
    "The risk of default is higher in applications woth higher incomes."
   ]
  },
  {
   "cell_type": "code",
   "execution_count": 121,
   "metadata": {},
   "outputs": [
    {
     "data": {
      "text/plain": [
       "33.69"
      ]
     },
     "execution_count": 121,
     "metadata": {},
     "output_type": "execute_result"
    }
   ],
   "source": [
    "annual_inc_risk_score = round(100*(annual_inc_risk.max() - annual_inc_risk.min())/annual_inc_risk.max(),2)\n",
    "annual_inc_risk_score"
   ]
  },
  {
   "cell_type": "markdown",
   "metadata": {},
   "source": [
    "Analysing Verification Status"
   ]
  },
  {
   "cell_type": "code",
   "execution_count": 122,
   "metadata": {},
   "outputs": [
    {
     "data": {
      "text/plain": [
       "Not Verified       14838\n",
       "Verified           11363\n",
       "Source Verified     9164\n",
       "Name: verification_status, dtype: int64"
      ]
     },
     "execution_count": 122,
     "metadata": {},
     "output_type": "execute_result"
    }
   ],
   "source": [
    "loan.verification_status.value_counts()"
   ]
  },
  {
   "cell_type": "code",
   "execution_count": 123,
   "metadata": {},
   "outputs": [
    {
     "data": {
      "text/plain": [
       "verification_status\n",
       "Not Verified       1769\n",
       "Source Verified    1322\n",
       "Verified           1851\n",
       "Name: loan_status, dtype: int64"
      ]
     },
     "execution_count": 123,
     "metadata": {},
     "output_type": "execute_result"
    }
   ],
   "source": [
    "loan.groupby('verification_status').loan_status.sum()"
   ]
  },
  {
   "cell_type": "code",
   "execution_count": 124,
   "metadata": {},
   "outputs": [],
   "source": [
    "verification_status_risk = (100*loan.groupby('verification_status').loan_status.sum()/loan.groupby('verification_status').loan_status.count()).sort_values(ascending=False)"
   ]
  },
  {
   "cell_type": "code",
   "execution_count": 125,
   "metadata": {},
   "outputs": [
    {
     "data": {
      "text/plain": [
       "verification_status\n",
       "Verified           16.289712\n",
       "Source Verified    14.426015\n",
       "Not Verified       11.922092\n",
       "Name: loan_status, dtype: float64"
      ]
     },
     "execution_count": 125,
     "metadata": {},
     "output_type": "execute_result"
    }
   ],
   "source": [
    "verification_status_risk"
   ]
  },
  {
   "cell_type": "code",
   "execution_count": 126,
   "metadata": {},
   "outputs": [
    {
     "data": {
      "text/plain": [
       "<AxesSubplot:xlabel='verification_status'>"
      ]
     },
     "execution_count": 126,
     "metadata": {},
     "output_type": "execute_result"
    },
    {
     "data": {
      "image/png": "[encoded data removed]",
      "text/plain": [
       "<Figure size 432x288 with 1 Axes>"
      ]
     },
     "metadata": {
      "needs_background": "light"
     },
     "output_type": "display_data"
    }
   ],
   "source": [
    "verification_status_risk.plot.bar()"
   ]
  },
  {
   "cell_type": "code",
   "execution_count": 127,
   "metadata": {},
   "outputs": [
    {
     "data": {
      "text/plain": [
       "26.81"
      ]
     },
     "execution_count": 127,
     "metadata": {},
     "output_type": "execute_result"
    }
   ],
   "source": [
    "verification_risk_score = round(100*(verification_status_risk.max() - verification_status_risk.min())/verification_status_risk.max(),2)\n",
    "verification_risk_score"
   ]
  },
  {
   "cell_type": "markdown",
   "metadata": {},
   "source": [
    "As Risk ratio we see that Verified applicants are riskier. Kind of counter intuitive, but that what data says!"
   ]
  },
  {
   "cell_type": "markdown",
   "metadata": {},
   "source": [
    "Analysing dti"
   ]
  },
  {
   "cell_type": "code",
   "execution_count": 128,
   "metadata": {},
   "outputs": [
    {
     "data": {
      "text/plain": [
       "count    35365.000000\n",
       "mean        13.404126\n",
       "std          6.636652\n",
       "min          0.000000\n",
       "25%          8.320000\n",
       "50%         13.500000\n",
       "75%         18.640000\n",
       "max         29.990000\n",
       "Name: dti, dtype: float64"
      ]
     },
     "execution_count": 128,
     "metadata": {},
     "output_type": "execute_result"
    }
   ],
   "source": [
    "loan.dti.describe()"
   ]
  },
  {
   "cell_type": "code",
   "execution_count": 129,
   "metadata": {},
   "outputs": [],
   "source": [
    "# Giving categorical value to range of dti. Binning for analysis, as there are a lot of unique values\n",
    "\n",
    "def dti_convert(x):\n",
    "    if x < 10:\n",
    "        return \"low_dti\"\n",
    "    if ((x >= 10) and (x<=20)):\n",
    "        return \"med_dti\"\n",
    "    if x>20:\n",
    "        return \"high_dti\""
   ]
  },
  {
   "cell_type": "code",
   "execution_count": 130,
   "metadata": {},
   "outputs": [],
   "source": [
    "loan.dti = loan.dti.apply(dti_convert)"
   ]
  },
  {
   "cell_type": "code",
   "execution_count": 131,
   "metadata": {},
   "outputs": [
    {
     "data": {
      "text/plain": [
       "med_dti     17095\n",
       "low_dti     11531\n",
       "high_dti     6739\n",
       "Name: dti, dtype: int64"
      ]
     },
     "execution_count": 131,
     "metadata": {},
     "output_type": "execute_result"
    }
   ],
   "source": [
    "loan.dti.value_counts()"
   ]
  },
  {
   "cell_type": "code",
   "execution_count": 132,
   "metadata": {},
   "outputs": [],
   "source": [
    "dti_risk = 100*loan.groupby('dti').loan_status.sum()/loan.groupby('dti').loan_status.count()"
   ]
  },
  {
   "cell_type": "code",
   "execution_count": 133,
   "metadata": {},
   "outputs": [
    {
     "data": {
      "text/plain": [
       "dti\n",
       "high_dti    16.040956\n",
       "med_dti     14.612460\n",
       "low_dti     11.820310\n",
       "Name: loan_status, dtype: float64"
      ]
     },
     "execution_count": 133,
     "metadata": {},
     "output_type": "execute_result"
    }
   ],
   "source": [
    "dti_risk.sort_values(ascending=False)"
   ]
  },
  {
   "cell_type": "code",
   "execution_count": 134,
   "metadata": {},
   "outputs": [
    {
     "data": {
      "text/plain": [
       "<AxesSubplot:>"
      ]
     },
     "execution_count": 134,
     "metadata": {},
     "output_type": "execute_result"
    },
    {
     "data": {
      "image/png": "[encoded data removed]",
      "text/plain": [
       "<Figure size 432x288 with 1 Axes>"
      ]
     },
     "metadata": {
      "needs_background": "light"
     },
     "output_type": "display_data"
    }
   ],
   "source": [
    "dti_risk.plot.box()"
   ]
  },
  {
   "cell_type": "markdown",
   "metadata": {},
   "source": [
    "As the debt to income ratio increases default risk increases."
   ]
  },
  {
   "cell_type": "code",
   "execution_count": 135,
   "metadata": {},
   "outputs": [
    {
     "data": {
      "text/plain": [
       "26.31"
      ]
     },
     "execution_count": 135,
     "metadata": {},
     "output_type": "execute_result"
    }
   ],
   "source": [
    "dti_risk_score = round(100*(dti_risk.max() - dti_risk.min())/dti_risk.max(),2)\n",
    "dti_risk_score"
   ]
  },
  {
   "cell_type": "markdown",
   "metadata": {},
   "source": [
    "### RIsk Score Analysis"
   ]
  },
  {
   "cell_type": "markdown",
   "metadata": {},
   "source": [
    "Forming a dataframe for the variables analysed."
   ]
  },
  {
   "cell_type": "code",
   "execution_count": 136,
   "metadata": {},
   "outputs": [],
   "source": [
    "risk_scores = [purpose_risk_score,\n",
    "                int_rate_risk_score,\n",
    "                loan_amnt_risk_score,\n",
    "                loan_term_risk_score,\n",
    "                grade_risk_score,\n",
    "                emp_length_risk_score,\n",
    "                home_ownership_risk_score,\n",
    "                annual_inc_risk_score,\n",
    "                verification_risk_score,\n",
    "                dti_risk_score]"
   ]
  },
  {
   "cell_type": "code",
   "execution_count": 137,
   "metadata": {},
   "outputs": [],
   "source": [
    "indexes =      [\"purpose\",\n",
    "                \"int_rate\",\n",
    "                \"loan_amnt\",\n",
    "                \"term\",\n",
    "                \"grade\",\n",
    "                \"emp_length\",\n",
    "                \"home_ownership\",\n",
    "                \"annual_inc\",\n",
    "                \"verification_status\",\n",
    "                \"dti\"]"
   ]
  },
  {
   "cell_type": "code",
   "execution_count": 138,
   "metadata": {},
   "outputs": [],
   "source": [
    "r_max =      [purpose_risk.max(),\n",
    "                int_rate_risk.max(),\n",
    "                loan_amnt_risk.max(),\n",
    "                loan_term_risk.max(),\n",
    "                grade_risk.max(),\n",
    "                emp_length_risk.max(),\n",
    "                home_ownership_risk.max(),\n",
    "                annual_inc_risk.max(),\n",
    "                verification_status_risk.max(),\n",
    "                dti_risk.max()]"
   ]
  },
  {
   "cell_type": "code",
   "execution_count": 139,
   "metadata": {},
   "outputs": [],
   "source": [
    "r_min =      [purpose_risk.min(),\n",
    "                int_rate_risk.min(),\n",
    "                loan_amnt_risk.min(),\n",
    "                loan_term_risk.min(),\n",
    "                grade_risk.min(),\n",
    "                emp_length_risk.min(),\n",
    "                home_ownership_risk.min(),\n",
    "                annual_inc_risk.min(),\n",
    "                verification_status_risk.min(),\n",
    "                dti_risk.min()]"
   ]
  },
  {
   "cell_type": "code",
   "execution_count": null,
   "metadata": {},
   "outputs": [],
   "source": []
  },
  {
   "cell_type": "code",
   "execution_count": 140,
   "metadata": {},
   "outputs": [],
   "source": [
    "univariate_factors = {\n",
    "                      'risk_scores':risk_scores,\n",
    "                      'indexes' : indexes,\n",
    "                      'r_max' : r_max,\n",
    "                      'r_min' : r_min\n",
    "                     }"
   ]
  },
  {
   "cell_type": "code",
   "execution_count": 141,
   "metadata": {},
   "outputs": [],
   "source": [
    "uni_df = pd.DataFrame(data=univariate_factors)"
   ]
  },
  {
   "cell_type": "code",
   "execution_count": 142,
   "metadata": {},
   "outputs": [],
   "source": [
    "uni_df = uni_df.set_index('indexes')"
   ]
  },
  {
   "cell_type": "code",
   "execution_count": 143,
   "metadata": {},
   "outputs": [],
   "source": [
    "uni_df = uni_df.sort_values(by='risk_scores',ascending=False)"
   ]
  },
  {
   "cell_type": "code",
   "execution_count": 144,
   "metadata": {},
   "outputs": [],
   "source": [
    "uni_df['r_diff'] = uni_df.r_max - uni_df.r_min"
   ]
  },
  {
   "cell_type": "code",
   "execution_count": 145,
   "metadata": {},
   "outputs": [
    {
     "data": {
      "text/html": [
       "<div>\n",
       "<style scoped>\n",
       "    .dataframe tbody tr th:only-of-type {\n",
       "        vertical-align: middle;\n",
       "    }\n",
       "\n",
       "    .dataframe tbody tr th {\n",
       "        vertical-align: top;\n",
       "    }\n",
       "\n",
       "    .dataframe thead th {\n",
       "        text-align: right;\n",
       "    }\n",
       "</style>\n",
       "<table border=\"1\" class=\"dataframe\">\n",
       "  <thead>\n",
       "    <tr style=\"text-align: right;\">\n",
       "      <th></th>\n",
       "      <th>risk_scores</th>\n",
       "      <th>r_max</th>\n",
       "      <th>r_min</th>\n",
       "      <th>r_diff</th>\n",
       "    </tr>\n",
       "    <tr>\n",
       "      <th>indexes</th>\n",
       "      <th></th>\n",
       "      <th></th>\n",
       "      <th></th>\n",
       "      <th></th>\n",
       "    </tr>\n",
       "  </thead>\n",
       "  <tbody>\n",
       "    <tr>\n",
       "      <th>grade</th>\n",
       "      <td>95.07</td>\n",
       "      <td>46.464646</td>\n",
       "      <td>2.288557</td>\n",
       "      <td>44.176089</td>\n",
       "    </tr>\n",
       "    <tr>\n",
       "      <th>int_rate</th>\n",
       "      <td>73.02</td>\n",
       "      <td>32.000000</td>\n",
       "      <td>8.632131</td>\n",
       "      <td>23.367869</td>\n",
       "    </tr>\n",
       "    <tr>\n",
       "      <th>purpose</th>\n",
       "      <td>63.59</td>\n",
       "      <td>26.350851</td>\n",
       "      <td>9.595376</td>\n",
       "      <td>16.755475</td>\n",
       "    </tr>\n",
       "    <tr>\n",
       "      <th>term</th>\n",
       "      <td>57.97</td>\n",
       "      <td>24.616240</td>\n",
       "      <td>10.346919</td>\n",
       "      <td>14.269321</td>\n",
       "    </tr>\n",
       "    <tr>\n",
       "      <th>loan_amnt</th>\n",
       "      <td>35.82</td>\n",
       "      <td>19.653768</td>\n",
       "      <td>12.613688</td>\n",
       "      <td>7.040080</td>\n",
       "    </tr>\n",
       "    <tr>\n",
       "      <th>annual_inc</th>\n",
       "      <td>33.69</td>\n",
       "      <td>16.344725</td>\n",
       "      <td>10.838821</td>\n",
       "      <td>5.505904</td>\n",
       "    </tr>\n",
       "    <tr>\n",
       "      <th>home_ownership</th>\n",
       "      <td>31.45</td>\n",
       "      <td>19.148936</td>\n",
       "      <td>13.126552</td>\n",
       "      <td>6.022384</td>\n",
       "    </tr>\n",
       "    <tr>\n",
       "      <th>verification_status</th>\n",
       "      <td>26.81</td>\n",
       "      <td>16.289712</td>\n",
       "      <td>11.922092</td>\n",
       "      <td>4.367620</td>\n",
       "    </tr>\n",
       "    <tr>\n",
       "      <th>dti</th>\n",
       "      <td>26.31</td>\n",
       "      <td>16.040956</td>\n",
       "      <td>11.820310</td>\n",
       "      <td>4.220645</td>\n",
       "    </tr>\n",
       "    <tr>\n",
       "      <th>emp_length</th>\n",
       "      <td>18.62</td>\n",
       "      <td>15.360000</td>\n",
       "      <td>12.500000</td>\n",
       "      <td>2.860000</td>\n",
       "    </tr>\n",
       "  </tbody>\n",
       "</table>\n",
       "</div>"
      ],
      "text/plain": [
       "                     risk_scores      r_max      r_min     r_diff\n",
       "indexes                                                          \n",
       "grade                      95.07  46.464646   2.288557  44.176089\n",
       "int_rate                   73.02  32.000000   8.632131  23.367869\n",
       "purpose                    63.59  26.350851   9.595376  16.755475\n",
       "term                       57.97  24.616240  10.346919  14.269321\n",
       "loan_amnt                  35.82  19.653768  12.613688   7.040080\n",
       "annual_inc                 33.69  16.344725  10.838821   5.505904\n",
       "home_ownership             31.45  19.148936  13.126552   6.022384\n",
       "verification_status        26.81  16.289712  11.922092   4.367620\n",
       "dti                        26.31  16.040956  11.820310   4.220645\n",
       "emp_length                 18.62  15.360000  12.500000   2.860000"
      ]
     },
     "execution_count": 145,
     "metadata": {},
     "output_type": "execute_result"
    }
   ],
   "source": [
    "uni_df"
   ]
  },
  {
   "cell_type": "code",
   "execution_count": 146,
   "metadata": {},
   "outputs": [
    {
     "data": {
      "text/plain": [
       "<AxesSubplot:>"
      ]
     },
     "execution_count": 146,
     "metadata": {},
     "output_type": "execute_result"
    },
    {
     "data": {
      "image/png": "[encoded data removed]",
      "text/plain": [
       "<Figure size 432x288 with 1 Axes>"
      ]
     },
     "metadata": {
      "needs_background": "light"
     },
     "output_type": "display_data"
    }
   ],
   "source": [
    "uni_df.risk_scores.plot.box()"
   ]
  },
  {
   "cell_type": "code",
   "execution_count": 147,
   "metadata": {},
   "outputs": [
    {
     "data": {
      "text/plain": [
       "<AxesSubplot:xlabel='risk_scores'>"
      ]
     },
     "execution_count": 147,
     "metadata": {},
     "output_type": "execute_result"
    },
    {
     "data": {
      "image/png": "[encoded data removed]",
      "text/plain": [
       "<Figure size 432x288 with 1 Axes>"
      ]
     },
     "metadata": {
      "needs_background": "light"
     },
     "output_type": "display_data"
    }
   ],
   "source": [
    "sns.boxplot(uni_df.risk_scores)"
   ]
  },
  {
   "cell_type": "code",
   "execution_count": 148,
   "metadata": {},
   "outputs": [
    {
     "data": {
      "text/html": [
       "<div>\n",
       "<style scoped>\n",
       "    .dataframe tbody tr th:only-of-type {\n",
       "        vertical-align: middle;\n",
       "    }\n",
       "\n",
       "    .dataframe tbody tr th {\n",
       "        vertical-align: top;\n",
       "    }\n",
       "\n",
       "    .dataframe thead th {\n",
       "        text-align: right;\n",
       "    }\n",
       "</style>\n",
       "<table border=\"1\" class=\"dataframe\">\n",
       "  <thead>\n",
       "    <tr style=\"text-align: right;\">\n",
       "      <th></th>\n",
       "      <th>risk_scores</th>\n",
       "      <th>r_max</th>\n",
       "      <th>r_min</th>\n",
       "      <th>r_diff</th>\n",
       "    </tr>\n",
       "  </thead>\n",
       "  <tbody>\n",
       "    <tr>\n",
       "      <th>count</th>\n",
       "      <td>10.000000</td>\n",
       "      <td>10.000000</td>\n",
       "      <td>10.000000</td>\n",
       "      <td>10.000000</td>\n",
       "    </tr>\n",
       "    <tr>\n",
       "      <th>mean</th>\n",
       "      <td>46.235000</td>\n",
       "      <td>23.226983</td>\n",
       "      <td>10.368445</td>\n",
       "      <td>12.858539</td>\n",
       "    </tr>\n",
       "    <tr>\n",
       "      <th>std</th>\n",
       "      <td>24.860879</td>\n",
       "      <td>9.815302</td>\n",
       "      <td>3.176865</td>\n",
       "      <td>12.865716</td>\n",
       "    </tr>\n",
       "    <tr>\n",
       "      <th>min</th>\n",
       "      <td>18.620000</td>\n",
       "      <td>15.360000</td>\n",
       "      <td>2.288557</td>\n",
       "      <td>2.860000</td>\n",
       "    </tr>\n",
       "    <tr>\n",
       "      <th>25%</th>\n",
       "      <td>27.970000</td>\n",
       "      <td>16.303465</td>\n",
       "      <td>9.783262</td>\n",
       "      <td>4.652191</td>\n",
       "    </tr>\n",
       "    <tr>\n",
       "      <th>50%</th>\n",
       "      <td>34.755000</td>\n",
       "      <td>19.401352</td>\n",
       "      <td>11.329566</td>\n",
       "      <td>6.531232</td>\n",
       "    </tr>\n",
       "    <tr>\n",
       "      <th>75%</th>\n",
       "      <td>62.185000</td>\n",
       "      <td>25.917198</td>\n",
       "      <td>12.355523</td>\n",
       "      <td>16.133937</td>\n",
       "    </tr>\n",
       "    <tr>\n",
       "      <th>max</th>\n",
       "      <td>95.070000</td>\n",
       "      <td>46.464646</td>\n",
       "      <td>13.126552</td>\n",
       "      <td>44.176089</td>\n",
       "    </tr>\n",
       "  </tbody>\n",
       "</table>\n",
       "</div>"
      ],
      "text/plain": [
       "       risk_scores      r_max      r_min     r_diff\n",
       "count    10.000000  10.000000  10.000000  10.000000\n",
       "mean     46.235000  23.226983  10.368445  12.858539\n",
       "std      24.860879   9.815302   3.176865  12.865716\n",
       "min      18.620000  15.360000   2.288557   2.860000\n",
       "25%      27.970000  16.303465   9.783262   4.652191\n",
       "50%      34.755000  19.401352  11.329566   6.531232\n",
       "75%      62.185000  25.917198  12.355523  16.133937\n",
       "max      95.070000  46.464646  13.126552  44.176089"
      ]
     },
     "execution_count": 148,
     "metadata": {},
     "output_type": "execute_result"
    }
   ],
   "source": [
    "uni_df.describe()"
   ]
  },
  {
   "cell_type": "markdown",
   "metadata": {},
   "source": [
    "From above we observe that:\n",
    "1. mean > median.\n",
    "2. high SD.\n",
    "3. Greater dieefernce between higher quartile parameters than lower quartile parameter\n",
    "\n",
    "Since we are factoring factors affecting the dafaule ratio most we will select the values greater than mean based on our above observation.<br>\n",
    "These parameters would be **\"grade\"**, **\"Interest Rate\"**, **\"Purpose\"**, **\"term\"**."
   ]
  },
  {
   "cell_type": "code",
   "execution_count": null,
   "metadata": {},
   "outputs": [],
   "source": []
  },
  {
   "cell_type": "markdown",
   "metadata": {},
   "source": [
    "### Bivariate Analysis"
   ]
  },
  {
   "cell_type": "markdown",
   "metadata": {},
   "source": [
    "c_loan and n_loan are described in Data cleaning part.<br>\n",
    "c_loan represents categorical attributes in original frame.<br>\n",
    "n_loan represents numeric attributes in original data frame.<br>"
   ]
  },
  {
   "cell_type": "code",
   "execution_count": 149,
   "metadata": {},
   "outputs": [
    {
     "data": {
      "text/plain": [
       "term                       2\n",
       "int_rate                 333\n",
       "grade                      7\n",
       "sub_grade                 35\n",
       "emp_title              27412\n",
       "emp_length                11\n",
       "home_ownership             4\n",
       "verification_status        3\n",
       "issue_d                   51\n",
       "loan_status                2\n",
       "purpose                   14\n",
       "title                  17660\n",
       "addr_state                48\n",
       "earliest_cr_line         509\n",
       "revol_util              1081\n",
       "last_pymnt_d              97\n",
       "last_credit_pull_d        96\n",
       "emp_years                 11\n",
       "dtype: int64"
      ]
     },
     "execution_count": 149,
     "metadata": {},
     "output_type": "execute_result"
    }
   ],
   "source": [
    "c_loan.nunique()"
   ]
  },
  {
   "cell_type": "markdown",
   "metadata": {},
   "source": [
    "On basis of uni-variate analysis and number of unique values of attributes dropping following:<br>\n",
    "* term\n",
    "* grade\n",
    "* emp_length\n",
    "* home_ownership\n",
    "* verification_status\n",
    "* loan_status\n",
    "* purpose"
   ]
  },
  {
   "cell_type": "code",
   "execution_count": 150,
   "metadata": {},
   "outputs": [],
   "source": [
    "drop_list = [ 'term',\n",
    "            'grade',\n",
    "            'emp_length',\n",
    "            'home_ownership',\n",
    "            'verification_status',\n",
    "            'purpose']"
   ]
  },
  {
   "cell_type": "code",
   "execution_count": 151,
   "metadata": {},
   "outputs": [],
   "source": [
    "c_loan.drop(drop_list,axis=1,inplace=True)"
   ]
  },
  {
   "cell_type": "code",
   "execution_count": 152,
   "metadata": {},
   "outputs": [],
   "source": [
    "c_loan[\"int_rate\"] = c_loan.int_rate.apply(lambda x: float(x[:-1]))"
   ]
  },
  {
   "cell_type": "code",
   "execution_count": 153,
   "metadata": {},
   "outputs": [],
   "source": [
    "c_loan.int_rate = c_loan.int_rate.apply(int_rate_convert)"
   ]
  },
  {
   "cell_type": "markdown",
   "metadata": {},
   "source": [
    "Plotting Numeric variable vs Categorical variables:"
   ]
  },
  {
   "cell_type": "code",
   "execution_count": 154,
   "metadata": {},
   "outputs": [
    {
     "data": {
      "text/html": [
       "<div>\n",
       "<style scoped>\n",
       "    .dataframe tbody tr th:only-of-type {\n",
       "        vertical-align: middle;\n",
       "    }\n",
       "\n",
       "    .dataframe tbody tr th {\n",
       "        vertical-align: top;\n",
       "    }\n",
       "\n",
       "    .dataframe thead th {\n",
       "        text-align: right;\n",
       "    }\n",
       "</style>\n",
       "<table border=\"1\" class=\"dataframe\">\n",
       "  <thead>\n",
       "    <tr style=\"text-align: right;\">\n",
       "      <th></th>\n",
       "      <th>int_rate</th>\n",
       "      <th>sub_grade</th>\n",
       "      <th>emp_title</th>\n",
       "      <th>issue_d</th>\n",
       "      <th>loan_status</th>\n",
       "      <th>title</th>\n",
       "      <th>addr_state</th>\n",
       "      <th>earliest_cr_line</th>\n",
       "      <th>revol_util</th>\n",
       "      <th>last_pymnt_d</th>\n",
       "      <th>last_credit_pull_d</th>\n",
       "      <th>emp_years</th>\n",
       "    </tr>\n",
       "  </thead>\n",
       "  <tbody>\n",
       "    <tr>\n",
       "      <th>1</th>\n",
       "      <td>medium</td>\n",
       "      <td>C4</td>\n",
       "      <td>Ryder</td>\n",
       "      <td>Dec-11</td>\n",
       "      <td>Charged Off</td>\n",
       "      <td>bike</td>\n",
       "      <td>GA</td>\n",
       "      <td>Apr-99</td>\n",
       "      <td>9.40%</td>\n",
       "      <td>Apr-13</td>\n",
       "      <td>Sep-13</td>\n",
       "      <td>&lt;</td>\n",
       "    </tr>\n",
       "    <tr>\n",
       "      <th>3</th>\n",
       "      <td>medium</td>\n",
       "      <td>C1</td>\n",
       "      <td>AIR RESOURCES BOARD</td>\n",
       "      <td>Dec-11</td>\n",
       "      <td>Fully Paid</td>\n",
       "      <td>personel</td>\n",
       "      <td>CA</td>\n",
       "      <td>Feb-96</td>\n",
       "      <td>21%</td>\n",
       "      <td>Jan-15</td>\n",
       "      <td>Apr-16</td>\n",
       "      <td>10+</td>\n",
       "    </tr>\n",
       "    <tr>\n",
       "      <th>5</th>\n",
       "      <td>low</td>\n",
       "      <td>A4</td>\n",
       "      <td>Veolia Transportaton</td>\n",
       "      <td>Dec-11</td>\n",
       "      <td>Fully Paid</td>\n",
       "      <td>My wedding loan I promise to pay back</td>\n",
       "      <td>AZ</td>\n",
       "      <td>Nov-04</td>\n",
       "      <td>28.30%</td>\n",
       "      <td>Jan-15</td>\n",
       "      <td>Jan-16</td>\n",
       "      <td>3</td>\n",
       "    </tr>\n",
       "    <tr>\n",
       "      <th>6</th>\n",
       "      <td>medium</td>\n",
       "      <td>C5</td>\n",
       "      <td>Southern Star Photography</td>\n",
       "      <td>Dec-11</td>\n",
       "      <td>Fully Paid</td>\n",
       "      <td>Loan</td>\n",
       "      <td>NC</td>\n",
       "      <td>Jul-05</td>\n",
       "      <td>85.60%</td>\n",
       "      <td>May-16</td>\n",
       "      <td>May-16</td>\n",
       "      <td>8</td>\n",
       "    </tr>\n",
       "    <tr>\n",
       "      <th>7</th>\n",
       "      <td>high</td>\n",
       "      <td>E1</td>\n",
       "      <td>MKC Accounting</td>\n",
       "      <td>Dec-11</td>\n",
       "      <td>Fully Paid</td>\n",
       "      <td>Car Downpayment</td>\n",
       "      <td>CA</td>\n",
       "      <td>Jan-07</td>\n",
       "      <td>87.50%</td>\n",
       "      <td>Jan-15</td>\n",
       "      <td>Dec-14</td>\n",
       "      <td>9</td>\n",
       "    </tr>\n",
       "  </tbody>\n",
       "</table>\n",
       "</div>"
      ],
      "text/plain": [
       "  int_rate sub_grade                  emp_title issue_d  loan_status  \\\n",
       "1   medium        C4                      Ryder  Dec-11  Charged Off   \n",
       "3   medium        C1        AIR RESOURCES BOARD  Dec-11   Fully Paid   \n",
       "5      low        A4       Veolia Transportaton  Dec-11   Fully Paid   \n",
       "6   medium        C5  Southern Star Photography  Dec-11   Fully Paid   \n",
       "7     high        E1            MKC Accounting   Dec-11   Fully Paid   \n",
       "\n",
       "                                   title addr_state earliest_cr_line  \\\n",
       "1                                   bike         GA           Apr-99   \n",
       "3                               personel         CA           Feb-96   \n",
       "5  My wedding loan I promise to pay back         AZ           Nov-04   \n",
       "6                                   Loan         NC           Jul-05   \n",
       "7                        Car Downpayment         CA           Jan-07   \n",
       "\n",
       "  revol_util last_pymnt_d last_credit_pull_d emp_years  \n",
       "1      9.40%       Apr-13             Sep-13         <  \n",
       "3        21%       Jan-15             Apr-16       10+  \n",
       "5     28.30%       Jan-15             Jan-16         3  \n",
       "6     85.60%       May-16             May-16         8  \n",
       "7     87.50%       Jan-15             Dec-14         9  "
      ]
     },
     "execution_count": 154,
     "metadata": {},
     "output_type": "execute_result"
    }
   ],
   "source": [
    "c_loan.head()"
   ]
  },
  {
   "cell_type": "code",
   "execution_count": 155,
   "metadata": {},
   "outputs": [],
   "source": [
    "loan_2 = pd.concat([c_loan, n_loan], axis=1)"
   ]
  },
  {
   "cell_type": "code",
   "execution_count": 156,
   "metadata": {},
   "outputs": [],
   "source": [
    "drop_list = [\"id\",\n",
    "             \"funded_amnt\", \n",
    "             \"funded_amnt_inv\", \n",
    "             \"installment\", \n",
    "             \"total_pymnt\", \n",
    "             \"total_pymnt_inv\", \n",
    "             \"total_rec_prncp\", \n",
    "             \"total_rec_int\", \n",
    "             \"member_id\",\n",
    "             \"last_pymnt_amnt\",\n",
    "             \"collection_recovery_fee\",\n",
    "             \"recoveries\", \n",
    "             \"total_rec_late_fee\",\n",
    "             \"revol_bal\",\n",
    "             ]"
   ]
  },
  {
   "cell_type": "code",
   "execution_count": 157,
   "metadata": {},
   "outputs": [],
   "source": [
    "n_loan.drop(drop_list,axis=1,inplace=True)"
   ]
  },
  {
   "cell_type": "code",
   "execution_count": 158,
   "metadata": {},
   "outputs": [
    {
     "data": {
      "text/html": [
       "<div>\n",
       "<style scoped>\n",
       "    .dataframe tbody tr th:only-of-type {\n",
       "        vertical-align: middle;\n",
       "    }\n",
       "\n",
       "    .dataframe tbody tr th {\n",
       "        vertical-align: top;\n",
       "    }\n",
       "\n",
       "    .dataframe thead th {\n",
       "        text-align: right;\n",
       "    }\n",
       "</style>\n",
       "<table border=\"1\" class=\"dataframe\">\n",
       "  <thead>\n",
       "    <tr style=\"text-align: right;\">\n",
       "      <th></th>\n",
       "      <th>loan_amnt</th>\n",
       "      <th>annual_inc</th>\n",
       "      <th>dti</th>\n",
       "      <th>delinq_2yrs</th>\n",
       "      <th>inq_last_6mths</th>\n",
       "      <th>open_acc</th>\n",
       "      <th>pub_rec</th>\n",
       "      <th>total_acc</th>\n",
       "      <th>pub_rec_bankruptcies</th>\n",
       "    </tr>\n",
       "  </thead>\n",
       "  <tbody>\n",
       "    <tr>\n",
       "      <th>1</th>\n",
       "      <td>2500</td>\n",
       "      <td>30000.0</td>\n",
       "      <td>1.00</td>\n",
       "      <td>0</td>\n",
       "      <td>5</td>\n",
       "      <td>3</td>\n",
       "      <td>0</td>\n",
       "      <td>4</td>\n",
       "      <td>0.0</td>\n",
       "    </tr>\n",
       "    <tr>\n",
       "      <th>3</th>\n",
       "      <td>10000</td>\n",
       "      <td>49200.0</td>\n",
       "      <td>20.00</td>\n",
       "      <td>0</td>\n",
       "      <td>1</td>\n",
       "      <td>10</td>\n",
       "      <td>0</td>\n",
       "      <td>37</td>\n",
       "      <td>0.0</td>\n",
       "    </tr>\n",
       "    <tr>\n",
       "      <th>5</th>\n",
       "      <td>5000</td>\n",
       "      <td>36000.0</td>\n",
       "      <td>11.20</td>\n",
       "      <td>0</td>\n",
       "      <td>3</td>\n",
       "      <td>9</td>\n",
       "      <td>0</td>\n",
       "      <td>12</td>\n",
       "      <td>0.0</td>\n",
       "    </tr>\n",
       "    <tr>\n",
       "      <th>6</th>\n",
       "      <td>7000</td>\n",
       "      <td>47004.0</td>\n",
       "      <td>23.51</td>\n",
       "      <td>0</td>\n",
       "      <td>1</td>\n",
       "      <td>7</td>\n",
       "      <td>0</td>\n",
       "      <td>11</td>\n",
       "      <td>0.0</td>\n",
       "    </tr>\n",
       "    <tr>\n",
       "      <th>7</th>\n",
       "      <td>3000</td>\n",
       "      <td>48000.0</td>\n",
       "      <td>5.35</td>\n",
       "      <td>0</td>\n",
       "      <td>2</td>\n",
       "      <td>4</td>\n",
       "      <td>0</td>\n",
       "      <td>4</td>\n",
       "      <td>0.0</td>\n",
       "    </tr>\n",
       "  </tbody>\n",
       "</table>\n",
       "</div>"
      ],
      "text/plain": [
       "   loan_amnt  annual_inc    dti  delinq_2yrs  inq_last_6mths  open_acc  \\\n",
       "1       2500     30000.0   1.00            0               5         3   \n",
       "3      10000     49200.0  20.00            0               1        10   \n",
       "5       5000     36000.0  11.20            0               3         9   \n",
       "6       7000     47004.0  23.51            0               1         7   \n",
       "7       3000     48000.0   5.35            0               2         4   \n",
       "\n",
       "   pub_rec  total_acc  pub_rec_bankruptcies  \n",
       "1        0          4                   0.0  \n",
       "3        0         37                   0.0  \n",
       "5        0         12                   0.0  \n",
       "6        0         11                   0.0  \n",
       "7        0          4                   0.0  "
      ]
     },
     "execution_count": 158,
     "metadata": {},
     "output_type": "execute_result"
    }
   ],
   "source": [
    "n_loan.head()"
   ]
  },
  {
   "cell_type": "code",
   "execution_count": 159,
   "metadata": {},
   "outputs": [],
   "source": [
    "# number of rows in subplot with 3 coulmn\n",
    "\n",
    "num_rows = math.ceil(len(n_loan.columns)*len(c_loan.columns)/3)"
   ]
  },
  {
   "cell_type": "code",
   "execution_count": 160,
   "metadata": {},
   "outputs": [
    {
     "data": {
      "text/plain": [
       "12"
      ]
     },
     "execution_count": 160,
     "metadata": {},
     "output_type": "execute_result"
    }
   ],
   "source": [
    "len(c_loan.columns)"
   ]
  },
  {
   "cell_type": "code",
   "execution_count": 161,
   "metadata": {},
   "outputs": [
    {
     "data": {
      "text/plain": [
       "36"
      ]
     },
     "execution_count": 161,
     "metadata": {},
     "output_type": "execute_result"
    }
   ],
   "source": [
    "num_rows"
   ]
  },
  {
   "cell_type": "code",
   "execution_count": null,
   "metadata": {},
   "outputs": [],
   "source": []
  },
  {
   "cell_type": "code",
   "execution_count": null,
   "metadata": {},
   "outputs": [],
   "source": []
  },
  {
   "cell_type": "code",
   "execution_count": null,
   "metadata": {},
   "outputs": [],
   "source": []
  },
  {
   "cell_type": "code",
   "execution_count": null,
   "metadata": {},
   "outputs": [
    {
     "data": {
      "text/plain": [
       "<Figure size 432x288 with 0 Axes>"
      ]
     },
     "metadata": {},
     "output_type": "display_data"
    },
    {
     "data": {
      "image/png": "[encoded data removed]",
      "text/plain": [
       "<Figure size 2880x2880 with 1 Axes>"
      ]
     },
     "metadata": {
      "needs_background": "light"
     },
     "output_type": "display_data"
    },
    {
     "data": {
      "image/png": "[encoded data removed]",
      "text/plain": [
       "<Figure size 2880x2880 with 1 Axes>"
      ]
     },
     "metadata": {
      "needs_background": "light"
     },
     "output_type": "display_data"
    },
    {
     "data": {
      "image/png": "[encoded data removed]",
      "text/plain": [
       "<Figure size 2880x2880 with 1 Axes>"
      ]
     },
     "metadata": {
      "needs_background": "light"
     },
     "output_type": "display_data"
    },
    {
     "data": {
      "image/png": "[encoded data removed]",
      "text/plain": [
       "<Figure size 2880x2880 with 1 Axes>"
      ]
     },
     "metadata": {
      "needs_background": "light"
     },
     "output_type": "display_data"
    },
    {
     "data": {
      "image/png": "[encoded data removed]",
      "text/plain": [
       "<Figure size 2880x2880 with 1 Axes>"
      ]
     },
     "metadata": {
      "needs_background": "light"
     },
     "output_type": "display_data"
    },
    {
     "data": {
      "image/png": "[encoded data removed]",
      "text/plain": [
       "<Figure size 2880x2880 with 1 Axes>"
      ]
     },
     "metadata": {
      "needs_background": "light"
     },
     "output_type": "display_data"
    },
    {
     "data": {
      "image/png": "[encoded data removed]",
      "text/plain": [
       "<Figure size 2880x2880 with 1 Axes>"
      ]
     },
     "metadata": {
      "needs_background": "light"
     },
     "output_type": "display_data"
    },
    {
     "data": {
      "image/png": "[encoded data removed]",
      "text/plain": [
       "<Figure size 2880x2880 with 1 Axes>"
      ]
     },
     "metadata": {
      "needs_background": "light"
     },
     "output_type": "display_data"
    },
    {
     "data": {
      "image/png": "[encoded data removed]",
      "text/plain": [
       "<Figure size 2880x2880 with 1 Axes>"
      ]
     },
     "metadata": {
      "needs_background": "light"
     },
     "output_type": "display_data"
    },
    {
     "data": {
      "image/png": "[encoded data removed]",
      "text/plain": [
       "<Figure size 2880x2880 with 1 Axes>"
      ]
     },
     "metadata": {
      "needs_background": "light"
     },
     "output_type": "display_data"
    },
    {
     "data": {
      "image/png": "[encoded data removed]",
      "text/plain": [
       "<Figure size 2880x2880 with 1 Axes>"
      ]
     },
     "metadata": {
      "needs_background": "light"
     },
     "output_type": "display_data"
    },
    {
     "data": {
      "image/png": "[encoded data removed]",
      "text/plain": [
       "<Figure size 2880x2880 with 1 Axes>"
      ]
     },
     "metadata": {
      "needs_background": "light"
     },
     "output_type": "display_data"
    },
    {
     "data": {
      "image/png": "[encoded data removed]",
      "text/plain": [
       "<Figure size 2880x2880 with 1 Axes>"
      ]
     },
     "metadata": {
      "needs_background": "light"
     },
     "output_type": "display_data"
    },
    {
     "data": {
      "image/png": "[encoded data removed]",
      "text/plain": [
       "<Figure size 2880x2880 with 1 Axes>"
      ]
     },
     "metadata": {
      "needs_background": "light"
     },
     "output_type": "display_data"
    },
    {
     "data": {
      "image/png": "[encoded data removed]",
      "text/plain": [
       "<Figure size 2880x2880 with 1 Axes>"
      ]
     },
     "metadata": {
      "needs_background": "light"
     },
     "output_type": "display_data"
    },
    {
     "data": {
      "image/png": "[encoded data removed]",
      "text/plain": [
       "<Figure size 2880x2880 with 1 Axes>"
      ]
     },
     "metadata": {
      "needs_background": "light"
     },
     "output_type": "display_data"
    },
    {
     "data": {
      "image/png": "[encoded data removed]",
      "text/plain": [
       "<Figure size 2880x2880 with 1 Axes>"
      ]
     },
     "metadata": {
      "needs_background": "light"
     },
     "output_type": "display_data"
    },
    {
     "data": {
      "image/png": "[encoded data removed]",
      "text/plain": [
       "<Figure size 2880x2880 with 1 Axes>"
      ]
     },
     "metadata": {
      "needs_background": "light"
     },
     "output_type": "display_data"
    }
   ],
   "source": [
    "#fig, axes = plt.subplots(num_rows, 3)\n",
    "i=0 # an iterator;\n",
    "#plt.figure(figsize=(7,7))\n",
    "#sns.boxplot( x=\"int_rate\", y=\"loan_amnt\", data=loan_2)\n",
    "#plt.show()\n",
    "fig = plt.figure()\n",
    "#fig = plt.figure(figsize=(40,40))\n",
    "for x_val in c_loan:\n",
    "    for y_val in n_loan:\n",
    "        fig = plt.figure(figsize=(40,40))\n",
    "        ax = fig.add_subplot(int(num_rows/3), 3, i+1)\n",
    "        sns.boxplot( x=x_val, y=y_val, data=loan_2.sort_values(by=x_val))\n",
    "        plt.show()\n",
    "        i=i+1\n"
   ]
  },
  {
   "cell_type": "code",
   "execution_count": null,
   "metadata": {},
   "outputs": [],
   "source": [
    "x_val"
   ]
  },
  {
   "cell_type": "code",
   "execution_count": null,
   "metadata": {},
   "outputs": [],
   "source": []
  },
  {
   "cell_type": "code",
   "execution_count": null,
   "metadata": {},
   "outputs": [],
   "source": []
  },
  {
   "cell_type": "code",
   "execution_count": null,
   "metadata": {},
   "outputs": [],
   "source": []
  },
  {
   "cell_type": "code",
   "execution_count": null,
   "metadata": {},
   "outputs": [],
   "source": []
  }
 ],
 "metadata": {
  "kernelspec": {
   "display_name": "Python 3",
   "language": "python",
   "name": "python3"
  },
  "language_info": {
   "codemirror_mode": {
    "name": "ipython",
    "version": 3
   },
   "file_extension": ".py",
   "mimetype": "text/x-python",
   "name": "python",
   "nbconvert_exporter": "python",
   "pygments_lexer": "ipython3",
   "version": "3.8.5"
  }
 },
 "nbformat": 4,
 "nbformat_minor": 4
}
